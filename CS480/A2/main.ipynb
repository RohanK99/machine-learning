{
 "cells": [
  {
   "cell_type": "markdown",
   "metadata": {},
   "source": [
    "# Assignment 2"
   ]
  },
  {
   "cell_type": "markdown",
   "metadata": {},
   "source": [
    "Loading and cleaning data"
   ]
  },
  {
   "cell_type": "code",
   "execution_count": 158,
   "metadata": {},
   "outputs": [],
   "source": [
    "# Scientific and vector computation for python\n",
    "import numpy as np\n",
    "\n",
    "# Data Manipulation Library\n",
    "import pandas as pd\n",
    "\n",
    "# Plotting library\n",
    "from matplotlib import pyplot\n",
    "\n",
    "# inline graphs\n",
    "%matplotlib inline\n",
    "\n",
    "# Optimization module in scipy\n",
    "from scipy import optimize\n",
    "\n",
    "# import KFold library for splitting dataset\n",
    "from sklearn.model_selection import KFold\n",
    "\n",
    "# data url\n",
    "github_url = 'https://raw.githubusercontent.com/RohanK99/machine-learning/master/CS480/A1/knn-dataset/'"
   ]
  },
  {
   "cell_type": "code",
   "execution_count": 206,
   "metadata": {},
   "outputs": [],
   "source": [
    "# read training data\n",
    "training_data = []\n",
    "training_labels = []\n",
    "for i in range(10):\n",
    "    # training data\n",
    "    url = github_url + 'trainData{}.csv'.format(i+1)\n",
    "    data = pd.read_csv(url, header=None)\n",
    "    training_data.append(data)\n",
    "    # training labels\n",
    "    url = github_url + 'trainLabels{}.csv'.format(i+1)\n",
    "    data = pd.read_csv(url, header=None)\n",
    "    training_labels.append(data)\n",
    "\n",
    "# concatenate data into 1 large data set and convert to numpy\n",
    "X = (pd.concat(training_data)).to_numpy()\n",
    "X = np.c_[np.ones(X.shape[0]), X] # add column of ones\n",
    "y = ((pd.concat(training_labels)).to_numpy())[:,0] # first column"
   ]
  },
  {
   "cell_type": "code",
   "execution_count": 207,
   "metadata": {},
   "outputs": [],
   "source": [
    "# read test data\n",
    "data_url = github_url + 'testData.csv'\n",
    "label_url = github_url + 'testLabels.csv'\n",
    "data = pd.read_csv(data_url, header=None)\n",
    "t_X = data.to_numpy()\n",
    "t_X = np.c_[np.ones(t_X.shape[0]), t_X] # add column of ones\n",
    "labels = pd.read_csv(label_url, header=None)\n",
    "t_y = labels.to_numpy()[:,0]"
   ]
  },
  {
   "cell_type": "markdown",
   "metadata": {},
   "source": [
    "## Question 1\n",
    "### a) \n",
    "Mixture of Gaussians: let $\\pi = P(y = C_1)$ and $1 - \\pi=P(y = C_2)$. Let $P(x|C_1)=N(x|\\mu_1, \\Sigma)$ and $P(x|C_2) = N(x|\\mu_2, \\Sigma)$. Learn the parameters $\\pi$, $\\mu_1$, $\\mu_2$ and $\\Sigma$ by likelihood maximization. Use Bayes theorem to compute the probability of each class given an input $x: P(C_j|x) = k P(C_j) P(x|C_j)$."
   ]
  },
  {
   "cell_type": "markdown",
   "metadata": {},
   "source": [
    "We can express the Likelihood of our training set as $L(X,y) = P(X,y|\\pi,\\mu_1,\\mu_2,\\Sigma)$. We want to maximize the likelihood in order to use Bayes inference.\n",
    "$$\n",
    "\\begin{align*}\n",
    "L(X,y) &= \\prod_{n}{[\\pi|\\mu_1, \\Sigma]^{y_n}[(1-\\pi)|N(x_n|\\mu_2,\\Sigma)]^{1-y_n}}\\\\\n",
    "\\end{align*}\n",
    "$$\n",
    "Taking the log we can turn this into an optimization problem of finding\n",
    "$$\n",
    "\\begin{align*}\n",
    "&= argmax_{\\pi, \\mu_1, \\mu_2, \\Sigma} \\sum _{n}{y_n[ln\\pi - \\frac{1}{2}(x_n - \\mu_1)^T \\Sigma^{-1}(x_n-\\mu_1)]+(1-y_n)[ln\\pi - \\frac{1}{2}(x_n - \\mu_2)^T \\Sigma^{-1}(x_n-\\mu_2)]}\\\\\n",
    "\\end{align*}\n",
    "$$"
   ]
  },
  {
   "cell_type": "code",
   "execution_count": 167,
   "metadata": {},
   "outputs": [],
   "source": [
    "# Define classes\n",
    "c_1 = y == 5\n",
    "c_2 = y == 6"
   ]
  },
  {
   "cell_type": "markdown",
   "metadata": {},
   "source": [
    "Now to estimate $\\pi$ (probability of class) we can take:\n",
    "$$\n",
    "\\begin{align*}\n",
    "0 &= \\frac{\\partial lnL(X,y)}{\\partial \\pi} \\\\\n",
    "\\pi &= \\frac{\\sum_n{y_n}}{N} \\\\\n",
    "\\end{align*}\n",
    "$$\n"
   ]
  },
  {
   "cell_type": "code",
   "execution_count": 233,
   "metadata": {},
   "outputs": [
    {
     "output_type": "stream",
     "name": "stdout",
     "text": "pi is: 0.5\n"
    }
   ],
   "source": [
    "pi = np.count_nonzero(c_1)/y.shape[0]\n",
    "print(\"pi is: \" + str(pi))"
   ]
  },
  {
   "cell_type": "markdown",
   "metadata": {},
   "source": [
    "Now to estimate $\\mu_1$ and $\\mu_2$ (mean of classes) we can take:\n",
    "$$\n",
    "\\begin{align*}\n",
    "0 &= \\frac{\\partial lnL(X,y)}{\\partial \\mu_1} \\\\\n",
    "\\mu_1 &= \\frac{\\sum_n{y_n}{x_n}}{N_1} \\\\\n",
    "\\end{align*}\n",
    "$$\n",
    "\n",
    "and \n",
    "\n",
    "$$\n",
    "\\begin{align*}\n",
    "0 &= \\frac{\\partial lnL(X,y)}{\\partial \\mu_2} \\\\\n",
    "\\mu_2 &= \\frac{\\sum_n{(1-y_n)}{x_n}}{N_2} \\\\\n",
    "\\end{align*}\n",
    "$$"
   ]
  },
  {
   "cell_type": "code",
   "execution_count": 234,
   "metadata": {},
   "outputs": [
    {
     "output_type": "stream",
     "name": "stdout",
     "text": "mu_1 is: [ 1.     4.846  4.902  8.28   9.858 10.68   9.342  6.198  4.602  4.978\n  5.998 10.498  9.662  8.448  7.66   5.322  4.412  4.438  6.36  10.02\n  6.84   5.6    4.764  4.436  4.366  4.758  6.392 10.126  9.514  7.924\n  6.302  4.532  4.64   4.812  5.274  7.596  7.948  8.518  7.668  5.634\n  4.226  4.612  4.718  4.924  5.762  7.362  8.612  5.764  4.408  4.29\n  5.038  7.032  7.762  8.782  7.908  5.516  4.548  4.456  4.758  8.606\n 10.226  8.702  6.198  5.002  4.944]\nmu_2 is: [ 1.     5.158  4.954  5.654  9.55   8.618  5.482  5.478  4.896  4.782\n  4.75   8.194 10.272  7.03   5.272  4.864  4.736  4.864  5.058  9.814\n  8.438  4.92   5.068  4.762  4.882  4.686  5.76  10.572  8.02   6.306\n  5.47   5.154  4.664  4.988  6.278 10.67   9.814  9.532  8.804  5.84\n  4.588  4.832  5.732 10.402  9.132  7.756  9.324  8.338  4.732  4.704\n  5.334  9.224  9.968  7.304  9.668  8.934  4.968  4.932  5.002  5.84\n  9.202 10.99   9.72   6.41   5.186]\n"
    }
   ],
   "source": [
    "mu_1 = np.mean(X[c_1], axis=0)\n",
    "mu_2 = np.mean(X[c_2], axis=0)\n",
    "print(\"mu_1 is: \" + str(mu_1))\n",
    "print(\"mu_2 is: \" + str(mu_2))"
   ]
  },
  {
   "cell_type": "markdown",
   "metadata": {},
   "source": [
    "Now to estimate $\\Sigma$ (covariance matrix) we can take:\n",
    "$$\n",
    "\\begin{align*}\n",
    "0 &= \\frac{\\partial lnL(X,y)}{\\partial \\Sigma} \\\\\n",
    "\\Sigma &= \\frac{N_1}{N}S_1 + \\frac{N_2}{N}S_2\\\\\n",
    "\\end{align*}\n",
    "$$\n",
    "where $S_k$ are the empirival covariance matrices of the class k\n",
    "$$\n",
    "\\begin{align*}\n",
    "S_1 &= \\frac{1}{N_1}\\sum _{n\\in C_1}{(x_n-\\mu_1)(x_n-\\mu_1)^T}\\\\\n",
    "S_2 &= \\frac{1}{N_1}\\sum _{n\\in C_2}{(x_n-\\mu_2)(x_n-\\mu_2)^T}\\\\\n",
    "\\end{align*}\n",
    "$$"
   ]
  },
  {
   "cell_type": "code",
   "execution_count": 235,
   "metadata": {},
   "outputs": [
    {
     "output_type": "stream",
     "name": "stdout",
     "text": "sigma is: \n[[ 0.          0.          0.         ...  0.          0.\n   0.        ]\n [ 0.         40.14995992 22.0321523  ... 23.16269138 24.42160721\n  26.52504409]\n [ 0.         22.0321523  39.90194389 ... 27.27681563 26.486501\n  26.6588517 ]\n ...\n [ 0.         23.16269138 27.27681563 ... 44.08637074 27.76873948\n  23.90038477]\n [ 0.         24.42160721 26.486501   ... 27.76873948 42.75746293\n  26.02096794]\n [ 0.         26.52504409 26.6588517  ... 23.90038477 26.02096794\n  40.16045491]]\n"
    }
   ],
   "source": [
    "s_1 = np.cov(X[c_1], rowvar=False)\n",
    "s_2 = np.cov(X[c_2], rowvar=False)\n",
    "sigma = X[c_1].shape[0]/y.shape[0] * s_1 + X[c_2].shape[0]/y.shape[0] * s_2\n",
    "print(\"sigma is: \")\n",
    "print(sigma)"
   ]
  },
  {
   "cell_type": "markdown",
   "metadata": {},
   "source": [
    "Now we need to create the bayes inference function to predict the classification. We know that bayes formula is:\n",
    "\n",
    "\\begin{align*}\n",
    "P(C_j|x) &= \\frac{P(C_j) P(x|C_j)}{\\sum_c P(x|C_j)P(C_j)}\\\\\n",
    "&= kP(C_j) P(x|C_j)\n",
    "\\end{align*}\n",
    "\n",
    "Now assuming Gaussian distribution and that the same covariance matrix $\\Sigma$ is used for each class then:\n",
    "\n",
    "\\begin{align*}\n",
    "P(x|C_j) \\propto e^{-\\frac{1}{2}(x-\\mu_k)^T \\Sigma^{-1}(x-\\mu_k)}\n",
    "\\end{align*}\n",
    "\n",
    "Subbing our assumptions to get the posterior distribution we get the logistic sigmoid function.\n",
    "\n",
    "\\begin{align*}\n",
    "P(C_j|x) = \\frac{1}{1 + e^{-(w^Tx+w_o)}}\n",
    "\\end{align*}\n",
    "\n",
    "where\n",
    "\n",
    "\\begin{align*}\n",
    "w &= \\Sigma^{-1}(\\mu_j - \\mu_k)\\\\\n",
    "w_o &= -\\frac{1}{2}\\mu_j^T \\Sigma^{-1}\\mu_j + \\frac{1}{2}\\mu_k^T \\Sigma^{-1}\\mu_k + ln\\frac{\\pi_1}{\\pi_2}\n",
    "\\end{align*}"
   ]
  },
  {
   "cell_type": "code",
   "execution_count": 5,
   "metadata": {},
   "outputs": [],
   "source": [
    "def sigmoid(z):\n",
    "    # convert input to a numpy array\n",
    "    z = np.array(z)\n",
    "    \n",
    "    # compute sigmoid\n",
    "    g = np.zeros(z.shape)\n",
    "    g = 1.0 / (1 + np.exp(-z))\n",
    "    return g"
   ]
  },
  {
   "cell_type": "code",
   "execution_count": 237,
   "metadata": {},
   "outputs": [
    {
     "output_type": "stream",
     "name": "stdout",
     "text": "0.09843704514833984\n[ 0.         -0.01540531  0.01616244  0.03929692 -0.00456321  0.06182967\n  0.15334141  0.01915415  0.05507069  0.08670551 -0.01681262  0.1203822\n  0.00441396  0.02588328  0.15001922 -0.00107855 -0.04174986  0.07194328\n  0.04522785  0.01061901 -0.02694246 -0.00675116 -0.05810351 -0.04177076\n  0.02758435  0.08169968  0.0226441  -0.02123403  0.01795245  0.09192023\n -0.00836835 -0.07566645 -0.0045614   0.08674114 -0.01242315 -0.06059901\n -0.03379977 -0.02829977 -0.08825168 -0.04110495 -0.03506517 -0.02520544\n  0.00681327 -0.21247372 -0.07226558 -0.00982123  0.03154254  0.02651147\n -0.05090439  0.02273982 -0.09561958 -0.07537277 -0.04687759  0.06141118\n -0.03530406 -0.06769001 -0.00184102 -0.04228458 -0.07332246  0.08705653\n  0.05281176 -0.00978789 -0.05968752 -0.0054356   0.00299748]\n"
    }
   ],
   "source": [
    "sigma_inv = np.linalg.pinv(sigma)\n",
    "w = sigma_inv@(mu_1 - mu_2)\n",
    "w_o = -1/2*mu_1.T@sigma_inv@mu_1 + 1/2*mu_2.T@sigma_inv@mu_2 + np.log(pi/(1-pi))\n",
    "print(w_o)\n",
    "print(w)"
   ]
  },
  {
   "cell_type": "code",
   "execution_count": 255,
   "metadata": {},
   "outputs": [
    {
     "output_type": "stream",
     "name": "stdout",
     "text": "accuracy: 89.1%\n"
    }
   ],
   "source": [
    "prediction = sigmoid(t_X@w + w_o) >= 0.5 # prediction 5\n",
    "actual = t_y == 5\n",
    "print(\"accuracy: {:.1f}%\".format(np.sum(prediction == actual)/t_y.shape[0]*100))"
   ]
  },
  {
   "cell_type": "markdown",
   "metadata": {},
   "source": [
    "### b)\n",
    "Logistic regression: let $P(C_1|x) = \\sigma(w^T x+w_0)$ and $P(C_2|x) = 1-\\sigma(w^T x+w_0)$. Learn the\n",
    "parameters $w$ and $w_0$ by conditional likelihood maximization. More specifically use Newton’s algorithm\n",
    "derived in class to optimize the parameters. 10 iterations of Newton’s algorithm should be sufficient for\n",
    "convergence. Add a penalty of $0.5\\lambda||w||^2_2$\n",
    "to regularize the weights. Find the optimal hyperparameter \\lambda\n",
    "by 10-fold cross-validation"
   ]
  },
  {
   "cell_type": "markdown",
   "metadata": {},
   "source": [
    "We will use discriminative learning to directly try and model $P(C_j|x)$ directly. We know the generic form of $P(C_j|x)$ is the logistic sigmoid (binary classification) or softmax (general classification). Now we can express the equation for solving for the weights as such.\n",
    "\n",
    "\\begin{align*}\n",
    "w^* = argmax_w \\prod_{n}{\\sigma(w^T\\overline{x_n})^{y_n}(1-\\sigma(w^T\\overline{x_n}))^{1-y_n}}\n",
    "\\end{align*}\n",
    "\n",
    "Now taking the negative log likelihood we can pose the problem as an minima optimization problem with loss function:\n",
    "\n",
    "\\begin{align*}\n",
    "L(w) = \\sum_n{y_nln\\sigma(w^T\\overline{x_n}) + (1-y_n)ln(1-\\sigma(w^T\\overline{x_n}))}\n",
    "\\end{align*}\n",
    "\n",
    "Due to potential of overfitting we want to regularize the loss function as such:\n",
    "\n",
    "\\begin{align*}\n",
    "L(w) = \\sum_n{y_nln\\sigma(w^T\\overline{x_n}) + (1-y_n)ln(1-\\sigma(w^T\\overline{x_n}))} + \\frac{\\lambda}{2}||w||^2_2\n",
    "\\end{align*}\n",
    "\n",
    "Now we use an iterative method to solve for the weights $w$ since we can not find a closed form solution to the minimization problem.\n",
    "\n"
   ]
  },
  {
   "cell_type": "code",
   "execution_count": 208,
   "metadata": {},
   "outputs": [],
   "source": [
    "def costFunctionReg(w, X, y, lambda_):\n",
    "    m = y.size  # number of training examples\n",
    "\n",
    "    J = 0 #\n",
    "    grad = np.zeros(w.shape)\n",
    "\n",
    "    # cost function\n",
    "    z = X @ w\n",
    "    hyp = sigmoid(z)\n",
    "    J = 1/m * (-np.transpose(y)@np.log(hyp) - np.transpose(1-y)@np.log(1-hyp)) + lambda_/(2*m)*np.square(np.linalg.norm(w[1:]))\n",
    "    \n",
    "    # gradient\n",
    "    G = lambda_/m*w\n",
    "    G[0] = 0\n",
    "    grad = 1/m * np.transpose(X)@(hyp - y)+G\n",
    "\n",
    "    return J, grad"
   ]
  },
  {
   "cell_type": "code",
   "execution_count": 209,
   "metadata": {},
   "outputs": [],
   "source": [
    "# newton's method for iteratively calculating weights\n",
    "options = {'maxiter': 10}\n",
    "\n",
    "def newtons_method(X, y, lambda_):\n",
    "    # make y binary\n",
    "    y = (y == 6).astype(int) # 6 = 1 and 5 = 0\n",
    "\n",
    "    initial_w = np.zeros(X.shape[1])\n",
    "    res = optimize.minimize(costFunctionReg,\n",
    "                        initial_w,\n",
    "                        (X, y, lambda_),\n",
    "                        jac=True,\n",
    "                        method='TNC',\n",
    "                        options=options)\n",
    "\n",
    "    return res.x"
   ]
  },
  {
   "cell_type": "markdown",
   "metadata": {},
   "source": [
    "Now to predict know that $P(C_j|x) = \\sigma(w^Tx)$ so we can classifiy based on the probability threshold of 0.5. If $\\sigma(w^Tx) >= 0.5$ then we can classify as a 6 otherwise 5. We can then create a helper function to score the accuracy of our prediction with the test set."
   ]
  },
  {
   "cell_type": "code",
   "execution_count": 210,
   "metadata": {},
   "outputs": [],
   "source": [
    "def predict(X, w):\n",
    "    return (sigmoid(X@w) >= 0.5)"
   ]
  },
  {
   "cell_type": "code",
   "execution_count": 211,
   "metadata": {},
   "outputs": [],
   "source": [
    "def score(X, y, w):\n",
    "    prediction = predict(X, w)\n",
    "    actual = (y == 6).astype(int)\n",
    "    return np.sum(prediction == actual)/y.shape[0]*100"
   ]
  },
  {
   "cell_type": "markdown",
   "metadata": {},
   "source": [
    "To find the best hyperparameter lambda we can use K-Fold Cross Validation and graph the accuracy of our parameters."
   ]
  },
  {
   "cell_type": "code",
   "execution_count": 212,
   "metadata": {},
   "outputs": [
    {
     "output_type": "execute_result",
     "data": {
      "text/plain": "[<matplotlib.lines.Line2D at 0x126619550>]"
     },
     "metadata": {},
     "execution_count": 212
    },
    {
     "output_type": "display_data",
     "data": {
      "text/plain": "<Figure size 432x288 with 1 Axes>",
      "image/svg+xml": "<?xml version=\"1.0\" encoding=\"utf-8\" standalone=\"no\"?>\n<!DOCTYPE svg PUBLIC \"-//W3C//DTD SVG 1.1//EN\"\n  \"http://www.w3.org/Graphics/SVG/1.1/DTD/svg11.dtd\">\n<!-- Created with matplotlib (https://matplotlib.org/) -->\n<svg height=\"248.518125pt\" version=\"1.1\" viewBox=\"0 0 378.465625 248.518125\" width=\"378.465625pt\" xmlns=\"http://www.w3.org/2000/svg\" xmlns:xlink=\"http://www.w3.org/1999/xlink\">\n <defs>\n  <style type=\"text/css\">\n*{stroke-linecap:butt;stroke-linejoin:round;}\n  </style>\n </defs>\n <g id=\"figure_1\">\n  <g id=\"patch_1\">\n   <path d=\"M 0 248.518125 \nL 378.465625 248.518125 \nL 378.465625 0 \nL 0 0 \nz\n\" style=\"fill:none;\"/>\n  </g>\n  <g id=\"axes_1\">\n   <g id=\"patch_2\">\n    <path d=\"M 36.465625 224.64 \nL 371.265625 224.64 \nL 371.265625 7.2 \nL 36.465625 7.2 \nz\n\" style=\"fill:#ffffff;\"/>\n   </g>\n   <g id=\"matplotlib.axis_1\">\n    <g id=\"xtick_1\">\n     <g id=\"line2d_1\">\n      <defs>\n       <path d=\"M 0 0 \nL 0 3.5 \n\" id=\"maf30fcd571\" style=\"stroke:#000000;stroke-width:0.8;\"/>\n      </defs>\n      <g>\n       <use style=\"stroke:#000000;stroke-width:0.8;\" x=\"51.683807\" xlink:href=\"#maf30fcd571\" y=\"224.64\"/>\n      </g>\n     </g>\n     <g id=\"text_1\">\n      <!-- 0 -->\n      <defs>\n       <path d=\"M 31.78125 66.40625 \nQ 24.171875 66.40625 20.328125 58.90625 \nQ 16.5 51.421875 16.5 36.375 \nQ 16.5 21.390625 20.328125 13.890625 \nQ 24.171875 6.390625 31.78125 6.390625 \nQ 39.453125 6.390625 43.28125 13.890625 \nQ 47.125 21.390625 47.125 36.375 \nQ 47.125 51.421875 43.28125 58.90625 \nQ 39.453125 66.40625 31.78125 66.40625 \nz\nM 31.78125 74.21875 \nQ 44.046875 74.21875 50.515625 64.515625 \nQ 56.984375 54.828125 56.984375 36.375 \nQ 56.984375 17.96875 50.515625 8.265625 \nQ 44.046875 -1.421875 31.78125 -1.421875 \nQ 19.53125 -1.421875 13.0625 8.265625 \nQ 6.59375 17.96875 6.59375 36.375 \nQ 6.59375 54.828125 13.0625 64.515625 \nQ 19.53125 74.21875 31.78125 74.21875 \nz\n\" id=\"DejaVuSans-48\"/>\n      </defs>\n      <g transform=\"translate(48.502557 239.238438)scale(0.1 -0.1)\">\n       <use xlink:href=\"#DejaVuSans-48\"/>\n      </g>\n     </g>\n    </g>\n    <g id=\"xtick_2\">\n     <g id=\"line2d_2\">\n      <g>\n       <use style=\"stroke:#000000;stroke-width:0.8;\" x=\"92.268331\" xlink:href=\"#maf30fcd571\" y=\"224.64\"/>\n      </g>\n     </g>\n     <g id=\"text_2\">\n      <!-- 2000 -->\n      <defs>\n       <path d=\"M 19.1875 8.296875 \nL 53.609375 8.296875 \nL 53.609375 0 \nL 7.328125 0 \nL 7.328125 8.296875 \nQ 12.9375 14.109375 22.625 23.890625 \nQ 32.328125 33.6875 34.8125 36.53125 \nQ 39.546875 41.84375 41.421875 45.53125 \nQ 43.3125 49.21875 43.3125 52.78125 \nQ 43.3125 58.59375 39.234375 62.25 \nQ 35.15625 65.921875 28.609375 65.921875 \nQ 23.96875 65.921875 18.8125 64.3125 \nQ 13.671875 62.703125 7.8125 59.421875 \nL 7.8125 69.390625 \nQ 13.765625 71.78125 18.9375 73 \nQ 24.125 74.21875 28.421875 74.21875 \nQ 39.75 74.21875 46.484375 68.546875 \nQ 53.21875 62.890625 53.21875 53.421875 \nQ 53.21875 48.921875 51.53125 44.890625 \nQ 49.859375 40.875 45.40625 35.40625 \nQ 44.1875 33.984375 37.640625 27.21875 \nQ 31.109375 20.453125 19.1875 8.296875 \nz\n\" id=\"DejaVuSans-50\"/>\n      </defs>\n      <g transform=\"translate(79.543331 239.238438)scale(0.1 -0.1)\">\n       <use xlink:href=\"#DejaVuSans-50\"/>\n       <use x=\"63.623047\" xlink:href=\"#DejaVuSans-48\"/>\n       <use x=\"127.246094\" xlink:href=\"#DejaVuSans-48\"/>\n       <use x=\"190.869141\" xlink:href=\"#DejaVuSans-48\"/>\n      </g>\n     </g>\n    </g>\n    <g id=\"xtick_3\">\n     <g id=\"line2d_3\">\n      <g>\n       <use style=\"stroke:#000000;stroke-width:0.8;\" x=\"132.852854\" xlink:href=\"#maf30fcd571\" y=\"224.64\"/>\n      </g>\n     </g>\n     <g id=\"text_3\">\n      <!-- 4000 -->\n      <defs>\n       <path d=\"M 37.796875 64.3125 \nL 12.890625 25.390625 \nL 37.796875 25.390625 \nz\nM 35.203125 72.90625 \nL 47.609375 72.90625 \nL 47.609375 25.390625 \nL 58.015625 25.390625 \nL 58.015625 17.1875 \nL 47.609375 17.1875 \nL 47.609375 0 \nL 37.796875 0 \nL 37.796875 17.1875 \nL 4.890625 17.1875 \nL 4.890625 26.703125 \nz\n\" id=\"DejaVuSans-52\"/>\n      </defs>\n      <g transform=\"translate(120.127854 239.238438)scale(0.1 -0.1)\">\n       <use xlink:href=\"#DejaVuSans-52\"/>\n       <use x=\"63.623047\" xlink:href=\"#DejaVuSans-48\"/>\n       <use x=\"127.246094\" xlink:href=\"#DejaVuSans-48\"/>\n       <use x=\"190.869141\" xlink:href=\"#DejaVuSans-48\"/>\n      </g>\n     </g>\n    </g>\n    <g id=\"xtick_4\">\n     <g id=\"line2d_4\">\n      <g>\n       <use style=\"stroke:#000000;stroke-width:0.8;\" x=\"173.437378\" xlink:href=\"#maf30fcd571\" y=\"224.64\"/>\n      </g>\n     </g>\n     <g id=\"text_4\">\n      <!-- 6000 -->\n      <defs>\n       <path d=\"M 33.015625 40.375 \nQ 26.375 40.375 22.484375 35.828125 \nQ 18.609375 31.296875 18.609375 23.390625 \nQ 18.609375 15.53125 22.484375 10.953125 \nQ 26.375 6.390625 33.015625 6.390625 \nQ 39.65625 6.390625 43.53125 10.953125 \nQ 47.40625 15.53125 47.40625 23.390625 \nQ 47.40625 31.296875 43.53125 35.828125 \nQ 39.65625 40.375 33.015625 40.375 \nz\nM 52.59375 71.296875 \nL 52.59375 62.3125 \nQ 48.875 64.0625 45.09375 64.984375 \nQ 41.3125 65.921875 37.59375 65.921875 \nQ 27.828125 65.921875 22.671875 59.328125 \nQ 17.53125 52.734375 16.796875 39.40625 \nQ 19.671875 43.65625 24.015625 45.921875 \nQ 28.375 48.1875 33.59375 48.1875 \nQ 44.578125 48.1875 50.953125 41.515625 \nQ 57.328125 34.859375 57.328125 23.390625 \nQ 57.328125 12.15625 50.6875 5.359375 \nQ 44.046875 -1.421875 33.015625 -1.421875 \nQ 20.359375 -1.421875 13.671875 8.265625 \nQ 6.984375 17.96875 6.984375 36.375 \nQ 6.984375 53.65625 15.1875 63.9375 \nQ 23.390625 74.21875 37.203125 74.21875 \nQ 40.921875 74.21875 44.703125 73.484375 \nQ 48.484375 72.75 52.59375 71.296875 \nz\n\" id=\"DejaVuSans-54\"/>\n      </defs>\n      <g transform=\"translate(160.712378 239.238438)scale(0.1 -0.1)\">\n       <use xlink:href=\"#DejaVuSans-54\"/>\n       <use x=\"63.623047\" xlink:href=\"#DejaVuSans-48\"/>\n       <use x=\"127.246094\" xlink:href=\"#DejaVuSans-48\"/>\n       <use x=\"190.869141\" xlink:href=\"#DejaVuSans-48\"/>\n      </g>\n     </g>\n    </g>\n    <g id=\"xtick_5\">\n     <g id=\"line2d_5\">\n      <g>\n       <use style=\"stroke:#000000;stroke-width:0.8;\" x=\"214.021902\" xlink:href=\"#maf30fcd571\" y=\"224.64\"/>\n      </g>\n     </g>\n     <g id=\"text_5\">\n      <!-- 8000 -->\n      <defs>\n       <path d=\"M 31.78125 34.625 \nQ 24.75 34.625 20.71875 30.859375 \nQ 16.703125 27.09375 16.703125 20.515625 \nQ 16.703125 13.921875 20.71875 10.15625 \nQ 24.75 6.390625 31.78125 6.390625 \nQ 38.8125 6.390625 42.859375 10.171875 \nQ 46.921875 13.96875 46.921875 20.515625 \nQ 46.921875 27.09375 42.890625 30.859375 \nQ 38.875 34.625 31.78125 34.625 \nz\nM 21.921875 38.8125 \nQ 15.578125 40.375 12.03125 44.71875 \nQ 8.5 49.078125 8.5 55.328125 \nQ 8.5 64.0625 14.71875 69.140625 \nQ 20.953125 74.21875 31.78125 74.21875 \nQ 42.671875 74.21875 48.875 69.140625 \nQ 55.078125 64.0625 55.078125 55.328125 \nQ 55.078125 49.078125 51.53125 44.71875 \nQ 48 40.375 41.703125 38.8125 \nQ 48.828125 37.15625 52.796875 32.3125 \nQ 56.78125 27.484375 56.78125 20.515625 \nQ 56.78125 9.90625 50.3125 4.234375 \nQ 43.84375 -1.421875 31.78125 -1.421875 \nQ 19.734375 -1.421875 13.25 4.234375 \nQ 6.78125 9.90625 6.78125 20.515625 \nQ 6.78125 27.484375 10.78125 32.3125 \nQ 14.796875 37.15625 21.921875 38.8125 \nz\nM 18.3125 54.390625 \nQ 18.3125 48.734375 21.84375 45.5625 \nQ 25.390625 42.390625 31.78125 42.390625 \nQ 38.140625 42.390625 41.71875 45.5625 \nQ 45.3125 48.734375 45.3125 54.390625 \nQ 45.3125 60.0625 41.71875 63.234375 \nQ 38.140625 66.40625 31.78125 66.40625 \nQ 25.390625 66.40625 21.84375 63.234375 \nQ 18.3125 60.0625 18.3125 54.390625 \nz\n\" id=\"DejaVuSans-56\"/>\n      </defs>\n      <g transform=\"translate(201.296902 239.238438)scale(0.1 -0.1)\">\n       <use xlink:href=\"#DejaVuSans-56\"/>\n       <use x=\"63.623047\" xlink:href=\"#DejaVuSans-48\"/>\n       <use x=\"127.246094\" xlink:href=\"#DejaVuSans-48\"/>\n       <use x=\"190.869141\" xlink:href=\"#DejaVuSans-48\"/>\n      </g>\n     </g>\n    </g>\n    <g id=\"xtick_6\">\n     <g id=\"line2d_6\">\n      <g>\n       <use style=\"stroke:#000000;stroke-width:0.8;\" x=\"254.606426\" xlink:href=\"#maf30fcd571\" y=\"224.64\"/>\n      </g>\n     </g>\n     <g id=\"text_6\">\n      <!-- 10000 -->\n      <defs>\n       <path d=\"M 12.40625 8.296875 \nL 28.515625 8.296875 \nL 28.515625 63.921875 \nL 10.984375 60.40625 \nL 10.984375 69.390625 \nL 28.421875 72.90625 \nL 38.28125 72.90625 \nL 38.28125 8.296875 \nL 54.390625 8.296875 \nL 54.390625 0 \nL 12.40625 0 \nz\n\" id=\"DejaVuSans-49\"/>\n      </defs>\n      <g transform=\"translate(238.700176 239.238438)scale(0.1 -0.1)\">\n       <use xlink:href=\"#DejaVuSans-49\"/>\n       <use x=\"63.623047\" xlink:href=\"#DejaVuSans-48\"/>\n       <use x=\"127.246094\" xlink:href=\"#DejaVuSans-48\"/>\n       <use x=\"190.869141\" xlink:href=\"#DejaVuSans-48\"/>\n       <use x=\"254.492188\" xlink:href=\"#DejaVuSans-48\"/>\n      </g>\n     </g>\n    </g>\n    <g id=\"xtick_7\">\n     <g id=\"line2d_7\">\n      <g>\n       <use style=\"stroke:#000000;stroke-width:0.8;\" x=\"295.19095\" xlink:href=\"#maf30fcd571\" y=\"224.64\"/>\n      </g>\n     </g>\n     <g id=\"text_7\">\n      <!-- 12000 -->\n      <g transform=\"translate(279.2847 239.238438)scale(0.1 -0.1)\">\n       <use xlink:href=\"#DejaVuSans-49\"/>\n       <use x=\"63.623047\" xlink:href=\"#DejaVuSans-50\"/>\n       <use x=\"127.246094\" xlink:href=\"#DejaVuSans-48\"/>\n       <use x=\"190.869141\" xlink:href=\"#DejaVuSans-48\"/>\n       <use x=\"254.492188\" xlink:href=\"#DejaVuSans-48\"/>\n      </g>\n     </g>\n    </g>\n    <g id=\"xtick_8\">\n     <g id=\"line2d_8\">\n      <g>\n       <use style=\"stroke:#000000;stroke-width:0.8;\" x=\"335.775474\" xlink:href=\"#maf30fcd571\" y=\"224.64\"/>\n      </g>\n     </g>\n     <g id=\"text_8\">\n      <!-- 14000 -->\n      <g transform=\"translate(319.869224 239.238438)scale(0.1 -0.1)\">\n       <use xlink:href=\"#DejaVuSans-49\"/>\n       <use x=\"63.623047\" xlink:href=\"#DejaVuSans-52\"/>\n       <use x=\"127.246094\" xlink:href=\"#DejaVuSans-48\"/>\n       <use x=\"190.869141\" xlink:href=\"#DejaVuSans-48\"/>\n       <use x=\"254.492188\" xlink:href=\"#DejaVuSans-48\"/>\n      </g>\n     </g>\n    </g>\n   </g>\n   <g id=\"matplotlib.axis_2\">\n    <g id=\"ytick_1\">\n     <g id=\"line2d_9\">\n      <defs>\n       <path d=\"M 0 0 \nL -3.5 0 \n\" id=\"m59e5727849\" style=\"stroke:#000000;stroke-width:0.8;\"/>\n      </defs>\n      <g>\n       <use style=\"stroke:#000000;stroke-width:0.8;\" x=\"36.465625\" xlink:href=\"#m59e5727849\" y=\"205.343377\"/>\n      </g>\n     </g>\n     <g id=\"text_9\">\n      <!-- 86.5 -->\n      <defs>\n       <path d=\"M 10.6875 12.40625 \nL 21 12.40625 \nL 21 0 \nL 10.6875 0 \nz\n\" id=\"DejaVuSans-46\"/>\n       <path d=\"M 10.796875 72.90625 \nL 49.515625 72.90625 \nL 49.515625 64.59375 \nL 19.828125 64.59375 \nL 19.828125 46.734375 \nQ 21.96875 47.46875 24.109375 47.828125 \nQ 26.265625 48.1875 28.421875 48.1875 \nQ 40.625 48.1875 47.75 41.5 \nQ 54.890625 34.8125 54.890625 23.390625 \nQ 54.890625 11.625 47.5625 5.09375 \nQ 40.234375 -1.421875 26.90625 -1.421875 \nQ 22.3125 -1.421875 17.546875 -0.640625 \nQ 12.796875 0.140625 7.71875 1.703125 \nL 7.71875 11.625 \nQ 12.109375 9.234375 16.796875 8.0625 \nQ 21.484375 6.890625 26.703125 6.890625 \nQ 35.15625 6.890625 40.078125 11.328125 \nQ 45.015625 15.765625 45.015625 23.390625 \nQ 45.015625 31 40.078125 35.4375 \nQ 35.15625 39.890625 26.703125 39.890625 \nQ 22.75 39.890625 18.8125 39.015625 \nQ 14.890625 38.140625 10.796875 36.28125 \nz\n\" id=\"DejaVuSans-53\"/>\n      </defs>\n      <g transform=\"translate(7.2 209.142595)scale(0.1 -0.1)\">\n       <use xlink:href=\"#DejaVuSans-56\"/>\n       <use x=\"63.623047\" xlink:href=\"#DejaVuSans-54\"/>\n       <use x=\"127.246094\" xlink:href=\"#DejaVuSans-46\"/>\n       <use x=\"159.033203\" xlink:href=\"#DejaVuSans-53\"/>\n      </g>\n     </g>\n    </g>\n    <g id=\"ytick_2\">\n     <g id=\"line2d_10\">\n      <g>\n       <use style=\"stroke:#000000;stroke-width:0.8;\" x=\"36.465625\" xlink:href=\"#m59e5727849\" y=\"158.278442\"/>\n      </g>\n     </g>\n     <g id=\"text_10\">\n      <!-- 87.0 -->\n      <defs>\n       <path d=\"M 8.203125 72.90625 \nL 55.078125 72.90625 \nL 55.078125 68.703125 \nL 28.609375 0 \nL 18.3125 0 \nL 43.21875 64.59375 \nL 8.203125 64.59375 \nz\n\" id=\"DejaVuSans-55\"/>\n      </defs>\n      <g transform=\"translate(7.2 162.07766)scale(0.1 -0.1)\">\n       <use xlink:href=\"#DejaVuSans-56\"/>\n       <use x=\"63.623047\" xlink:href=\"#DejaVuSans-55\"/>\n       <use x=\"127.246094\" xlink:href=\"#DejaVuSans-46\"/>\n       <use x=\"159.033203\" xlink:href=\"#DejaVuSans-48\"/>\n      </g>\n     </g>\n    </g>\n    <g id=\"ytick_3\">\n     <g id=\"line2d_11\">\n      <g>\n       <use style=\"stroke:#000000;stroke-width:0.8;\" x=\"36.465625\" xlink:href=\"#m59e5727849\" y=\"111.213506\"/>\n      </g>\n     </g>\n     <g id=\"text_11\">\n      <!-- 87.5 -->\n      <g transform=\"translate(7.2 115.012725)scale(0.1 -0.1)\">\n       <use xlink:href=\"#DejaVuSans-56\"/>\n       <use x=\"63.623047\" xlink:href=\"#DejaVuSans-55\"/>\n       <use x=\"127.246094\" xlink:href=\"#DejaVuSans-46\"/>\n       <use x=\"159.033203\" xlink:href=\"#DejaVuSans-53\"/>\n      </g>\n     </g>\n    </g>\n    <g id=\"ytick_4\">\n     <g id=\"line2d_12\">\n      <g>\n       <use style=\"stroke:#000000;stroke-width:0.8;\" x=\"36.465625\" xlink:href=\"#m59e5727849\" y=\"64.148571\"/>\n      </g>\n     </g>\n     <g id=\"text_12\">\n      <!-- 88.0 -->\n      <g transform=\"translate(7.2 67.94779)scale(0.1 -0.1)\">\n       <use xlink:href=\"#DejaVuSans-56\"/>\n       <use x=\"63.623047\" xlink:href=\"#DejaVuSans-56\"/>\n       <use x=\"127.246094\" xlink:href=\"#DejaVuSans-46\"/>\n       <use x=\"159.033203\" xlink:href=\"#DejaVuSans-48\"/>\n      </g>\n     </g>\n    </g>\n    <g id=\"ytick_5\">\n     <g id=\"line2d_13\">\n      <g>\n       <use style=\"stroke:#000000;stroke-width:0.8;\" x=\"36.465625\" xlink:href=\"#m59e5727849\" y=\"17.083636\"/>\n      </g>\n     </g>\n     <g id=\"text_13\">\n      <!-- 88.5 -->\n      <g transform=\"translate(7.2 20.882855)scale(0.1 -0.1)\">\n       <use xlink:href=\"#DejaVuSans-56\"/>\n       <use x=\"63.623047\" xlink:href=\"#DejaVuSans-56\"/>\n       <use x=\"127.246094\" xlink:href=\"#DejaVuSans-46\"/>\n       <use x=\"159.033203\" xlink:href=\"#DejaVuSans-53\"/>\n      </g>\n     </g>\n    </g>\n   </g>\n   <g id=\"line2d_14\">\n    <path clip-path=\"url(#p7c10a0326b)\" d=\"M 51.683807 214.756364 \nL 56.939503 214.756364 \nL 57.061256 177.104416 \nL 57.243887 177.104416 \nL 57.36564 167.691429 \nL 57.690316 167.691429 \nL 57.81207 111.213506 \nL 58.035285 111.213506 \nL 58.157038 92.387532 \nL 58.359961 92.387532 \nL 58.481715 64.148571 \nL 58.948437 64.148571 \nL 59.009313 45.322597 \nL 59.049898 54.735584 \nL 59.455743 54.735584 \nL 59.577497 92.387532 \nL 59.658666 92.387532 \nL 59.780419 82.974545 \nL 59.902173 92.387532 \nL 60.612402 92.387532 \nL 60.734156 111.213506 \nL 60.957371 111.213506 \nL 61.079124 148.865455 \nL 61.180585 148.865455 \nL 61.302339 167.691429 \nL 61.566138 167.691429 \nL 61.687892 139.452468 \nL 62.073445 139.452468 \nL 62.195198 167.691429 \nL 62.438706 167.691429 \nL 62.560459 177.104416 \nL 63.73741 177.104416 \nL 63.859164 186.517403 \nL 65.340499 186.517403 \nL 65.462253 177.104416 \nL 65.88839 177.104416 \nL 66.010144 158.278442 \nL 66.071021 158.278442 \nL 66.192774 139.452468 \nL 66.213066 139.452468 \nL 66.33482 111.213506 \nL 66.355112 111.213506 \nL 66.476866 101.800519 \nL 66.51745 101.800519 \nL 66.639204 92.387532 \nL 66.720373 92.387532 \nL 66.842126 64.148571 \nL 67.532063 64.148571 \nL 67.653817 35.90961 \nL 67.795863 35.90961 \nL 67.917616 26.496623 \nL 71.651393 26.496623 \nL 71.773146 35.90961 \nL 75.567799 35.90961 \nL 75.689553 26.496623 \nL 77.617318 26.496623 \nL 77.739071 17.083636 \nL 78.652223 17.083636 \nL 78.773976 35.90961 \nL 89.325953 35.90961 \nL 89.447706 45.322597 \nL 95.515093 45.322597 \nL 95.636846 35.90961 \nL 97.808118 35.90961 \nL 97.929872 26.496623 \nL 100.953419 26.496623 \nL 101.075172 35.90961 \nL 109.861722 35.90961 \nL 109.983475 26.496623 \nL 117.856873 26.496623 \nL 117.978626 17.083636 \nL 119.3585 17.083636 \nL 119.480254 26.496623 \nL 135.754648 26.496623 \nL 135.876401 17.083636 \nL 202.901743 17.083636 \nL 203.023496 26.496623 \nL 212.236183 26.496623 \nL 212.357937 35.90961 \nL 229.484606 35.90961 \nL 229.606359 26.496623 \nL 247.544719 26.496623 \nL 247.666472 35.90961 \nL 254.28175 35.90961 \nL 254.403503 45.322597 \nL 257.447343 45.322597 \nL 257.569096 54.735584 \nL 264.407588 54.735584 \nL 264.529342 73.561558 \nL 265.016356 73.561558 \nL 265.13811 64.148571 \nL 274.005828 64.148571 \nL 274.127582 73.561558 \nL 274.634888 73.561558 \nL 274.756642 82.974545 \nL 295.393872 82.974545 \nL 295.414165 92.387532 \nL 295.495334 82.974545 \nL 295.576503 82.974545 \nL 295.698256 92.387532 \nL 295.718549 92.387532 \nL 295.738841 82.974545 \nL 295.82001 92.387532 \nL 302.455579 92.387532 \nL 302.577333 82.974545 \nL 322.849303 82.974545 \nL 322.971056 92.387532 \nL 324.716191 92.387532 \nL 324.837944 101.800519 \nL 324.919113 101.800519 \nL 324.939406 92.387532 \nL 325.020575 101.800519 \nL 350.99467 101.800519 \nL 351.116424 111.213506 \nL 353.429741 111.213506 \nL 353.551495 120.626494 \nL 356.047443 120.626494 \nL 356.047443 120.626494 \n\" style=\"fill:none;stroke:#1f77b4;stroke-linecap:square;stroke-width:1.5;\"/>\n   </g>\n   <g id=\"patch_3\">\n    <path d=\"M 36.465625 224.64 \nL 36.465625 7.2 \n\" style=\"fill:none;stroke:#000000;stroke-linecap:square;stroke-linejoin:miter;stroke-width:0.8;\"/>\n   </g>\n   <g id=\"patch_4\">\n    <path d=\"M 371.265625 224.64 \nL 371.265625 7.2 \n\" style=\"fill:none;stroke:#000000;stroke-linecap:square;stroke-linejoin:miter;stroke-width:0.8;\"/>\n   </g>\n   <g id=\"patch_5\">\n    <path d=\"M 36.465625 224.64 \nL 371.265625 224.64 \n\" style=\"fill:none;stroke:#000000;stroke-linecap:square;stroke-linejoin:miter;stroke-width:0.8;\"/>\n   </g>\n   <g id=\"patch_6\">\n    <path d=\"M 36.465625 7.2 \nL 371.265625 7.2 \n\" style=\"fill:none;stroke:#000000;stroke-linecap:square;stroke-linejoin:miter;stroke-width:0.8;\"/>\n   </g>\n  </g>\n </g>\n <defs>\n  <clipPath id=\"p7c10a0326b\">\n   <rect height=\"217.44\" width=\"334.8\" x=\"36.465625\" y=\"7.2\"/>\n  </clipPath>\n </defs>\n</svg>\n",
      "image/png": "[encoded data removed]"
     },
     "metadata": {
      "needs_background": "light"
     }
    }
   ],
   "source": [
    "kf = KFold(n_splits=10)\n",
    "max_lambda = 15000\n",
    "\n",
    "accuracy = [0] * max_lambda\n",
    "for lambda_ in range(0, max_lambda):\n",
    "    for train, test in kf.split(X):\n",
    "        X_train = X[train]\n",
    "        y_train = y[train]\n",
    "\n",
    "        w = newtons_method(X_train, y_train, lambda_)\n",
    "\n",
    "        accuracy[lambda_] += score(X[test], y[test], w)\n",
    "    accuracy[lambda_] /= 10\n",
    "\n",
    "pyplot.plot(range(0, max_lambda), accuracy, '-')"
   ]
  },
  {
   "cell_type": "markdown",
   "metadata": {},
   "source": [
    "From the graph we can see that we reach the highest accuracy at a lambda between 5500-7500, so we select lambda as 6500 and find our new weights and validate our score against the test dataset."
   ]
  },
  {
   "cell_type": "code",
   "execution_count": 205,
   "metadata": {},
   "outputs": [
    {
     "output_type": "stream",
     "name": "stdout",
     "text": "accuracy: 90.0%\n"
    }
   ],
   "source": [
    "# test against test set\n",
    "lambda_ = 6500 # from graph\n",
    "w = newtons_method(X, y, lambda_)\n",
    "accuracy = score(t_X, t_y, w)\n",
    "print(\"accuracy: {:.1f}%\".format(accuracy))"
   ]
  },
  {
   "cell_type": "markdown",
   "metadata": {},
   "source": [
    "# Question 2\n",
    "a) Consider a threshold perceptron that predicts $y = 1$ when $w^Tx + w_0 \\geq 0$ and $y = 0$ when\n",
    "$w^Tx + w_0 \\lt 0$. It is interesting to study the class of Boolean functions that can be represented by a\n",
    "threshold perceptron. Assume that the input space is $X = \\{0, 1\\}^2$ and the output space is $Y = \\{0, 1\\}$.\n",
    "For each of the following Boolean functions, indicate whether it is possible to encode the function as a\n",
    "threshold perceptron. If it is possible, indicate some values for $w$ and $w_0$. If it is not possible, indicate a\n",
    "feature mapping $\\phi : X \\rightarrow \\hat{X}$ restricted to the space of polynomial mappings with values for $w$ and $w_0$\n",
    "such that $w^T \\phi(x) + w_0$ is a linear separator that encodes the function\n",
    "\n",
    "If we satisify the following equation with weights such that for each of the logical operators it satisfies the output of $y = 1$ when $w^Tx + w_0 \\geq 0$ and $y = 0$ when $w^Tx + w_0 \\lt 0$ then there exists a linear separator. \n",
    "\n",
    "\\begin{align}\n",
    "\\begin{bmatrix}\n",
    "1 & x_1 & x_2\n",
    "\\end{bmatrix}\n",
    "\\begin{bmatrix}\n",
    "w_0 \\\\\n",
    "w_1 \\\\\n",
    "w_2 \\\\\n",
    "\\end{bmatrix}\n",
    "\\end{align}\n",
    "\n",
    "i) AND: Linearly separable, $w = \\begin{pmatrix}1 \\\\ 1 \\\\ \\end{pmatrix}$, $w_0 = -1.5$\n",
    "\n",
    "\n",
    "ii) OR: Linearly separable, $w = \\begin{pmatrix}1 \\\\ 1 \\\\ \\end{pmatrix}$, $w_0 = -0.5$\n",
    "\n",
    "\n",
    "iii) XOR: Not Linearly separable, use $\\phi(x) = \\begin{pmatrix}x_1 \\\\ x_2 \\\\ x_1 x_2\\\\ \\end{pmatrix}$ with $w = \\begin{pmatrix}1 \\\\1 \\\\ -2\\\\ \\end{pmatrix}$ and $w_0 = -0.5$\n",
    "\n",
    "iv) IFF: not linearly separable. Use $\\phi(x) = \\begin{pmatrix}x_1 \\\\ x_2 \\\\ x_1 x_2\\\\ \\end{pmatrix}$ with $w = \\begin{pmatrix}-1 \\\\-1 \\\\ 2\\\\ \\end{pmatrix}$ and $w_0 = 0.5$\n",
    "\n",
    "\n",
    "b) No, if the data set was linearly separable then the logistic regression technique would've found a separator with 100% training accuracy."
   ]
  }
 ],
 "metadata": {
  "language_info": {
   "codemirror_mode": {
    "name": "ipython",
    "version": 3
   },
   "file_extension": ".py",
   "mimetype": "text/x-python",
   "name": "python",
   "nbconvert_exporter": "python",
   "pygments_lexer": "ipython3",
   "version": "3.8.2-final"
  },
  "orig_nbformat": 2,
  "kernelspec": {
   "name": "python3",
   "display_name": "Python 3"
  }
 },
 "nbformat": 4,
 "nbformat_minor": 2
}