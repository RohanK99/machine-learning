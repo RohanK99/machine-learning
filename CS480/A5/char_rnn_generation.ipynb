{
  "nbformat": 4,
  "nbformat_minor": 0,
  "metadata": {
    "colab": {
      "name": "cs480_char_rnn_generation_tutorial.ipynb",
      "provenance": []
    },
    "language_info": {
      "codemirror_mode": {
        "name": "ipython",
        "version": 3
      },
      "file_extension": ".py",
      "mimetype": "text/x-python",
      "name": "python",
      "nbconvert_exporter": "python",
      "pygments_lexer": "ipython3",
      "version": "3.6.6"
    },
    "kernelspec": {
      "name": "python3",
      "display_name": "Python 3"
    },
    "accelerator": "GPU"
  },
  "cells": [
    {
      "cell_type": "markdown",
      "metadata": {
        "id": "SjndRzjVTDSx",
        "colab_type": "text"
      },
      "source": [
        "Download data"
      ]
    },
    {
      "cell_type": "code",
      "metadata": {
        "id": "HeeD4VZ0TBm9",
        "colab_type": "code",
        "colab": {
          "base_uri": "https://localhost:8080/",
          "height": 595
        },
        "outputId": "b1ee469a-48a3-43cc-945d-ea3017d6eed2"
      },
      "source": [
        "!wget https://download.pytorch.org/tutorial/data.zip\n",
        "!unzip data.zip\n",
        "!ls"
      ],
      "execution_count": 1,
      "outputs": [
        {
          "output_type": "stream",
          "text": [
            "--2020-08-18 16:56:54--  https://download.pytorch.org/tutorial/data.zip\n",
            "Resolving download.pytorch.org (download.pytorch.org)... 13.227.223.15, 13.227.223.82, 13.227.223.75, ...\n",
            "Connecting to download.pytorch.org (download.pytorch.org)|13.227.223.15|:443... connected.\n",
            "HTTP request sent, awaiting response... 200 OK\n",
            "Length: 2882130 (2.7M) [application/zip]\n",
            "Saving to: ‘data.zip’\n",
            "\n",
            "data.zip            100%[===================>]   2.75M  4.74MB/s    in 0.6s    \n",
            "\n",
            "2020-08-18 16:56:55 (4.74 MB/s) - ‘data.zip’ saved [2882130/2882130]\n",
            "\n",
            "Archive:  data.zip\n",
            "   creating: data/\n",
            "  inflating: data/eng-fra.txt        \n",
            "   creating: data/names/\n",
            "  inflating: data/names/Arabic.txt   \n",
            "  inflating: data/names/Chinese.txt  \n",
            "  inflating: data/names/Czech.txt    \n",
            "  inflating: data/names/Dutch.txt    \n",
            "  inflating: data/names/English.txt  \n",
            "  inflating: data/names/French.txt   \n",
            "  inflating: data/names/German.txt   \n",
            "  inflating: data/names/Greek.txt    \n",
            "  inflating: data/names/Irish.txt    \n",
            "  inflating: data/names/Italian.txt  \n",
            "  inflating: data/names/Japanese.txt  \n",
            "  inflating: data/names/Korean.txt   \n",
            "  inflating: data/names/Polish.txt   \n",
            "  inflating: data/names/Portuguese.txt  \n",
            "  inflating: data/names/Russian.txt  \n",
            "  inflating: data/names/Scottish.txt  \n",
            "  inflating: data/names/Spanish.txt  \n",
            "  inflating: data/names/Vietnamese.txt  \n",
            "data  data.zip\tsample_data\n"
          ],
          "name": "stdout"
        }
      ]
    },
    {
      "cell_type": "code",
      "metadata": {
        "id": "4tSGA3X6dURt",
        "colab_type": "code",
        "colab": {}
      },
      "source": [
        "%matplotlib inline"
      ],
      "execution_count": 2,
      "outputs": []
    },
    {
      "cell_type": "markdown",
      "metadata": {
        "id": "MRMSa-PEdURy",
        "colab_type": "text"
      },
      "source": [
        "\n",
        "Generating Names with a Character-Level RNN\n",
        "*******************************************\n",
        "**Author**: `Sean Robertson <https://github.com/spro/practical-pytorch>`_\n",
        "\n",
        "In the :doc:`last tutorial </intermediate/char_rnn_classification_tutorial>`\n",
        "we used a RNN to classify names into their language of origin. This time\n",
        "we'll turn around and generate names from languages.\n",
        "\n",
        "::\n",
        "\n",
        "    > python sample.py Russian RUS\n",
        "    Rovakov\n",
        "    Uantov\n",
        "    Shavakov\n",
        "\n",
        "    > python sample.py German GER\n",
        "    Gerren\n",
        "    Ereng\n",
        "    Rosher\n",
        "\n",
        "    > python sample.py Spanish SPA\n",
        "    Salla\n",
        "    Parer\n",
        "    Allan\n",
        "\n",
        "    > python sample.py Chinese CHI\n",
        "    Chan\n",
        "    Hang\n",
        "    Iun\n",
        "\n",
        "We are still hand-crafting a small RNN with a few linear layers. The big\n",
        "difference is instead of predicting a category after reading in all the\n",
        "letters of a name, we input a category and output one letter at a time.\n",
        "Recurrently predicting characters to form language (this could also be\n",
        "done with words or other higher order constructs) is often referred to\n",
        "as a \"language model\".\n",
        "\n",
        "**Recommended Reading:**\n",
        "\n",
        "I assume you have at least installed PyTorch, know Python, and\n",
        "understand Tensors:\n",
        "\n",
        "-  http://pytorch.org/ For installation instructions\n",
        "-  :doc:`/beginner/deep_learning_60min_blitz` to get started with PyTorch in general\n",
        "-  :doc:`/beginner/pytorch_with_examples` for a wide and deep overview\n",
        "-  :doc:`/beginner/former_torchies_tutorial` if you are former Lua Torch user\n",
        "\n",
        "It would also be useful to know about RNNs and how they work:\n",
        "\n",
        "-  `The Unreasonable Effectiveness of Recurrent Neural\n",
        "   Networks <http://karpathy.github.io/2015/05/21/rnn-effectiveness/>`__\n",
        "   shows a bunch of real life examples\n",
        "-  `Understanding LSTM\n",
        "   Networks <http://colah.github.io/posts/2015-08-Understanding-LSTMs/>`__\n",
        "   is about LSTMs specifically but also informative about RNNs in\n",
        "   general\n",
        "\n",
        "I also suggest the previous tutorial, :doc:`/intermediate/char_rnn_classification_tutorial`\n",
        "\n",
        "\n",
        "Preparing the Data\n",
        "==================\n",
        "\n",
        ".. Note::\n",
        "   Download the data from\n",
        "   `here <https://download.pytorch.org/tutorial/data.zip>`_\n",
        "   and extract it to the current directory.\n",
        "\n",
        "See the last tutorial for more detail of this process. In short, there\n",
        "are a bunch of plain text files ``data/names/[Language].txt`` with a\n",
        "name per line. We split lines into an array, convert Unicode to ASCII,\n",
        "and end up with a dictionary ``{language: [names ...]}``.\n",
        "\n",
        "\n"
      ]
    },
    {
      "cell_type": "code",
      "metadata": {
        "id": "yivWZ-QrdURz",
        "colab_type": "code",
        "colab": {
          "base_uri": "https://localhost:8080/",
          "height": 51
        },
        "outputId": "fda8246b-6673-43ab-f9b3-8bc2adbc1b44"
      },
      "source": [
        "from __future__ import unicode_literals, print_function, division\n",
        "from io import open\n",
        "import glob\n",
        "import os\n",
        "import unicodedata\n",
        "import string\n",
        "import math\n",
        "import random\n",
        "\n",
        "all_letters = string.ascii_letters + \" .,;'-\"\n",
        "n_letters = len(all_letters) + 1 # Plus EOS marker\n",
        "\n",
        "def findFiles(path): return glob.glob(path)\n",
        "\n",
        "# Turn a Unicode string to plain ASCII, thanks to http://stackoverflow.com/a/518232/2809427\n",
        "def unicodeToAscii(s):\n",
        "    return ''.join(\n",
        "        c for c in unicodedata.normalize('NFD', s)\n",
        "        if unicodedata.category(c) != 'Mn'\n",
        "        and c in all_letters\n",
        "    )\n",
        "\n",
        "# Read a file and split into lines\n",
        "def readLines(filename):\n",
        "    lines = open(filename, encoding='utf-8').read().strip().split('\\n')\n",
        "    return [unicodeToAscii(line) for line in lines]\n",
        "\n",
        "# Build the category_lines dictionary, a list of lines per category\n",
        "category_lines = {}\n",
        "train_data = {}\n",
        "test_data = {}\n",
        "all_categories = []\n",
        "for filename in findFiles('data/names/*.txt'):\n",
        "    category = os.path.splitext(os.path.basename(filename))[0]\n",
        "    all_categories.append(category)\n",
        "    lines = readLines(filename)\n",
        "    random.shuffle(lines)\n",
        "    train_data[category] = lines[0:int(math.floor(0.8*len(lines)))]\n",
        "    test_data[category] = lines[int(math.floor(0.8*len(lines)))+1:]\n",
        "    category_lines[category] = lines\n",
        "\n",
        "n_categories = len(all_categories)\n",
        "\n",
        "if n_categories == 0:\n",
        "    raise RuntimeError('Data not found. Make sure that you downloaded data '\n",
        "        'from https://download.pytorch.org/tutorial/data.zip and extract it to '\n",
        "        'the current directory.')\n",
        "\n",
        "print('# categories:', n_categories, all_categories)\n",
        "print(unicodeToAscii(\"O'Néàl\"))"
      ],
      "execution_count": 3,
      "outputs": [
        {
          "output_type": "stream",
          "text": [
            "# categories: 18 ['Italian', 'English', 'Portuguese', 'Dutch', 'Chinese', 'Greek', 'Polish', 'Japanese', 'Korean', 'French', 'Russian', 'German', 'Czech', 'Scottish', 'Irish', 'Spanish', 'Vietnamese', 'Arabic']\n",
            "O'Neal\n"
          ],
          "name": "stdout"
        }
      ]
    },
    {
      "cell_type": "markdown",
      "metadata": {
        "id": "MlY6De-4dUR1",
        "colab_type": "text"
      },
      "source": [
        "Creating the Network\n",
        "====================\n",
        "\n",
        "This network extends `the last tutorial's RNN <#Creating-the-Network>`__\n",
        "with an extra argument for the category tensor, which is concatenated\n",
        "along with the others. The category tensor is a one-hot vector just like\n",
        "the letter input.\n",
        "\n",
        "We will interpret the output as the probability of the next letter. When\n",
        "sampling, the most likely output letter is used as the next input\n",
        "letter.\n",
        "\n",
        "I added a second linear layer ``o2o`` (after combining hidden and\n",
        "output) to give it more muscle to work with. There's also a dropout\n",
        "layer, which `randomly zeros parts of its\n",
        "input <https://arxiv.org/abs/1207.0580>`__ with a given probability\n",
        "(here 0.1) and is usually used to fuzz inputs to prevent overfitting.\n",
        "Here we're using it towards the end of the network to purposely add some\n",
        "chaos and increase sampling variety.\n",
        "\n",
        ".. figure:: https://i.imgur.com/jzVrf7f.png\n",
        "   :alt:\n",
        "\n",
        "\n",
        "\n"
      ]
    },
    {
      "cell_type": "code",
      "metadata": {
        "id": "B3Y0aicRdUR2",
        "colab_type": "code",
        "colab": {}
      },
      "source": [
        "import torch\n",
        "import torch.nn as nn\n",
        "from torch.autograd import Variable\n",
        "\n",
        "class RNN(nn.Module):\n",
        "    def __init__(self, input_size, hidden_size, output_size):\n",
        "        super(RNN, self).__init__()\n",
        "        self.hidden_size = hidden_size\n",
        "\n",
        "        self.i2h = nn.Linear(n_categories + input_size + hidden_size, hidden_size)\n",
        "        self.i2o = nn.Linear(n_categories + input_size + hidden_size, output_size)\n",
        "        self.o2o = nn.Linear(hidden_size + output_size, output_size)\n",
        "        self.dropout = nn.Dropout(0.1)\n",
        "        self.softmax = nn.LogSoftmax(dim=1)\n",
        "\n",
        "    def forward(self, category, input, hidden):\n",
        "        input_combined = torch.cat((category, input, hidden), 1)\n",
        "        hidden = self.i2h(input_combined)\n",
        "        output = self.i2o(input_combined)\n",
        "        output_combined = torch.cat((hidden, output), 1)\n",
        "        output = self.o2o(output_combined)\n",
        "        output = self.dropout(output)\n",
        "        output = self.softmax(output)\n",
        "        return output, hidden\n",
        "\n",
        "    def initHidden(self):\n",
        "        return torch.zeros(1, self.hidden_size)\n",
        "\n",
        "class RNN3(nn.Module):\n",
        "    def __init__(self, input_size, hidden_size, output_size):\n",
        "        super(RNN3, self).__init__()\n",
        "        self.hidden_size = hidden_size\n",
        "\n",
        "        self.i2h = nn.Linear(n_categories + input_size + hidden_size, hidden_size)\n",
        "        self.i2o = nn.Linear(n_categories + input_size + hidden_size, output_size)\n",
        "        self.o2o = nn.Linear(hidden_size + output_size, output_size)\n",
        "        self.dropout = nn.Dropout(0.1)\n",
        "        self.softmax = nn.LogSoftmax(dim=1)\n",
        "\n",
        "    def forward(self, category, input, hidden):\n",
        "        input_combined_i2o = torch.cat((category, input, hidden), 1)\n",
        "        input_combined_i2h = torch.cat((category, torch.zeros_like(input), hidden), 1)\n",
        "        hidden = self.i2h(input_combined_i2h)\n",
        "        output = self.i2o(input_combined_i2o)\n",
        "        output_combined = torch.cat((hidden, output), 1)\n",
        "        output = self.o2o(output_combined)\n",
        "        output = self.dropout(output)\n",
        "        output = self.softmax(output)\n",
        "        return output, hidden\n",
        "\n",
        "    def initHidden(self):\n",
        "        return torch.zeros(1, self.hidden_size)"
      ],
      "execution_count": 17,
      "outputs": []
    },
    {
      "cell_type": "markdown",
      "metadata": {
        "id": "-f_zTkMSdUR4",
        "colab_type": "text"
      },
      "source": [
        "Training\n",
        "=========\n",
        "Preparing for Training\n",
        "----------------------\n",
        "\n",
        "First of all, helper functions to get random pairs of (category, line):\n",
        "\n",
        "\n"
      ]
    },
    {
      "cell_type": "code",
      "metadata": {
        "id": "mJ4453vLdUR5",
        "colab_type": "code",
        "colab": {}
      },
      "source": [
        "import random\n",
        "\n",
        "# Random item from a list\n",
        "def randomChoice(l):\n",
        "    return l[random.randint(0, len(l) - 1)]\n",
        "\n",
        "# Get a random category and random line from that category\n",
        "def randomTrainingPair():\n",
        "    category = randomChoice(all_categories)\n",
        "    line = randomChoice(train_data[category])\n",
        "    return category, line"
      ],
      "execution_count": 5,
      "outputs": []
    },
    {
      "cell_type": "markdown",
      "metadata": {
        "id": "9l7cNuyJdUR7",
        "colab_type": "text"
      },
      "source": [
        "For each timestep (that is, for each letter in a training word) the\n",
        "inputs of the network will be\n",
        "``(category, current letter, hidden state)`` and the outputs will be\n",
        "``(next letter, next hidden state)``. So for each training set, we'll\n",
        "need the category, a set of input letters, and a set of output/target\n",
        "letters.\n",
        "\n",
        "Since we are predicting the next letter from the current letter for each\n",
        "timestep, the letter pairs are groups of consecutive letters from the\n",
        "line - e.g. for ``\"ABCD<EOS>\"`` we would create (\"A\", \"B\"), (\"B\", \"C\"),\n",
        "(\"C\", \"D\"), (\"D\", \"EOS\").\n",
        "\n",
        ".. figure:: https://i.imgur.com/JH58tXY.png\n",
        "   :alt:\n",
        "\n",
        "The category tensor is a `one-hot\n",
        "tensor <https://en.wikipedia.org/wiki/One-hot>`__ of size\n",
        "``<1 x n_categories>``. When training we feed it to the network at every\n",
        "timestep - this is a design choice, it could have been included as part\n",
        "of initial hidden state or some other strategy.\n",
        "\n",
        "\n"
      ]
    },
    {
      "cell_type": "code",
      "metadata": {
        "id": "XiLZFiyddUR7",
        "colab_type": "code",
        "colab": {}
      },
      "source": [
        "# One-hot vector for category\n",
        "def categoryTensor(category):\n",
        "    li = all_categories.index(category)\n",
        "    tensor = torch.zeros(1, n_categories)\n",
        "    tensor[0][li] = 1\n",
        "    return tensor\n",
        "\n",
        "# One-hot matrix of first to last letters (not including EOS) for input\n",
        "def inputTensor(line):\n",
        "    tensor = torch.zeros(len(line), 1, n_letters)\n",
        "    for li in range(len(line)):\n",
        "        letter = line[li]\n",
        "        tensor[li][0][all_letters.find(letter)] = 1\n",
        "    return tensor\n",
        "\n",
        "# LongTensor of second letter to end (EOS) for target\n",
        "def targetTensor(line):\n",
        "    letter_indexes = [all_letters.find(line[li]) for li in range(1, len(line))]\n",
        "    letter_indexes.append(n_letters - 1) # EOS\n",
        "    return torch.LongTensor(letter_indexes)"
      ],
      "execution_count": 6,
      "outputs": []
    },
    {
      "cell_type": "markdown",
      "metadata": {
        "id": "SlrGrMi0dUR-",
        "colab_type": "text"
      },
      "source": [
        "For convenience during training we'll make a ``randomTrainingExample``\n",
        "function that fetches a random (category, line) pair and turns them into\n",
        "the required (category, input, target) tensors.\n",
        "\n",
        "\n"
      ]
    },
    {
      "cell_type": "code",
      "metadata": {
        "id": "G8WKEzgLdUR_",
        "colab_type": "code",
        "colab": {}
      },
      "source": [
        "# Make category, input, and target tensors from a random category, line pair\n",
        "def randomTrainingExample():\n",
        "    category, line = randomTrainingPair()\n",
        "    category_tensor = categoryTensor(category)\n",
        "    input_line_tensor = inputTensor(line)\n",
        "    target_line_tensor = targetTensor(line)\n",
        "    return category_tensor, input_line_tensor, target_line_tensor"
      ],
      "execution_count": 7,
      "outputs": []
    },
    {
      "cell_type": "markdown",
      "metadata": {
        "id": "AdFYtchcdUSB",
        "colab_type": "text"
      },
      "source": [
        "Training the Network\n",
        "--------------------\n",
        "\n",
        "In contrast to classification, where only the last output is used, we\n",
        "are making a prediction at every step, so we are calculating loss at\n",
        "every step.\n",
        "\n",
        "The magic of autograd allows you to simply sum these losses at each step\n",
        "and call backward at the end.\n",
        "\n",
        "\n"
      ]
    },
    {
      "cell_type": "code",
      "metadata": {
        "id": "a9WcN0iMdUSB",
        "colab_type": "code",
        "colab": {}
      },
      "source": [
        "criterion = nn.NLLLoss()\n",
        "\n",
        "learning_rate = 0.0005\n",
        "\n",
        "def train(category_tensor, input_line_tensor, target_line_tensor):\n",
        "    target_line_tensor.unsqueeze_(-1)\n",
        "    hidden = rnn.initHidden()\n",
        "\n",
        "    rnn.zero_grad()\n",
        "\n",
        "    loss = 0\n",
        "\n",
        "    for i in range(input_line_tensor.size(0)):\n",
        "        output, hidden = rnn(category_tensor, input_line_tensor[i], hidden)\n",
        "        l = criterion(output, target_line_tensor[i])\n",
        "        loss += l\n",
        "\n",
        "    loss.backward()\n",
        "\n",
        "    for p in rnn.parameters():\n",
        "        p.data.add_(-learning_rate, p.grad.data)\n",
        "\n",
        "    return output, loss.item() / input_line_tensor.size(0)\n",
        "\n",
        "def train2(category_tensor, input_line_tensor, target_line_tensor):\n",
        "    target_line_tensor.unsqueeze_(-1)\n",
        "    hidden = rnn2.initHidden()\n",
        "\n",
        "    rnn2.zero_grad()\n",
        "\n",
        "    loss = 0\n",
        "    \n",
        "    # first iteration, keep category_tensor\n",
        "    output, hidden = rnn2(category_tensor, input_line_tensor[0], hidden)\n",
        "    l = criterion(output, target_line_tensor[0])\n",
        "    loss += l\n",
        "    \n",
        "    # zero out the category tensor after the first iteration for i2h and i2o\n",
        "    category_tensor = torch.zeros_like(category_tensor)\n",
        "    \n",
        "    for i in range(1, input_line_tensor.size(0)):\n",
        "        output, hidden = rnn2(category_tensor, input_line_tensor[i], hidden)\n",
        "        l = criterion(output, target_line_tensor[i])\n",
        "        loss += l\n",
        "\n",
        "    loss.backward()\n",
        "\n",
        "    for p in rnn2.parameters():\n",
        "        p.data.add_(-learning_rate, p.grad.data)\n",
        "\n",
        "    return output, loss.item() / input_line_tensor.size(0)\n",
        "\n",
        "def train3(category_tensor, input_line_tensor, target_line_tensor):\n",
        "    target_line_tensor.unsqueeze_(-1)\n",
        "    hidden = rnn3.initHidden()\n",
        "\n",
        "    rnn3.zero_grad()\n",
        "\n",
        "    loss = 0\n",
        "    \n",
        "    # zero out the input tensor at all iterations for i2h, already implemented in RNN3\n",
        "    for i in range(input_line_tensor.size(0)):\n",
        "        output, hidden = rnn3(category_tensor, input_line_tensor[i], hidden)\n",
        "        l = criterion(output, target_line_tensor[i])\n",
        "        loss += l\n",
        "\n",
        "    loss.backward()\n",
        "\n",
        "    for p in rnn3.parameters():\n",
        "        p.data.add_(-learning_rate, p.grad.data)\n",
        "\n",
        "    return output, loss.item() / input_line_tensor.size(0)\n",
        "\n",
        "def train4(category_tensor, input_line_tensor, target_line_tensor):\n",
        "    target_line_tensor.unsqueeze_(-1)\n",
        "    hidden = rnn4.initHidden()\n",
        "\n",
        "    rnn4.zero_grad()\n",
        "    \n",
        "    loss = 0\n",
        "    \n",
        "    # first iteration, keep category_tensor\n",
        "    output, hidden = rnn4(category_tensor, input_line_tensor[0], hidden)\n",
        "    l = criterion(output, target_line_tensor[0])\n",
        "    loss += l\n",
        "    \n",
        "    # zero out the category tensor after the first iteration for both i2h and i2o\n",
        "    category_tensor = torch.zeros_like(category_tensor)\n",
        "    \n",
        "    # zero out the input tensor at all iterations for i2h, already implemented in RNN3\n",
        "    for i in range(1, input_line_tensor.size(0)):\n",
        "        output, hidden = rnn4(category_tensor, input_line_tensor[i], hidden)\n",
        "        l = criterion(output, target_line_tensor[i])\n",
        "        loss += l\n",
        "\n",
        "    loss.backward()\n",
        "\n",
        "    for p in rnn4.parameters():\n",
        "        p.data.add_(-learning_rate, p.grad.data)\n",
        "\n",
        "    return output, loss.item() / input_line_tensor.size(0)"
      ],
      "execution_count": 19,
      "outputs": []
    },
    {
      "cell_type": "markdown",
      "metadata": {
        "id": "sxerzd5cdUSE",
        "colab_type": "text"
      },
      "source": [
        "To keep track of how long training takes I am adding a\n",
        "``timeSince(timestamp)`` function which returns a human readable string:\n",
        "\n",
        "\n"
      ]
    },
    {
      "cell_type": "code",
      "metadata": {
        "id": "CgynvRVzdUSE",
        "colab_type": "code",
        "colab": {}
      },
      "source": [
        "import time\n",
        "import math\n",
        "\n",
        "def timeSince(since):\n",
        "    now = time.time()\n",
        "    s = now - since\n",
        "    m = math.floor(s / 60)\n",
        "    s -= m * 60\n",
        "    return '%dm %ds' % (m, s)"
      ],
      "execution_count": 9,
      "outputs": []
    },
    {
      "cell_type": "markdown",
      "metadata": {
        "id": "7pLWH-5YdUSH",
        "colab_type": "text"
      },
      "source": [
        "Training is business as usual - call train a bunch of times and wait a\n",
        "few minutes, printing the current time and loss every ``print_every``\n",
        "examples, and keeping store of an average loss per ``plot_every`` examples\n",
        "in ``all_losses`` for plotting later.\n",
        "\n",
        "\n"
      ]
    },
    {
      "cell_type": "code",
      "metadata": {
        "id": "VpSLff2TdUSI",
        "colab_type": "code",
        "colab": {
          "base_uri": "https://localhost:8080/",
          "height": 425
        },
        "outputId": "fd7b0a96-a8b1-41cb-bb5d-bb81f8ea586d"
      },
      "source": [
        "rnn = RNN(n_letters, 128, n_letters)\n",
        "\n",
        "n_iters = 100000\n",
        "print_every = 5000\n",
        "plot_every = 500\n",
        "all_losses = []\n",
        "all_test_losses = []\n",
        "total_loss = 0 # Reset every plot_every iters\n",
        "\n",
        "# Just return an output given a line\n",
        "def evaluate(category_tensor, input_line_tensor, target_line_tensor):\n",
        "    target_line_tensor.unsqueeze_(-1)\n",
        "    hidden = rnn.initHidden()\n",
        "    loss = 0\n",
        "    for i in range(input_line_tensor.size()[0]):\n",
        "        output, hidden = rnn(category_tensor, input_line_tensor[i], hidden)\n",
        "        loss += criterion(output, target_line_tensor[i])\n",
        "    return output, loss.item() / input_line_tensor.size(0)\n",
        "\n",
        "start = time.time()\n",
        "\n",
        "for iter in range(1, n_iters + 1):\n",
        "    output, loss = train(*randomTrainingExample())\n",
        "    total_loss += loss\n",
        "\n",
        "    if iter % print_every == 0:\n",
        "        print('%s (%d %d%%) %.4f' % (timeSince(start), iter, iter / n_iters * 100, loss))\n",
        "\n",
        "    if iter % plot_every == 0:\n",
        "        all_losses.append(total_loss / plot_every)\n",
        "        total_loss = 0\n",
        "        \n",
        "    # Compute loss based on test data\n",
        "    if iter % plot_every == 0:\n",
        "        total_test_loss = 0\n",
        "        n_test_instances = 0\n",
        "        for category in all_categories:\n",
        "            category_tensor = Variable(categoryTensor(category))\n",
        "            n_test_instances = n_test_instances + len(test_data[category])\n",
        "            for line in test_data[category]:\n",
        "                input_line_tensor = Variable(inputTensor(line))\n",
        "                target_line_tensor = Variable(targetTensor(line))\n",
        "                output, test_loss = evaluate(category_tensor, input_line_tensor, target_line_tensor)\n",
        "                total_test_loss += test_loss\n",
        "        all_test_losses.append(total_test_loss / n_test_instances)\n"
      ],
      "execution_count": 10,
      "outputs": [
        {
          "output_type": "stream",
          "text": [
            "/usr/local/lib/python3.6/dist-packages/ipykernel_launcher.py:21: UserWarning: This overload of add_ is deprecated:\n",
            "\tadd_(Number alpha, Tensor other)\n",
            "Consider using one of the following signatures instead:\n",
            "\tadd_(Tensor other, *, Number alpha) (Triggered internally at  /pytorch/torch/csrc/utils/python_arg_parser.cpp:766.)\n"
          ],
          "name": "stderr"
        },
        {
          "output_type": "stream",
          "text": [
            "1m 13s (5000 5%) 2.9075\n",
            "2m 33s (10000 10%) 2.7157\n",
            "3m 53s (15000 15%) 2.7350\n",
            "5m 13s (20000 20%) 2.6703\n",
            "6m 34s (25000 25%) 2.5983\n",
            "7m 54s (30000 30%) 2.4713\n",
            "9m 15s (35000 35%) 2.7452\n",
            "10m 36s (40000 40%) 3.6818\n",
            "11m 57s (45000 45%) 1.8599\n",
            "13m 18s (50000 50%) 2.5384\n",
            "14m 38s (55000 55%) 2.2184\n",
            "15m 59s (60000 60%) 2.7333\n",
            "17m 20s (65000 65%) 2.7154\n",
            "18m 41s (70000 70%) 2.5954\n",
            "20m 1s (75000 75%) 1.9799\n",
            "21m 23s (80000 80%) 2.7784\n",
            "22m 43s (85000 85%) 2.5742\n",
            "24m 4s (90000 90%) 2.2176\n",
            "25m 25s (95000 95%) 1.0089\n",
            "26m 46s (100000 100%) 2.3644\n"
          ],
          "name": "stdout"
        }
      ]
    },
    {
      "cell_type": "markdown",
      "metadata": {
        "id": "kTomZt-NkOkq",
        "colab_type": "text"
      },
      "source": [
        "Model 2: previous hidden unit, previous character"
      ]
    },
    {
      "cell_type": "code",
      "metadata": {
        "id": "3DwWia1ikN4q",
        "colab_type": "code",
        "colab": {
          "base_uri": "https://localhost:8080/",
          "height": 357
        },
        "outputId": "543c363b-d132-4c47-96fc-11001b06f19f"
      },
      "source": [
        "rnn2 = RNN(n_letters, 128, n_letters)\n",
        "\n",
        "n_iters = 100000\n",
        "print_every = 5000\n",
        "plot_every = 500\n",
        "all_losses_2 = []\n",
        "all_test_losses_2 = []\n",
        "total_loss = 0 # Reset every plot_every iters\n",
        "\n",
        "# Just return an output given a line\n",
        "def evaluate(category_tensor, input_line_tensor, target_line_tensor):\n",
        "    target_line_tensor.unsqueeze_(-1)\n",
        "    hidden = rnn2.initHidden()\n",
        "    loss = 0\n",
        "      \n",
        "    # first iteration, keep category_tensor\n",
        "    output, hidden = rnn2(category_tensor, input_line_tensor[0], hidden)\n",
        "    l = criterion(output, target_line_tensor[0])\n",
        "    loss += l\n",
        "    \n",
        "    # zero out the category tensor after the first iteration for both i2h and i2o\n",
        "    category_tensor = torch.zeros_like(category_tensor)\n",
        "\n",
        "    for i in range(1, input_line_tensor.size()[0]):\n",
        "        output, hidden = rnn2(category_tensor, input_line_tensor[i], hidden)\n",
        "        loss += criterion(output, target_line_tensor[i])\n",
        "    return output, loss.item() / input_line_tensor.size(0)\n",
        "\n",
        "start = time.time()\n",
        "\n",
        "for iter in range(1, n_iters + 1):\n",
        "    output, loss = train2(*randomTrainingExample())\n",
        "    total_loss += loss\n",
        "\n",
        "    if iter % print_every == 0:\n",
        "        print('%s (%d %d%%) %.4f' % (timeSince(start), iter, iter / n_iters * 100, loss))\n",
        "\n",
        "    if iter % plot_every == 0:\n",
        "        all_losses_2.append(total_loss / plot_every)\n",
        "        total_loss = 0\n",
        "        \n",
        "    # Compute loss based on test data\n",
        "    if iter % plot_every == 0:\n",
        "        total_test_loss = 0\n",
        "        n_test_instances = 0\n",
        "        for category in all_categories:\n",
        "            category_tensor = Variable(categoryTensor(category))\n",
        "            n_test_instances = n_test_instances + len(test_data[category])\n",
        "            for line in test_data[category]:\n",
        "                input_line_tensor = Variable(inputTensor(line))\n",
        "                target_line_tensor = Variable(targetTensor(line))\n",
        "                output, test_loss = evaluate(category_tensor, input_line_tensor, target_line_tensor)\n",
        "                total_test_loss += test_loss\n",
        "        all_test_losses_2.append(total_test_loss / n_test_instances)"
      ],
      "execution_count": 14,
      "outputs": [
        {
          "output_type": "stream",
          "text": [
            "1m 14s (5000 5%) 2.7400\n",
            "2m 37s (10000 10%) 2.7792\n",
            "3m 59s (15000 15%) 2.5421\n",
            "5m 23s (20000 20%) 2.6224\n",
            "6m 47s (25000 25%) 2.6541\n",
            "8m 11s (30000 30%) 3.4880\n",
            "9m 36s (35000 35%) 2.3383\n",
            "11m 0s (40000 40%) 2.5257\n",
            "12m 24s (45000 45%) 2.1245\n",
            "13m 47s (50000 50%) 2.9239\n",
            "15m 10s (55000 55%) 3.0134\n",
            "16m 33s (60000 60%) 2.6974\n",
            "17m 55s (65000 65%) 2.2288\n",
            "19m 18s (70000 70%) 2.3915\n",
            "20m 40s (75000 75%) 1.5124\n",
            "22m 3s (80000 80%) 2.3043\n",
            "23m 32s (85000 85%) 2.4095\n",
            "25m 9s (90000 90%) 2.1503\n",
            "26m 46s (95000 95%) 2.6916\n",
            "28m 22s (100000 100%) 2.3228\n"
          ],
          "name": "stdout"
        }
      ]
    },
    {
      "cell_type": "markdown",
      "metadata": {
        "id": "-88JkfLspUPI",
        "colab_type": "text"
      },
      "source": [
        "Model 3: Previous hidden unit, category"
      ]
    },
    {
      "cell_type": "code",
      "metadata": {
        "id": "sFT5ATu9o0x5",
        "colab_type": "code",
        "colab": {
          "base_uri": "https://localhost:8080/",
          "height": 357
        },
        "outputId": "5c1ec4a0-cfcf-4815-93d4-6ede42d9a208"
      },
      "source": [
        "rnn3 = RNN3(n_letters, 128, n_letters)\n",
        "\n",
        "n_iters = 100000\n",
        "print_every = 5000\n",
        "plot_every = 500\n",
        "all_losses_3 = []\n",
        "all_test_losses_3 = []\n",
        "total_loss = 0 # Reset every plot_every iters\n",
        "\n",
        "# Just return an output given a line\n",
        "def evaluate(category_tensor, input_line_tensor, target_line_tensor):\n",
        "    target_line_tensor.unsqueeze_(-1)\n",
        "    hidden = rnn3.initHidden()\n",
        "    loss = 0\n",
        "\n",
        "    for i in range(input_line_tensor.size()[0]):\n",
        "        output, hidden = rnn3(category_tensor, input_line_tensor[i], hidden)\n",
        "        loss += criterion(output, target_line_tensor[i])\n",
        "    return output, loss.item() / input_line_tensor.size(0)\n",
        "\n",
        "start = time.time()\n",
        "\n",
        "for iter in range(1, n_iters + 1):\n",
        "    output, loss = train3(*randomTrainingExample())\n",
        "    total_loss += loss\n",
        "\n",
        "    if iter % print_every == 0:\n",
        "        print('%s (%d %d%%) %.4f' % (timeSince(start), iter, iter / n_iters * 100, loss))\n",
        "\n",
        "    if iter % plot_every == 0:\n",
        "        all_losses_3.append(total_loss / plot_every)\n",
        "        total_loss = 0\n",
        "        \n",
        "    # Compute loss based on test data\n",
        "    if iter % plot_every == 0:\n",
        "        total_test_loss = 0\n",
        "        n_test_instances = 0\n",
        "        for category in all_categories:\n",
        "            category_tensor = Variable(categoryTensor(category))\n",
        "            n_test_instances = n_test_instances + len(test_data[category])\n",
        "            for line in test_data[category]:\n",
        "                input_line_tensor = Variable(inputTensor(line))\n",
        "                target_line_tensor = Variable(targetTensor(line))\n",
        "                output, test_loss = evaluate(category_tensor, input_line_tensor, target_line_tensor)\n",
        "                total_test_loss += test_loss\n",
        "        all_test_losses_3.append(total_test_loss / n_test_instances)"
      ],
      "execution_count": 20,
      "outputs": [
        {
          "output_type": "stream",
          "text": [
            "1m 19s (5000 5%) 3.2458\n",
            "2m 46s (10000 10%) 2.5509\n",
            "4m 13s (15000 15%) 2.6870\n",
            "5m 40s (20000 20%) 2.6139\n",
            "7m 7s (25000 25%) 2.6083\n",
            "8m 33s (30000 30%) 2.0946\n",
            "10m 0s (35000 35%) 3.3513\n",
            "11m 27s (40000 40%) 3.5842\n",
            "12m 54s (45000 45%) 2.8575\n",
            "14m 21s (50000 50%) 2.5114\n",
            "15m 47s (55000 55%) 2.5654\n",
            "17m 15s (60000 60%) 1.7508\n",
            "18m 42s (65000 65%) 3.0423\n",
            "20m 8s (70000 70%) 1.9684\n",
            "21m 35s (75000 75%) 2.3592\n",
            "23m 4s (80000 80%) 2.3470\n",
            "24m 31s (85000 85%) 2.5063\n",
            "25m 59s (90000 90%) 2.8262\n",
            "27m 26s (95000 95%) 2.9498\n",
            "28m 53s (100000 100%) 2.6847\n"
          ],
          "name": "stdout"
        }
      ]
    },
    {
      "cell_type": "markdown",
      "metadata": {
        "id": "nlppwTxYqcD-",
        "colab_type": "text"
      },
      "source": [
        "Model 4: previous hidden unit"
      ]
    },
    {
      "cell_type": "code",
      "metadata": {
        "id": "EwTGacgrprjl",
        "colab_type": "code",
        "colab": {
          "base_uri": "https://localhost:8080/",
          "height": 357
        },
        "outputId": "b7a381a6-dd30-40d2-8cf4-f502285b528c"
      },
      "source": [
        "rnn4 = RNN3(n_letters, 128, n_letters)\n",
        "\n",
        "n_iters = 100000\n",
        "print_every = 5000\n",
        "plot_every = 500\n",
        "all_losses_4 = []\n",
        "all_test_losses_4 = []\n",
        "total_loss = 0 # Reset every plot_every iters\n",
        "\n",
        "# Just return an output given a line\n",
        "def evaluate(category_tensor, input_line_tensor, target_line_tensor):\n",
        "    target_line_tensor.unsqueeze_(-1)\n",
        "    hidden = rnn4.initHidden()\n",
        "    loss = 0\n",
        "      \n",
        "    # first iteration, keep category_tensor\n",
        "    output, hidden = rnn4(category_tensor, input_line_tensor[0], hidden)\n",
        "    l = criterion(output, target_line_tensor[0])\n",
        "    loss += l\n",
        "    \n",
        "    # zero out the category tensor after the first iteration for both i2h and i2o\n",
        "    category_tensor = torch.zeros_like(category_tensor)\n",
        "\n",
        "    for i in range(1, input_line_tensor.size()[0]):\n",
        "        output, hidden = rnn4(category_tensor, input_line_tensor[i], hidden)\n",
        "        loss += criterion(output, target_line_tensor[i])\n",
        "    return output, loss.item() / input_line_tensor.size(0)\n",
        "\n",
        "start = time.time()\n",
        "\n",
        "for iter in range(1, n_iters + 1):\n",
        "    output, loss = train4(*randomTrainingExample())\n",
        "    total_loss += loss\n",
        "\n",
        "    if iter % print_every == 0:\n",
        "        print('%s (%d %d%%) %.4f' % (timeSince(start), iter, iter / n_iters * 100, loss))\n",
        "\n",
        "    if iter % plot_every == 0:\n",
        "        all_losses_4.append(total_loss / plot_every)\n",
        "        total_loss = 0\n",
        "        \n",
        "    # Compute loss based on test data\n",
        "    if iter % plot_every == 0:\n",
        "        total_test_loss = 0\n",
        "        n_test_instances = 0\n",
        "        for category in all_categories:\n",
        "            category_tensor = Variable(categoryTensor(category))\n",
        "            n_test_instances = n_test_instances + len(test_data[category])\n",
        "            for line in test_data[category]:\n",
        "                input_line_tensor = Variable(inputTensor(line))\n",
        "                target_line_tensor = Variable(targetTensor(line))\n",
        "                output, test_loss = evaluate(category_tensor, input_line_tensor, target_line_tensor)\n",
        "                total_test_loss += test_loss\n",
        "        all_test_losses_4.append(total_test_loss / n_test_instances)"
      ],
      "execution_count": 21,
      "outputs": [
        {
          "output_type": "stream",
          "text": [
            "1m 20s (5000 5%) 2.9416\n",
            "2m 47s (10000 10%) 2.8647\n",
            "4m 15s (15000 15%) 3.1171\n",
            "5m 42s (20000 20%) 2.4716\n",
            "7m 10s (25000 25%) 2.7707\n",
            "8m 37s (30000 30%) 3.5441\n",
            "10m 4s (35000 35%) 2.6623\n",
            "11m 32s (40000 40%) 1.9534\n",
            "13m 0s (45000 45%) 2.4101\n",
            "14m 27s (50000 50%) 2.4410\n",
            "15m 54s (55000 55%) 2.9030\n",
            "17m 22s (60000 60%) 2.2493\n",
            "18m 49s (65000 65%) 3.1752\n",
            "20m 17s (70000 70%) 2.5844\n",
            "21m 45s (75000 75%) 2.7037\n",
            "23m 13s (80000 80%) 2.5479\n",
            "24m 41s (85000 85%) 2.0934\n",
            "26m 8s (90000 90%) 2.0471\n",
            "27m 36s (95000 95%) 2.6027\n",
            "29m 4s (100000 100%) 2.5789\n"
          ],
          "name": "stdout"
        }
      ]
    },
    {
      "cell_type": "markdown",
      "metadata": {
        "id": "kbnt0ez-dUSK",
        "colab_type": "text"
      },
      "source": [
        "Plotting the Losses\n",
        "-------------------\n",
        "\n",
        "Plotting the historical loss from all\\_losses shows the network\n",
        "learning:\n",
        "\n",
        "\n"
      ]
    },
    {
      "cell_type": "code",
      "metadata": {
        "id": "e_cF9iL1dUSK",
        "colab_type": "code",
        "colab": {
          "base_uri": "https://localhost:8080/",
          "height": 280
        },
        "outputId": "8e1c52a2-fdd3-416e-c6a3-3b4f02093f38"
      },
      "source": [
        "import matplotlib.pyplot as plt\n",
        "import matplotlib.ticker as ticker\n",
        "\n",
        "plt.figure()\n",
        "plt.plot(all_test_losses, label='Model 1')\n",
        "plt.plot(all_test_losses_2, label='Model 2')\n",
        "plt.plot(all_test_losses_3, label='Model 3')\n",
        "plt.plot(all_test_losses_4, label='Model 4')\n",
        "plt.xlabel(\"# of thousands of iterations\")\n",
        "plt.ylabel(\"validation negative log likelihood\")\n",
        "plt.legend()\n",
        "plt.show()"
      ],
      "execution_count": 22,
      "outputs": [
        {
          "output_type": "display_data",
          "data": {
            "image/png": "[encoded data removed]",
            "text/plain": [
              "<Figure size 432x288 with 1 Axes>"
            ]
          },
          "metadata": {
            "tags": [],
            "needs_background": "light"
          }
        }
      ]
    },
    {
      "cell_type": "code",
      "metadata": {
        "id": "82sbCJB3CWM2",
        "colab_type": "code",
        "colab": {
          "base_uri": "https://localhost:8080/",
          "height": 279
        },
        "outputId": "510cf74b-036b-43fd-9afd-182c566399dd"
      },
      "source": [
        "plt.figure()\n",
        "plt.plot(all_losses, label='Model 1')\n",
        "plt.plot(all_losses_2, label='Model 2')\n",
        "plt.plot(all_losses_3, label='Model 3')\n",
        "plt.plot(all_losses_4, label='Model 4')\n",
        "plt.xlabel(\"# of thousands of iterations\")\n",
        "plt.ylabel(\"training negative log likelihood\")\n",
        "plt.legend()\n",
        "plt.show()"
      ],
      "execution_count": 23,
      "outputs": [
        {
          "output_type": "display_data",
          "data": {
            "image/png": "[encoded data removed]",
            "text/plain": [
              "<Figure size 432x288 with 1 Axes>"
            ]
          },
          "metadata": {
            "tags": [],
            "needs_background": "light"
          }
        }
      ]
    },
    {
      "cell_type": "markdown",
      "metadata": {
        "id": "FqCUa1rJdUSM",
        "colab_type": "text"
      },
      "source": [
        "Sampling the Network\n",
        "====================\n",
        "\n",
        "To sample we give the network a letter and ask what the next one is,\n",
        "feed that in as the next letter, and repeat until the EOS token.\n",
        "\n",
        "-  Create tensors for input category, starting letter, and empty hidden\n",
        "   state\n",
        "-  Create a string ``output_name`` with the starting letter\n",
        "-  Up to a maximum output length,\n",
        "\n",
        "   -  Feed the current letter to the network\n",
        "   -  Get the next letter from highest output, and next hidden state\n",
        "   -  If the letter is EOS, stop here\n",
        "   -  If a regular letter, add to ``output_name`` and continue\n",
        "\n",
        "-  Return the final name\n",
        "\n",
        ".. Note::\n",
        "   Rather than having to give it a starting letter, another\n",
        "   strategy would have been to include a \"start of string\" token in\n",
        "   training and have the network choose its own starting letter.\n",
        "\n",
        "\n"
      ]
    },
    {
      "cell_type": "code",
      "metadata": {
        "id": "kZWDVkPAdUSN",
        "colab_type": "code",
        "colab": {}
      },
      "source": [
        "max_length = 20\n",
        "\n",
        "# Sample from a category and starting letter\n",
        "def sample(category, start_letter='A'):\n",
        "    with torch.no_grad():  # no need to track history in sampling\n",
        "        category_tensor = categoryTensor(category)\n",
        "        input = inputTensor(start_letter)\n",
        "        hidden = rnn.initHidden()\n",
        "\n",
        "        output_name = start_letter\n",
        "\n",
        "        for i in range(max_length):\n",
        "            output, hidden = rnn(category_tensor, input[0], hidden)\n",
        "            topv, topi = output.topk(1)\n",
        "            topi = topi[0][0]\n",
        "            if topi == n_letters - 1:\n",
        "                break\n",
        "            else:\n",
        "                letter = all_letters[topi]\n",
        "                output_name += letter\n",
        "            input = inputTensor(letter)\n",
        "\n",
        "        return output_name\n",
        "\n",
        "# Get multiple samples from one category and multiple starting letters\n",
        "def samples(category, start_letters='ABC'):\n",
        "    for start_letter in start_letters:\n",
        "        print(sample(category, start_letter))\n",
        "\n",
        "samples('Russian', 'RUS')\n",
        "\n",
        "samples('German', 'GER')\n",
        "\n",
        "samples('Spanish', 'SPA')\n",
        "\n",
        "samples('Chinese', 'CHI')"
      ],
      "execution_count": null,
      "outputs": []
    },
    {
      "cell_type": "markdown",
      "metadata": {
        "id": "f3H4eXrRdUSP",
        "colab_type": "text"
      },
      "source": [
        "Exercises\n",
        "=========\n",
        "\n",
        "-  Try with a different dataset of category -> line, for example:\n",
        "\n",
        "   -  Fictional series -> Character name\n",
        "   -  Part of speech -> Word\n",
        "   -  Country -> City\n",
        "\n",
        "-  Use a \"start of sentence\" token so that sampling can be done without\n",
        "   choosing a start letter\n",
        "-  Get better results with a bigger and/or better shaped network\n",
        "\n",
        "   -  Try the nn.LSTM and nn.GRU layers\n",
        "   -  Combine multiple of these RNNs as a higher level network\n",
        "\n",
        "\n"
      ]
    }
  ]
}