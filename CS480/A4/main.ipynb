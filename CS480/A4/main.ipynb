{
  "nbformat": 4,
  "nbformat_minor": 0,
  "metadata": {
    "language_info": {
      "codemirror_mode": {
        "name": "ipython",
        "version": 3
      },
      "file_extension": ".py",
      "mimetype": "text/x-python",
      "name": "python",
      "nbconvert_exporter": "python",
      "pygments_lexer": "ipython3",
      "version": 3
    },
    "orig_nbformat": 2,
    "kernelspec": {
      "name": "python_defaultSpec_1597007599071",
      "display_name": "Python 3.8.2 64-bit"
    },
    "colab": {
      "name": "main.ipynb",
      "provenance": [],
      "collapsed_sections": []
    },
    "accelerator": "GPU"
  },
  "cells": [
    {
      "cell_type": "code",
      "metadata": {
        "id": "W8ilzd91G9_-",
        "colab_type": "code",
        "colab": {}
      },
      "source": [
        "from __future__ import print_function\n",
        "import keras\n",
        "from keras.datasets import cifar10\n",
        "from keras.preprocessing.image import ImageDataGenerator\n",
        "from keras.models import Sequential\n",
        "from keras.layers import Dense, Dropout, Activation, Flatten\n",
        "from keras.layers import Conv2D, MaxPooling2D\n",
        "import matplotlib.pyplot as plt\n",
        "import os"
      ],
      "execution_count": 13,
      "outputs": []
    },
    {
      "cell_type": "code",
      "metadata": {
        "id": "DxKsST0NG-AC",
        "colab_type": "code",
        "colab": {}
      },
      "source": [
        "batch_size = 32\n",
        "num_classes = 10\n",
        "epochs = 20\n",
        "data_augmentation = False\n",
        "num_predictions = 20\n",
        "save_dir = os.path.join(os.getcwd(), 'saved_models')\n",
        "model_name = 'keras_cifar10_trained_model.h5'"
      ],
      "execution_count": 3,
      "outputs": []
    },
    {
      "cell_type": "code",
      "metadata": {
        "id": "gCBqLQpdG-AG",
        "colab_type": "code",
        "colab": {
          "base_uri": "https://localhost:8080/",
          "height": 68
        },
        "outputId": "a25b2ed3-1ad5-4f6a-dd6e-f186ea634970"
      },
      "source": [
        "# The data, split between train and test sets:\n",
        "(x_train, y_train), (x_test, y_test) = cifar10.load_data()\n",
        "print('x_train shape:', x_train.shape)\n",
        "print(x_train.shape[0], 'train samples')\n",
        "print(x_test.shape[0], 'test samples')\n",
        "\n",
        "# Convert class vectors to binary class matrices.\n",
        "y_train = keras.utils.to_categorical(y_train, num_classes)\n",
        "y_test = keras.utils.to_categorical(y_test, num_classes)\n",
        "\n",
        "x_train = x_train.astype('float32')\n",
        "x_test = x_test.astype('float32')\n",
        "x_train /= 255\n",
        "x_test /= 255"
      ],
      "execution_count": 4,
      "outputs": [
        {
          "output_type": "stream",
          "text": [
            "x_train shape: (50000, 32, 32, 3)\n",
            "50000 train samples\n",
            "10000 test samples\n"
          ],
          "name": "stdout"
        }
      ]
    },
    {
      "cell_type": "markdown",
      "metadata": {
        "id": "2LPG-QAMNPaq",
        "colab_type": "text"
      },
      "source": [
        "# Question 1\n",
        "\n",
        "a) Compare the accuracy of the convolutional neural network in the file cifar10 cnn cs480.py on the\n",
        "cifar10 dataset to the accuracy of simple dense neural networks with 0, 1, 2, 3 and 4 hidden layers of 512\n",
        "rectified linear units each. Run the code in the file cifar10 cnn cs480.py without changing the parameters to train a convolutional neural networks. Then, modify the code in cifar10 cnn cs480.py\n",
        "to obtain simple dense neural networks with 0, 1, 2, 3 and 4 hidden layers of 512 rectified linear units\n",
        "(with a dropout rate of 0.5). Produce two graphs that contain 6 curves (one for the convolutional neural\n",
        "net and one for each dense neural net of 0-4 hidden layers). The y-axis is the accuracy and the x-axis is\n",
        "the number of epochs (# of passes through the training set). Since neural networks take a while to train,\n",
        "cross-validation is not practical. Instead, produce one graph where all the curves correspond to the training accuracy and a second graph where all the curves correspond to the test accuracy. Train the neural\n",
        "networks for 20 epochs. Although 20 epochs is not sufficient to reach convergence, it is sufficient to see\n",
        "the trend. Submit your code and explain the results (i.e., why some models perform better or worse than\n",
        "other models)."
      ]
    },
    {
      "cell_type": "markdown",
      "metadata": {
        "id": "IALW9HoTNa1X",
        "colab_type": "text"
      },
      "source": [
        "Create CNN model architecture"
      ]
    },
    {
      "cell_type": "code",
      "metadata": {
        "id": "nrKQD2kjG-AJ",
        "colab_type": "code",
        "colab": {}
      },
      "source": [
        "model = Sequential()\n",
        "model.add(Conv2D(32, (3, 3), padding='same',input_shape=x_train.shape[1:]))\n",
        "model.add(Activation('relu'))\n",
        "model.add(Conv2D(32, (3, 3), padding='same'))\n",
        "model.add(Activation('relu'))\n",
        "model.add(MaxPooling2D(pool_size=(2, 2)))\n",
        "model.add(Dropout(0.25))\n",
        "\n",
        "model.add(Conv2D(64, (3, 3), padding='same'))\n",
        "model.add(Activation('relu'))\n",
        "model.add(Conv2D(64, (3, 3), padding='same'))\n",
        "model.add(Activation('relu'))\n",
        "model.add(MaxPooling2D(pool_size=(2, 2)))\n",
        "model.add(Dropout(0.25))\n",
        "\n",
        "model.add(Flatten())\n",
        "model.add(Dense(512))\n",
        "model.add(Activation('relu'))\n",
        "model.add(Dropout(0.5))\n",
        "model.add(Dense(num_classes))\n",
        "model.add(Activation('softmax'))"
      ],
      "execution_count": 8,
      "outputs": []
    },
    {
      "cell_type": "markdown",
      "metadata": {
        "id": "QuQt7Lu7PC5g",
        "colab_type": "text"
      },
      "source": [
        "Simple Dense Neural Network"
      ]
    },
    {
      "cell_type": "code",
      "metadata": {
        "id": "vbU50uWVPCaO",
        "colab_type": "code",
        "colab": {}
      },
      "source": [
        "def sdnn(num_hidden_layers):\n",
        "  model = Sequential()\n",
        "  model.add(Flatten()) # input layer -> convert to 1D array\n",
        "  for i in range(num_hidden_layers):\n",
        "    model.add(Dense(512)) # first hidden layer 300 neurons\n",
        "    model.add(Activation('relu'))\n",
        "    model.add(Dropout(0.5))\n",
        "  model.add(Dense(num_classes))\n",
        "  model.add(Activation('softmax'))\n",
        "  return model"
      ],
      "execution_count": null,
      "outputs": []
    },
    {
      "cell_type": "code",
      "metadata": {
        "id": "OBWNizaYe-u6",
        "colab_type": "code",
        "colab": {}
      },
      "source": [
        "# initiate RMSprop optimizer\n",
        "opt = keras.optimizers.RMSprop(lr=0.0001, decay=1e-6)"
      ],
      "execution_count": 9,
      "outputs": []
    },
    {
      "cell_type": "code",
      "metadata": {
        "id": "EHkZO_24Ny0Q",
        "colab_type": "code",
        "colab": {}
      },
      "source": [
        "# Let's train the model using RMSprop\n",
        "model.compile(loss='categorical_crossentropy',\n",
        "              optimizer=opt,\n",
        "              metrics=['accuracy'])"
      ],
      "execution_count": 10,
      "outputs": []
    },
    {
      "cell_type": "code",
      "metadata": {
        "id": "g-GF170kN3QZ",
        "colab_type": "code",
        "colab": {
          "base_uri": "https://localhost:8080/",
          "height": 697
        },
        "outputId": "15ab51d2-39c0-486e-9814-60703c2a0cee"
      },
      "source": [
        "reference = model.fit(x_train, y_train,\n",
        "                batch_size=batch_size,\n",
        "                epochs=epochs,\n",
        "                validation_data=(x_test, y_test),\n",
        "                shuffle=True)"
      ],
      "execution_count": 11,
      "outputs": [
        {
          "output_type": "stream",
          "text": [
            "Epoch 1/20\n",
            "1563/1563 [==============================] - 10s 6ms/step - loss: 1.7974 - accuracy: 0.3467 - val_loss: 1.5172 - val_accuracy: 0.4522\n",
            "Epoch 2/20\n",
            "1563/1563 [==============================] - 9s 6ms/step - loss: 1.4439 - accuracy: 0.4813 - val_loss: 1.3623 - val_accuracy: 0.5050\n",
            "Epoch 3/20\n",
            "1563/1563 [==============================] - 9s 6ms/step - loss: 1.2776 - accuracy: 0.5439 - val_loss: 1.1604 - val_accuracy: 0.5927\n",
            "Epoch 4/20\n",
            "1563/1563 [==============================] - 9s 6ms/step - loss: 1.1681 - accuracy: 0.5880 - val_loss: 1.0876 - val_accuracy: 0.6148\n",
            "Epoch 5/20\n",
            "1563/1563 [==============================] - 9s 6ms/step - loss: 1.0930 - accuracy: 0.6128 - val_loss: 1.0030 - val_accuracy: 0.6482\n",
            "Epoch 6/20\n",
            "1563/1563 [==============================] - 9s 6ms/step - loss: 1.0205 - accuracy: 0.6403 - val_loss: 0.9516 - val_accuracy: 0.6605\n",
            "Epoch 7/20\n",
            "1563/1563 [==============================] - 9s 6ms/step - loss: 0.9685 - accuracy: 0.6620 - val_loss: 0.9195 - val_accuracy: 0.6781\n",
            "Epoch 8/20\n",
            "1563/1563 [==============================] - 9s 6ms/step - loss: 0.9236 - accuracy: 0.6765 - val_loss: 0.8683 - val_accuracy: 0.6939\n",
            "Epoch 9/20\n",
            "1563/1563 [==============================] - 9s 6ms/step - loss: 0.8839 - accuracy: 0.6929 - val_loss: 0.8607 - val_accuracy: 0.6977\n",
            "Epoch 10/20\n",
            "1563/1563 [==============================] - 9s 6ms/step - loss: 0.8563 - accuracy: 0.7018 - val_loss: 0.8407 - val_accuracy: 0.7078\n",
            "Epoch 11/20\n",
            "1563/1563 [==============================] - 9s 6ms/step - loss: 0.8282 - accuracy: 0.7144 - val_loss: 0.7926 - val_accuracy: 0.7195\n",
            "Epoch 12/20\n",
            "1563/1563 [==============================] - 9s 6ms/step - loss: 0.8099 - accuracy: 0.7199 - val_loss: 0.7792 - val_accuracy: 0.7307\n",
            "Epoch 13/20\n",
            "1563/1563 [==============================] - 9s 6ms/step - loss: 0.7850 - accuracy: 0.7276 - val_loss: 0.7916 - val_accuracy: 0.7249\n",
            "Epoch 14/20\n",
            "1563/1563 [==============================] - 9s 6ms/step - loss: 0.7700 - accuracy: 0.7320 - val_loss: 0.7639 - val_accuracy: 0.7337\n",
            "Epoch 15/20\n",
            "1563/1563 [==============================] - 9s 6ms/step - loss: 0.7534 - accuracy: 0.7390 - val_loss: 0.7519 - val_accuracy: 0.7393\n",
            "Epoch 16/20\n",
            "1563/1563 [==============================] - 9s 6ms/step - loss: 0.7392 - accuracy: 0.7459 - val_loss: 0.7347 - val_accuracy: 0.7471\n",
            "Epoch 17/20\n",
            "1563/1563 [==============================] - 9s 6ms/step - loss: 0.7269 - accuracy: 0.7532 - val_loss: 0.7525 - val_accuracy: 0.7432\n",
            "Epoch 18/20\n",
            "1563/1563 [==============================] - 9s 6ms/step - loss: 0.7158 - accuracy: 0.7542 - val_loss: 0.7054 - val_accuracy: 0.7581\n",
            "Epoch 19/20\n",
            "1563/1563 [==============================] - 9s 6ms/step - loss: 0.7067 - accuracy: 0.7592 - val_loss: 0.7367 - val_accuracy: 0.7547\n",
            "Epoch 20/20\n",
            "1563/1563 [==============================] - 9s 6ms/step - loss: 0.6998 - accuracy: 0.7621 - val_loss: 0.7370 - val_accuracy: 0.7495\n"
          ],
          "name": "stdout"
        }
      ]
    },
    {
      "cell_type": "code",
      "metadata": {
        "id": "efDC7Ar1cG77",
        "colab_type": "code",
        "colab": {
          "base_uri": "https://localhost:8080/",
          "height": 1000
        },
        "outputId": "b4463f54-b694-4bfd-c910-7c3e3a608631"
      },
      "source": [
        "SDNNhistory = []\n",
        "for i in range(5):\n",
        "  model = sdnn(i)\n",
        "  # Let's train the model using RMSprop\n",
        "  model.compile(loss='categorical_crossentropy',\n",
        "                optimizer=opt,\n",
        "                metrics=['accuracy'])\n",
        "  history = model.fit(x_train, y_train,\n",
        "                  batch_size=batch_size,\n",
        "                  epochs=epochs,\n",
        "                  validation_data=(x_test, y_test),\n",
        "                  shuffle=True)\n",
        "  SDNNhistory.append(history.history)"
      ],
      "execution_count": null,
      "outputs": [
        {
          "output_type": "stream",
          "text": [
            "Epoch 1/20\n",
            "1563/1563 [==============================] - 5s 3ms/step - loss: 1.9777 - accuracy: 0.2956 - val_loss: 1.8821 - val_accuracy: 0.3401\n",
            "Epoch 2/20\n",
            "1563/1563 [==============================] - 4s 3ms/step - loss: 1.8500 - accuracy: 0.3537 - val_loss: 1.8368 - val_accuracy: 0.3600\n",
            "Epoch 3/20\n",
            "1563/1563 [==============================] - 4s 3ms/step - loss: 1.8157 - accuracy: 0.3701 - val_loss: 1.8237 - val_accuracy: 0.3609\n",
            "Epoch 4/20\n",
            "1563/1563 [==============================] - 4s 3ms/step - loss: 1.7962 - accuracy: 0.3774 - val_loss: 1.7849 - val_accuracy: 0.3840\n",
            "Epoch 5/20\n",
            "1563/1563 [==============================] - 4s 3ms/step - loss: 1.7814 - accuracy: 0.3830 - val_loss: 1.8006 - val_accuracy: 0.3686\n",
            "Epoch 6/20\n",
            "1563/1563 [==============================] - 4s 3ms/step - loss: 1.7710 - accuracy: 0.3881 - val_loss: 1.7858 - val_accuracy: 0.3792\n",
            "Epoch 7/20\n",
            "1563/1563 [==============================] - 4s 3ms/step - loss: 1.7621 - accuracy: 0.3923 - val_loss: 1.7569 - val_accuracy: 0.3953\n",
            "Epoch 8/20\n",
            "1563/1563 [==============================] - 4s 3ms/step - loss: 1.7541 - accuracy: 0.3966 - val_loss: 1.7584 - val_accuracy: 0.3903\n",
            "Epoch 9/20\n",
            "1563/1563 [==============================] - 4s 3ms/step - loss: 1.7481 - accuracy: 0.3978 - val_loss: 1.7685 - val_accuracy: 0.3832\n",
            "Epoch 10/20\n",
            "1563/1563 [==============================] - 4s 3ms/step - loss: 1.7423 - accuracy: 0.3996 - val_loss: 1.7619 - val_accuracy: 0.3857\n",
            "Epoch 11/20\n",
            "1563/1563 [==============================] - 4s 3ms/step - loss: 1.7370 - accuracy: 0.4022 - val_loss: 1.7509 - val_accuracy: 0.3941\n",
            "Epoch 12/20\n",
            "1563/1563 [==============================] - 4s 3ms/step - loss: 1.7331 - accuracy: 0.4021 - val_loss: 1.7462 - val_accuracy: 0.3969\n",
            "Epoch 13/20\n",
            "1563/1563 [==============================] - 4s 3ms/step - loss: 1.7283 - accuracy: 0.4059 - val_loss: 1.7400 - val_accuracy: 0.3962\n",
            "Epoch 14/20\n",
            "1563/1563 [==============================] - 4s 3ms/step - loss: 1.7255 - accuracy: 0.4068 - val_loss: 1.7518 - val_accuracy: 0.3933\n",
            "Epoch 15/20\n",
            "1563/1563 [==============================] - 4s 3ms/step - loss: 1.7217 - accuracy: 0.4079 - val_loss: 1.7540 - val_accuracy: 0.3858\n",
            "Epoch 16/20\n",
            "1563/1563 [==============================] - 4s 3ms/step - loss: 1.7187 - accuracy: 0.4088 - val_loss: 1.7424 - val_accuracy: 0.3928\n",
            "Epoch 17/20\n",
            "1563/1563 [==============================] - 4s 3ms/step - loss: 1.7157 - accuracy: 0.4110 - val_loss: 1.7471 - val_accuracy: 0.3919\n",
            "Epoch 18/20\n",
            "1563/1563 [==============================] - 4s 3ms/step - loss: 1.7137 - accuracy: 0.4130 - val_loss: 1.7359 - val_accuracy: 0.3990\n",
            "Epoch 19/20\n",
            "1563/1563 [==============================] - 4s 3ms/step - loss: 1.7107 - accuracy: 0.4143 - val_loss: 1.7463 - val_accuracy: 0.3912\n",
            "Epoch 20/20\n",
            "1563/1563 [==============================] - 4s 3ms/step - loss: 1.7094 - accuracy: 0.4125 - val_loss: 1.7306 - val_accuracy: 0.3955\n",
            "Epoch 1/20\n",
            "1563/1563 [==============================] - 5s 4ms/step - loss: 1.9731 - accuracy: 0.2891 - val_loss: 1.7958 - val_accuracy: 0.3532\n",
            "Epoch 2/20\n",
            "1563/1563 [==============================] - 5s 3ms/step - loss: 1.8198 - accuracy: 0.3524 - val_loss: 1.7193 - val_accuracy: 0.3955\n",
            "Epoch 3/20\n",
            "1563/1563 [==============================] - 5s 3ms/step - loss: 1.7601 - accuracy: 0.3755 - val_loss: 1.6686 - val_accuracy: 0.4142\n",
            "Epoch 4/20\n",
            "1563/1563 [==============================] - 5s 3ms/step - loss: 1.7194 - accuracy: 0.3888 - val_loss: 1.6390 - val_accuracy: 0.4177\n",
            "Epoch 5/20\n",
            "1563/1563 [==============================] - 5s 3ms/step - loss: 1.6913 - accuracy: 0.4004 - val_loss: 1.6087 - val_accuracy: 0.4274\n",
            "Epoch 6/20\n",
            "1563/1563 [==============================] - 5s 3ms/step - loss: 1.6663 - accuracy: 0.4086 - val_loss: 1.5815 - val_accuracy: 0.4427\n",
            "Epoch 7/20\n",
            "1563/1563 [==============================] - 5s 3ms/step - loss: 1.6425 - accuracy: 0.4208 - val_loss: 1.5446 - val_accuracy: 0.4537\n",
            "Epoch 8/20\n",
            "1563/1563 [==============================] - 5s 3ms/step - loss: 1.6262 - accuracy: 0.4260 - val_loss: 1.5473 - val_accuracy: 0.4473\n",
            "Epoch 9/20\n",
            "1563/1563 [==============================] - 5s 3ms/step - loss: 1.6106 - accuracy: 0.4328 - val_loss: 1.5235 - val_accuracy: 0.4688\n",
            "Epoch 10/20\n",
            "1563/1563 [==============================] - 5s 3ms/step - loss: 1.5971 - accuracy: 0.4392 - val_loss: 1.5163 - val_accuracy: 0.4701\n",
            "Epoch 11/20\n",
            "1563/1563 [==============================] - 6s 4ms/step - loss: 1.5878 - accuracy: 0.4432 - val_loss: 1.5045 - val_accuracy: 0.4706\n",
            "Epoch 12/20\n",
            "1563/1563 [==============================] - 6s 4ms/step - loss: 1.5754 - accuracy: 0.4490 - val_loss: 1.4956 - val_accuracy: 0.4772\n",
            "Epoch 13/20\n",
            "1563/1563 [==============================] - 5s 3ms/step - loss: 1.5622 - accuracy: 0.4512 - val_loss: 1.4978 - val_accuracy: 0.4795\n",
            "Epoch 14/20\n",
            "1563/1563 [==============================] - 5s 3ms/step - loss: 1.5553 - accuracy: 0.4532 - val_loss: 1.4892 - val_accuracy: 0.4746\n",
            "Epoch 15/20\n",
            "1563/1563 [==============================] - 5s 3ms/step - loss: 1.5423 - accuracy: 0.4570 - val_loss: 1.4758 - val_accuracy: 0.4862\n",
            "Epoch 16/20\n",
            "1563/1563 [==============================] - 5s 3ms/step - loss: 1.5332 - accuracy: 0.4616 - val_loss: 1.4602 - val_accuracy: 0.4834\n",
            "Epoch 17/20\n",
            "1563/1563 [==============================] - 5s 3ms/step - loss: 1.5225 - accuracy: 0.4661 - val_loss: 1.4610 - val_accuracy: 0.4897\n",
            "Epoch 18/20\n",
            "1563/1563 [==============================] - 5s 3ms/step - loss: 1.5255 - accuracy: 0.4646 - val_loss: 1.4745 - val_accuracy: 0.4838\n",
            "Epoch 19/20\n",
            "1563/1563 [==============================] - 5s 3ms/step - loss: 1.5170 - accuracy: 0.4708 - val_loss: 1.4543 - val_accuracy: 0.4937\n",
            "Epoch 20/20\n",
            "1563/1563 [==============================] - 5s 3ms/step - loss: 1.5056 - accuracy: 0.4746 - val_loss: 1.4403 - val_accuracy: 0.4958\n",
            "Epoch 1/20\n",
            "1563/1563 [==============================] - 6s 4ms/step - loss: 2.0609 - accuracy: 0.2454 - val_loss: 1.8540 - val_accuracy: 0.3352\n",
            "Epoch 2/20\n",
            "1563/1563 [==============================] - 6s 4ms/step - loss: 1.8962 - accuracy: 0.3165 - val_loss: 1.7730 - val_accuracy: 0.3608\n",
            "Epoch 3/20\n",
            "1563/1563 [==============================] - 6s 4ms/step - loss: 1.8320 - accuracy: 0.3424 - val_loss: 1.7119 - val_accuracy: 0.3974\n",
            "Epoch 4/20\n",
            "1563/1563 [==============================] - 6s 4ms/step - loss: 1.7973 - accuracy: 0.3563 - val_loss: 1.6683 - val_accuracy: 0.4222\n",
            "Epoch 5/20\n",
            "1563/1563 [==============================] - 6s 4ms/step - loss: 1.7675 - accuracy: 0.3651 - val_loss: 1.6412 - val_accuracy: 0.4179\n",
            "Epoch 6/20\n",
            "1563/1563 [==============================] - 6s 4ms/step - loss: 1.7476 - accuracy: 0.3806 - val_loss: 1.6113 - val_accuracy: 0.4324\n",
            "Epoch 7/20\n",
            "1563/1563 [==============================] - 6s 4ms/step - loss: 1.7291 - accuracy: 0.3880 - val_loss: 1.6211 - val_accuracy: 0.4335\n",
            "Epoch 8/20\n",
            "1563/1563 [==============================] - 6s 4ms/step - loss: 1.7154 - accuracy: 0.3914 - val_loss: 1.6062 - val_accuracy: 0.4286\n",
            "Epoch 9/20\n",
            "1563/1563 [==============================] - 6s 4ms/step - loss: 1.7018 - accuracy: 0.3994 - val_loss: 1.5947 - val_accuracy: 0.4252\n",
            "Epoch 10/20\n",
            "1563/1563 [==============================] - 6s 4ms/step - loss: 1.6893 - accuracy: 0.4019 - val_loss: 1.5650 - val_accuracy: 0.4489\n",
            "Epoch 11/20\n",
            "1563/1563 [==============================] - 6s 4ms/step - loss: 1.6796 - accuracy: 0.4058 - val_loss: 1.5525 - val_accuracy: 0.4520\n",
            "Epoch 12/20\n",
            "1563/1563 [==============================] - 6s 4ms/step - loss: 1.6678 - accuracy: 0.4110 - val_loss: 1.5684 - val_accuracy: 0.4391\n",
            "Epoch 13/20\n",
            "1563/1563 [==============================] - 6s 4ms/step - loss: 1.6625 - accuracy: 0.4106 - val_loss: 1.5271 - val_accuracy: 0.4616\n",
            "Epoch 14/20\n",
            "1563/1563 [==============================] - 6s 4ms/step - loss: 1.6492 - accuracy: 0.4189 - val_loss: 1.5440 - val_accuracy: 0.4607\n",
            "Epoch 15/20\n",
            "1563/1563 [==============================] - 6s 4ms/step - loss: 1.6433 - accuracy: 0.4203 - val_loss: 1.5434 - val_accuracy: 0.4539\n",
            "Epoch 16/20\n",
            "1563/1563 [==============================] - 6s 4ms/step - loss: 1.6375 - accuracy: 0.4252 - val_loss: 1.5324 - val_accuracy: 0.4507\n",
            "Epoch 17/20\n",
            "1563/1563 [==============================] - 6s 4ms/step - loss: 1.6287 - accuracy: 0.4275 - val_loss: 1.5034 - val_accuracy: 0.4674\n",
            "Epoch 18/20\n",
            "1563/1563 [==============================] - 6s 4ms/step - loss: 1.6232 - accuracy: 0.4252 - val_loss: 1.6179 - val_accuracy: 0.4140\n",
            "Epoch 19/20\n",
            "1563/1563 [==============================] - 6s 4ms/step - loss: 1.6221 - accuracy: 0.4289 - val_loss: 1.5017 - val_accuracy: 0.4767\n",
            "Epoch 20/20\n",
            "1563/1563 [==============================] - 6s 4ms/step - loss: 1.6129 - accuracy: 0.4340 - val_loss: 1.5089 - val_accuracy: 0.4726\n",
            "Epoch 1/20\n",
            "1563/1563 [==============================] - 6s 4ms/step - loss: 2.1461 - accuracy: 0.1940 - val_loss: 1.9249 - val_accuracy: 0.2995\n",
            "Epoch 2/20\n",
            "1563/1563 [==============================] - 6s 4ms/step - loss: 1.9619 - accuracy: 0.2747 - val_loss: 1.8382 - val_accuracy: 0.3318\n",
            "Epoch 3/20\n",
            "1563/1563 [==============================] - 6s 4ms/step - loss: 1.8960 - accuracy: 0.3089 - val_loss: 1.7903 - val_accuracy: 0.3656\n",
            "Epoch 4/20\n",
            "1563/1563 [==============================] - 6s 4ms/step - loss: 1.8573 - accuracy: 0.3315 - val_loss: 1.7286 - val_accuracy: 0.3925\n",
            "Epoch 5/20\n",
            "1563/1563 [==============================] - 6s 4ms/step - loss: 1.8319 - accuracy: 0.3390 - val_loss: 1.7198 - val_accuracy: 0.3941\n",
            "Epoch 6/20\n",
            "1563/1563 [==============================] - 6s 4ms/step - loss: 1.8047 - accuracy: 0.3518 - val_loss: 1.6786 - val_accuracy: 0.4156\n",
            "Epoch 7/20\n",
            "1563/1563 [==============================] - 6s 4ms/step - loss: 1.7813 - accuracy: 0.3594 - val_loss: 1.6741 - val_accuracy: 0.4148\n",
            "Epoch 8/20\n",
            "1563/1563 [==============================] - 6s 4ms/step - loss: 1.7726 - accuracy: 0.3632 - val_loss: 1.6755 - val_accuracy: 0.4046\n",
            "Epoch 9/20\n",
            "1563/1563 [==============================] - 6s 4ms/step - loss: 1.7562 - accuracy: 0.3702 - val_loss: 1.6713 - val_accuracy: 0.4037\n",
            "Epoch 10/20\n",
            "1563/1563 [==============================] - 6s 4ms/step - loss: 1.7452 - accuracy: 0.3750 - val_loss: 1.6981 - val_accuracy: 0.4071\n",
            "Epoch 11/20\n",
            "1563/1563 [==============================] - 6s 4ms/step - loss: 1.7375 - accuracy: 0.3787 - val_loss: 1.6572 - val_accuracy: 0.4201\n",
            "Epoch 12/20\n",
            "1563/1563 [==============================] - 6s 4ms/step - loss: 1.7298 - accuracy: 0.3843 - val_loss: 1.6588 - val_accuracy: 0.4303\n",
            "Epoch 13/20\n",
            "1563/1563 [==============================] - 6s 4ms/step - loss: 1.7210 - accuracy: 0.3849 - val_loss: 1.6424 - val_accuracy: 0.4291\n",
            "Epoch 14/20\n",
            "1563/1563 [==============================] - 6s 4ms/step - loss: 1.7157 - accuracy: 0.3873 - val_loss: 1.6625 - val_accuracy: 0.4346\n",
            "Epoch 15/20\n",
            "1563/1563 [==============================] - 6s 4ms/step - loss: 1.7102 - accuracy: 0.3916 - val_loss: 1.6554 - val_accuracy: 0.4338\n",
            "Epoch 16/20\n",
            "1563/1563 [==============================] - 6s 4ms/step - loss: 1.6983 - accuracy: 0.3984 - val_loss: 1.6659 - val_accuracy: 0.4240\n",
            "Epoch 17/20\n",
            "1563/1563 [==============================] - 6s 4ms/step - loss: 1.6931 - accuracy: 0.3994 - val_loss: 1.6562 - val_accuracy: 0.4438\n",
            "Epoch 18/20\n",
            "1563/1563 [==============================] - 6s 4ms/step - loss: 1.6901 - accuracy: 0.4025 - val_loss: 1.6652 - val_accuracy: 0.4490\n",
            "Epoch 19/20\n",
            "1563/1563 [==============================] - 6s 4ms/step - loss: 1.6876 - accuracy: 0.4027 - val_loss: 1.6497 - val_accuracy: 0.4422\n",
            "Epoch 20/20\n",
            "1563/1563 [==============================] - 6s 4ms/step - loss: 1.6876 - accuracy: 0.4003 - val_loss: 1.6765 - val_accuracy: 0.4303\n",
            "Epoch 1/20\n",
            "1563/1563 [==============================] - 7s 4ms/step - loss: 2.2041 - accuracy: 0.1581 - val_loss: 2.0185 - val_accuracy: 0.2432\n",
            "Epoch 2/20\n",
            "1563/1563 [==============================] - 6s 4ms/step - loss: 2.0237 - accuracy: 0.2362 - val_loss: 1.9244 - val_accuracy: 0.2878\n",
            "Epoch 3/20\n",
            "1563/1563 [==============================] - 7s 4ms/step - loss: 1.9626 - accuracy: 0.2694 - val_loss: 1.8590 - val_accuracy: 0.3258\n",
            "Epoch 4/20\n",
            "1563/1563 [==============================] - 7s 4ms/step - loss: 1.9183 - accuracy: 0.2915 - val_loss: 1.8532 - val_accuracy: 0.3346\n",
            "Epoch 5/20\n",
            "1563/1563 [==============================] - 6s 4ms/step - loss: 1.8935 - accuracy: 0.3048 - val_loss: 1.7868 - val_accuracy: 0.3647\n",
            "Epoch 6/20\n",
            "1563/1563 [==============================] - 6s 4ms/step - loss: 1.8670 - accuracy: 0.3218 - val_loss: 1.7719 - val_accuracy: 0.3607\n",
            "Epoch 7/20\n",
            "1563/1563 [==============================] - 6s 4ms/step - loss: 1.8479 - accuracy: 0.3277 - val_loss: 1.7734 - val_accuracy: 0.3723\n",
            "Epoch 8/20\n",
            "1563/1563 [==============================] - 6s 4ms/step - loss: 1.8303 - accuracy: 0.3381 - val_loss: 1.7472 - val_accuracy: 0.3803\n",
            "Epoch 9/20\n",
            "1563/1563 [==============================] - 6s 4ms/step - loss: 1.8139 - accuracy: 0.3459 - val_loss: 1.7620 - val_accuracy: 0.3957\n",
            "Epoch 10/20\n",
            "1563/1563 [==============================] - 6s 4ms/step - loss: 1.8028 - accuracy: 0.3467 - val_loss: 1.7779 - val_accuracy: 0.3956\n",
            "Epoch 11/20\n",
            "1563/1563 [==============================] - 6s 4ms/step - loss: 1.7923 - accuracy: 0.3570 - val_loss: 1.7872 - val_accuracy: 0.3836\n",
            "Epoch 12/20\n",
            "1563/1563 [==============================] - 6s 4ms/step - loss: 1.7881 - accuracy: 0.3563 - val_loss: 1.7831 - val_accuracy: 0.3880\n",
            "Epoch 13/20\n",
            "1563/1563 [==============================] - 6s 4ms/step - loss: 1.7847 - accuracy: 0.3610 - val_loss: 1.7856 - val_accuracy: 0.3937\n",
            "Epoch 14/20\n",
            "1563/1563 [==============================] - 6s 4ms/step - loss: 1.7738 - accuracy: 0.3643 - val_loss: 1.8188 - val_accuracy: 0.3693\n",
            "Epoch 15/20\n",
            "1563/1563 [==============================] - 6s 4ms/step - loss: 1.7668 - accuracy: 0.3674 - val_loss: 1.8185 - val_accuracy: 0.3724\n",
            "Epoch 16/20\n",
            "1563/1563 [==============================] - 6s 4ms/step - loss: 1.7700 - accuracy: 0.3664 - val_loss: 1.8034 - val_accuracy: 0.4080\n",
            "Epoch 17/20\n",
            "1563/1563 [==============================] - 6s 4ms/step - loss: 1.7672 - accuracy: 0.3677 - val_loss: 1.8055 - val_accuracy: 0.3752\n",
            "Epoch 18/20\n",
            "1563/1563 [==============================] - 6s 4ms/step - loss: 1.7593 - accuracy: 0.3721 - val_loss: 1.8150 - val_accuracy: 0.3990\n",
            "Epoch 19/20\n",
            "1563/1563 [==============================] - 7s 4ms/step - loss: 1.7570 - accuracy: 0.3723 - val_loss: 1.8110 - val_accuracy: 0.3986\n",
            "Epoch 20/20\n",
            "1563/1563 [==============================] - 6s 4ms/step - loss: 1.7575 - accuracy: 0.3755 - val_loss: 1.7970 - val_accuracy: 0.4019\n"
          ],
          "name": "stdout"
        }
      ]
    },
    {
      "cell_type": "code",
      "metadata": {
        "id": "2zT0Lg_wOEek",
        "colab_type": "code",
        "colab": {
          "base_uri": "https://localhost:8080/",
          "height": 295
        },
        "outputId": "c4347824-5d66-4892-9519-e3ffadc47cf3"
      },
      "source": [
        "plt.plot(reference.history['accuracy'])\n",
        "\n",
        "for i in range(5):\n",
        "  plt.plot(SDNNhistory[i]['accuracy'])\n",
        "\n",
        "plt.title('training accuracy')\n",
        "plt.ylabel('training accuracy')\n",
        "plt.xlabel('epoch')\n",
        "plt.legend(['Conv', 'Dense0', 'Dense1', 'Dense2', 'Dense3', 'Dense4'], loc='upper left')\n",
        "plt.grid(True)\n",
        "plt.gca().set_ylim(0,1)\n",
        "plt.show()"
      ],
      "execution_count": null,
      "outputs": [
        {
          "output_type": "display_data",
          "data": {
            "image/png": "[encoded data removed]",
            "text/plain": [
              "<Figure size 432x288 with 1 Axes>"
            ]
          },
          "metadata": {
            "tags": [],
            "needs_background": "light"
          }
        }
      ]
    },
    {
      "cell_type": "code",
      "metadata": {
        "id": "dziacRPef5Rq",
        "colab_type": "code",
        "colab": {
          "base_uri": "https://localhost:8080/",
          "height": 295
        },
        "outputId": "3bd4acf8-cf60-4725-e08d-a4f6a3618f60"
      },
      "source": [
        "plt.plot(reference.history['val_accuracy'])\n",
        "\n",
        "for i in range(5):\n",
        "  plt.plot(SDNNhistory[i]['val_accuracy'])\n",
        "\n",
        "plt.title('validation accuracy')\n",
        "plt.ylabel('vaidation accuracy')\n",
        "plt.xlabel('epoch')\n",
        "plt.legend(['Conv', 'Dense0', 'Dense1', 'Dense2', 'Dense3', 'Dense4'], loc='upper left')\n",
        "plt.grid(True)\n",
        "plt.gca().set_ylim(0,1)\n",
        "plt.show()"
      ],
      "execution_count": null,
      "outputs": [
        {
          "output_type": "display_data",
          "data": {
            "image/png": "[encoded data removed]",
            "text/plain": [
              "<Figure size 432x288 with 1 Axes>"
            ]
          },
          "metadata": {
            "tags": [],
            "needs_background": "light"
          }
        }
      ]
    },
    {
      "cell_type": "markdown",
      "metadata": {
        "id": "AsAWultCkgj9",
        "colab_type": "text"
      },
      "source": [
        "The convolutional neural network obtained the best results, followed by the dense neural networks. The CNN is much better because it is sparse with shared weights that induce equivariance. This simplifies the optimization, while requiring less data to generalize well. Overfitting is not a problem since similar results are observed for training accuracy and testing accuracy. Gradients should not vanish since we are using ReLU and the networks are not very deep."
      ]
    },
    {
      "cell_type": "markdown",
      "metadata": {
        "id": "nQT41Cw5nkrM",
        "colab_type": "text"
      },
      "source": [
        "b) Compare the accuracy achieved by rectified linear units and sigmoid units in the convolutional neural\n",
        "network in cifar10 cnn cs480.py. Modify the code in cifar10 cnn cs480.py to use sigmoid\n",
        "units. Produce two graphs (one for training accurqcy and one for test accuracy) that each contain 2 curves\n",
        "(one for rectified linear units and another one for sigmoid units). The y-axis is the accuracy and the x-axis\n",
        "1 is the number of epochs. Train the neural networks for 20 epochs. Although 20 epochs is not sufficient to\n",
        "reach convergence, it is sufficient to see the trend. Explain the results (i.e., why one model performs better\n",
        "or worse than the other model). No need to submit your code since the modifications are simple"
      ]
    },
    {
      "cell_type": "markdown",
      "metadata": {
        "id": "IRq7fRI0qKRi",
        "colab_type": "text"
      },
      "source": [
        "Model with sigmoid activation function"
      ]
    },
    {
      "cell_type": "code",
      "metadata": {
        "id": "eUgz8A_Rk42K",
        "colab_type": "code",
        "colab": {}
      },
      "source": [
        "model = Sequential()\n",
        "model.add(Conv2D(32, (3, 3), padding='same',input_shape=x_train.shape[1:]))\n",
        "model.add(Activation('sigmoid'))\n",
        "model.add(Conv2D(32, (3, 3), padding='same'))\n",
        "model.add(Activation('sigmoid'))\n",
        "model.add(MaxPooling2D(pool_size=(2, 2)))\n",
        "model.add(Dropout(0.25))\n",
        "\n",
        "model.add(Conv2D(64, (3, 3), padding='same'))\n",
        "model.add(Activation('sigmoid'))\n",
        "model.add(Conv2D(64, (3, 3), padding='same'))\n",
        "model.add(Activation('sigmoid'))\n",
        "model.add(MaxPooling2D(pool_size=(2, 2)))\n",
        "model.add(Dropout(0.25))\n",
        "\n",
        "model.add(Flatten())\n",
        "model.add(Dense(512))\n",
        "model.add(Activation('sigmoid'))\n",
        "model.add(Dropout(0.5))\n",
        "model.add(Dense(num_classes))\n",
        "model.add(Activation('softmax'))"
      ],
      "execution_count": 5,
      "outputs": []
    },
    {
      "cell_type": "code",
      "metadata": {
        "id": "QH9dl9FJnvhA",
        "colab_type": "code",
        "colab": {}
      },
      "source": [
        "opt = keras.optimizers.RMSprop(lr=0.001, decay=1e-6)\n",
        "\n",
        "# Let's train the model using RMSprop\n",
        "model.compile(loss='categorical_crossentropy',\n",
        "              optimizer=opt,\n",
        "              metrics=['accuracy'])"
      ],
      "execution_count": 6,
      "outputs": []
    },
    {
      "cell_type": "code",
      "metadata": {
        "id": "QSEhxusQn1cb",
        "colab_type": "code",
        "colab": {
          "base_uri": "https://localhost:8080/",
          "height": 697
        },
        "outputId": "9209630a-48a4-410d-b3d3-829fd9f34e3e"
      },
      "source": [
        "history = model.fit(x_train, y_train,\n",
        "                batch_size=batch_size,\n",
        "                epochs=epochs,\n",
        "                validation_data=(x_test, y_test),\n",
        "                shuffle=True)"
      ],
      "execution_count": 7,
      "outputs": [
        {
          "output_type": "stream",
          "text": [
            "Epoch 1/20\n",
            "1563/1563 [==============================] - 10s 6ms/step - loss: 2.1022 - accuracy: 0.2307 - val_loss: 1.7853 - val_accuracy: 0.3546\n",
            "Epoch 2/20\n",
            "1563/1563 [==============================] - 9s 6ms/step - loss: 1.7444 - accuracy: 0.3731 - val_loss: 1.7887 - val_accuracy: 0.3744\n",
            "Epoch 3/20\n",
            "1563/1563 [==============================] - 9s 6ms/step - loss: 1.6001 - accuracy: 0.4306 - val_loss: 1.4799 - val_accuracy: 0.4757\n",
            "Epoch 4/20\n",
            "1563/1563 [==============================] - 9s 6ms/step - loss: 1.5287 - accuracy: 0.4601 - val_loss: 1.3571 - val_accuracy: 0.5167\n",
            "Epoch 5/20\n",
            "1563/1563 [==============================] - 9s 6ms/step - loss: 1.4794 - accuracy: 0.4780 - val_loss: 1.4066 - val_accuracy: 0.4977\n",
            "Epoch 6/20\n",
            "1563/1563 [==============================] - 9s 6ms/step - loss: 1.4467 - accuracy: 0.4919 - val_loss: 1.3313 - val_accuracy: 0.5391\n",
            "Epoch 7/20\n",
            "1563/1563 [==============================] - 9s 6ms/step - loss: 1.4255 - accuracy: 0.5018 - val_loss: 1.3580 - val_accuracy: 0.5185\n",
            "Epoch 8/20\n",
            "1563/1563 [==============================] - 9s 6ms/step - loss: 1.4010 - accuracy: 0.5115 - val_loss: 1.2803 - val_accuracy: 0.5479\n",
            "Epoch 9/20\n",
            "1563/1563 [==============================] - 9s 6ms/step - loss: 1.3622 - accuracy: 0.5275 - val_loss: 1.2117 - val_accuracy: 0.5782\n",
            "Epoch 10/20\n",
            "1563/1563 [==============================] - 9s 6ms/step - loss: 1.3326 - accuracy: 0.5375 - val_loss: 1.2931 - val_accuracy: 0.5514\n",
            "Epoch 11/20\n",
            "1563/1563 [==============================] - 9s 6ms/step - loss: 1.2983 - accuracy: 0.5505 - val_loss: 1.1713 - val_accuracy: 0.5981\n",
            "Epoch 12/20\n",
            "1563/1563 [==============================] - 9s 6ms/step - loss: 1.2909 - accuracy: 0.5535 - val_loss: 1.7557 - val_accuracy: 0.4282\n",
            "Epoch 13/20\n",
            "1563/1563 [==============================] - 9s 6ms/step - loss: 1.2693 - accuracy: 0.5636 - val_loss: 1.1884 - val_accuracy: 0.5820\n",
            "Epoch 14/20\n",
            "1563/1563 [==============================] - 9s 6ms/step - loss: 1.2489 - accuracy: 0.5711 - val_loss: 1.0881 - val_accuracy: 0.6174\n",
            "Epoch 15/20\n",
            "1563/1563 [==============================] - 9s 6ms/step - loss: 1.2446 - accuracy: 0.5753 - val_loss: 1.1717 - val_accuracy: 0.5858\n",
            "Epoch 16/20\n",
            "1563/1563 [==============================] - 9s 6ms/step - loss: 1.2287 - accuracy: 0.5818 - val_loss: 1.5839 - val_accuracy: 0.5403\n",
            "Epoch 17/20\n",
            "1563/1563 [==============================] - 9s 6ms/step - loss: 1.2177 - accuracy: 0.5840 - val_loss: 1.1696 - val_accuracy: 0.6025\n",
            "Epoch 18/20\n",
            "1563/1563 [==============================] - 10s 6ms/step - loss: 1.2133 - accuracy: 0.5864 - val_loss: 1.1059 - val_accuracy: 0.6097\n",
            "Epoch 19/20\n",
            "1563/1563 [==============================] - 9s 6ms/step - loss: 1.1987 - accuracy: 0.5903 - val_loss: 1.1567 - val_accuracy: 0.6108\n",
            "Epoch 20/20\n",
            "1563/1563 [==============================] - 9s 6ms/step - loss: 1.2027 - accuracy: 0.5934 - val_loss: 1.2553 - val_accuracy: 0.5602\n"
          ],
          "name": "stdout"
        }
      ]
    },
    {
      "cell_type": "code",
      "metadata": {
        "id": "b8avpuJ0qNDF",
        "colab_type": "code",
        "colab": {
          "base_uri": "https://localhost:8080/",
          "height": 295
        },
        "outputId": "7d17cb0c-54e4-42b5-8908-db2fef1d7cbc"
      },
      "source": [
        "plt.plot(reference.history['accuracy'])\n",
        "plt.plot(history.history['accuracy'])\n",
        "\n",
        "plt.title('training accuracy')\n",
        "plt.ylabel('training accuracy')\n",
        "plt.xlabel('epoch')\n",
        "plt.legend(['reLU', 'sigmoid'], loc='upper left')\n",
        "plt.grid(True)\n",
        "plt.gca().set_ylim(0,1)\n",
        "plt.show()"
      ],
      "execution_count": null,
      "outputs": [
        {
          "output_type": "display_data",
          "data": {
            "image/png": "[encoded data removed]",
            "text/plain": [
              "<Figure size 432x288 with 1 Axes>"
            ]
          },
          "metadata": {
            "tags": [],
            "needs_background": "light"
          }
        }
      ]
    },
    {
      "cell_type": "code",
      "metadata": {
        "id": "WAlcOOQqqcs1",
        "colab_type": "code",
        "colab": {
          "base_uri": "https://localhost:8080/",
          "height": 295
        },
        "outputId": "56afe054-04f6-417d-8f0c-6b6db8744059"
      },
      "source": [
        "plt.plot(reference.history['val_accuracy'])\n",
        "plt.plot(history.history['val_accuracy'])\n",
        "\n",
        "plt.title('validation accuracy')\n",
        "plt.ylabel('validation accuracy')\n",
        "plt.xlabel('epoch')\n",
        "plt.legend(['reLU', 'sigmoid'], loc='upper left')\n",
        "plt.grid(True)\n",
        "plt.gca().set_ylim(0,1)\n",
        "plt.show()"
      ],
      "execution_count": 14,
      "outputs": [
        {
          "output_type": "display_data",
          "data": {
            "image/png": "[encoded data removed]",
            "text/plain": [
              "<Figure size 432x288 with 1 Axes>"
            ]
          },
          "metadata": {
            "tags": [],
            "needs_background": "light"
          }
        }
      ]
    },
    {
      "cell_type": "markdown",
      "metadata": {
        "id": "9j7IjLaUqnWm",
        "colab_type": "text"
      },
      "source": [
        "The ReLU gives much better results than sigmoid units. Sigmoid units are more subject to the gradient vanishing problem. "
      ]
    },
    {
      "cell_type": "markdown",
      "metadata": {
        "id": "H1Qp6WbeQoRy",
        "colab_type": "text"
      },
      "source": [
        "c) Compare the accuracy achieved with and without drop out as well as with and without data augmentation in\n",
        "the convolutional neural network in cifar10 cnn cs480.py. Modify the code in cifar10 cnn cs480.py\n",
        "to turn on and off dropout as well as data augmentation. Produce two graphs (one for training accuracy and\n",
        "the other one for test accuracy) that each contain 4 curves (with and without dropout as well as with and\n",
        "without data augmentation). The y-axis is the accuracy and the x-axis is the number of epochs. Produce\n",
        "curves for as many epochs as you can up to 100 epochs. Explain the results (i.e., why did some models\n",
        "perform better or worse than other models and are the results consistent with the theory). No marks will\n",
        "be deducted for doing less than 100 epochs, however make sure to explain what you expect to see in the\n",
        "curves as the number of epochs reaches 100. No need to submit your code since the modifications are\n",
        "simple."
      ]
    },
    {
      "cell_type": "markdown",
      "metadata": {
        "id": "DwXkzfJfRfyn",
        "colab_type": "text"
      },
      "source": [
        "No Dropout"
      ]
    },
    {
      "cell_type": "code",
      "metadata": {
        "id": "0UV-DsVWRS7K",
        "colab_type": "code",
        "colab": {
          "base_uri": "https://localhost:8080/",
          "height": 697
        },
        "outputId": "456250d4-8748-4333-e178-7f695e3ce8d8"
      },
      "source": [
        "model = Sequential()\n",
        "model.add(Conv2D(32, (3, 3), padding='same',input_shape=x_train.shape[1:]))\n",
        "model.add(Activation('relu'))\n",
        "model.add(Conv2D(32, (3, 3), padding='same'))\n",
        "model.add(Activation('relu'))\n",
        "model.add(MaxPooling2D(pool_size=(2, 2)))\n",
        "\n",
        "model.add(Conv2D(64, (3, 3), padding='same'))\n",
        "model.add(Activation('relu'))\n",
        "model.add(Conv2D(64, (3, 3), padding='same'))\n",
        "model.add(Activation('relu'))\n",
        "model.add(MaxPooling2D(pool_size=(2, 2)))\n",
        "\n",
        "model.add(Flatten())\n",
        "model.add(Dense(512))\n",
        "model.add(Activation('relu'))\n",
        "model.add(Dense(num_classes))\n",
        "model.add(Activation('softmax'))\n",
        "\n",
        "# Let's train the model using RMSprop\n",
        "model.compile(loss='categorical_crossentropy',\n",
        "              optimizer=opt,\n",
        "              metrics=['accuracy'])\n",
        "\n",
        "no_dropout = model.fit(x_train, y_train,\n",
        "                batch_size=batch_size,\n",
        "                epochs=epochs,\n",
        "                validation_data=(x_test, y_test),\n",
        "                shuffle=True)"
      ],
      "execution_count": 15,
      "outputs": [
        {
          "output_type": "stream",
          "text": [
            "Epoch 1/20\n",
            "1563/1563 [==============================] - 9s 6ms/step - loss: 1.6323 - accuracy: 0.4149 - val_loss: 1.3937 - val_accuracy: 0.5046\n",
            "Epoch 2/20\n",
            "1563/1563 [==============================] - 9s 6ms/step - loss: 1.2841 - accuracy: 0.5458 - val_loss: 1.1885 - val_accuracy: 0.5807\n",
            "Epoch 3/20\n",
            "1563/1563 [==============================] - 9s 6ms/step - loss: 1.1155 - accuracy: 0.6088 - val_loss: 1.1906 - val_accuracy: 0.5830\n",
            "Epoch 4/20\n",
            "1563/1563 [==============================] - 9s 6ms/step - loss: 0.9926 - accuracy: 0.6525 - val_loss: 1.0586 - val_accuracy: 0.6325\n",
            "Epoch 5/20\n",
            "1563/1563 [==============================] - 9s 6ms/step - loss: 0.8977 - accuracy: 0.6875 - val_loss: 0.9452 - val_accuracy: 0.6682\n",
            "Epoch 6/20\n",
            "1563/1563 [==============================] - 9s 6ms/step - loss: 0.8204 - accuracy: 0.7152 - val_loss: 0.9108 - val_accuracy: 0.6859\n",
            "Epoch 7/20\n",
            "1563/1563 [==============================] - 9s 6ms/step - loss: 0.7518 - accuracy: 0.7395 - val_loss: 0.8776 - val_accuracy: 0.6981\n",
            "Epoch 8/20\n",
            "1563/1563 [==============================] - 9s 6ms/step - loss: 0.6870 - accuracy: 0.7626 - val_loss: 0.8458 - val_accuracy: 0.7119\n",
            "Epoch 9/20\n",
            "1563/1563 [==============================] - 9s 6ms/step - loss: 0.6237 - accuracy: 0.7870 - val_loss: 0.8186 - val_accuracy: 0.7217\n",
            "Epoch 10/20\n",
            "1563/1563 [==============================] - 9s 6ms/step - loss: 0.5645 - accuracy: 0.8073 - val_loss: 0.8443 - val_accuracy: 0.7185\n",
            "Epoch 11/20\n",
            "1563/1563 [==============================] - 9s 6ms/step - loss: 0.5052 - accuracy: 0.8267 - val_loss: 0.8985 - val_accuracy: 0.7127\n",
            "Epoch 12/20\n",
            "1563/1563 [==============================] - 9s 6ms/step - loss: 0.4447 - accuracy: 0.8492 - val_loss: 0.8497 - val_accuracy: 0.7274\n",
            "Epoch 13/20\n",
            "1563/1563 [==============================] - 9s 6ms/step - loss: 0.3881 - accuracy: 0.8696 - val_loss: 0.8912 - val_accuracy: 0.7246\n",
            "Epoch 14/20\n",
            "1563/1563 [==============================] - 9s 6ms/step - loss: 0.3332 - accuracy: 0.8891 - val_loss: 0.8911 - val_accuracy: 0.7353\n",
            "Epoch 15/20\n",
            "1563/1563 [==============================] - 9s 6ms/step - loss: 0.2823 - accuracy: 0.9070 - val_loss: 0.9658 - val_accuracy: 0.7340\n",
            "Epoch 16/20\n",
            "1563/1563 [==============================] - 9s 6ms/step - loss: 0.2350 - accuracy: 0.9239 - val_loss: 1.0570 - val_accuracy: 0.7148\n",
            "Epoch 17/20\n",
            "1563/1563 [==============================] - 9s 6ms/step - loss: 0.1914 - accuracy: 0.9396 - val_loss: 1.1356 - val_accuracy: 0.7197\n",
            "Epoch 18/20\n",
            "1563/1563 [==============================] - 9s 6ms/step - loss: 0.1518 - accuracy: 0.9523 - val_loss: 1.1998 - val_accuracy: 0.7215\n",
            "Epoch 19/20\n",
            "1563/1563 [==============================] - 9s 6ms/step - loss: 0.1214 - accuracy: 0.9622 - val_loss: 1.3221 - val_accuracy: 0.7168\n",
            "Epoch 20/20\n",
            "1563/1563 [==============================] - 9s 6ms/step - loss: 0.0981 - accuracy: 0.9689 - val_loss: 1.4207 - val_accuracy: 0.7237\n"
          ],
          "name": "stdout"
        }
      ]
    },
    {
      "cell_type": "markdown",
      "metadata": {
        "id": "JwS2E4h_5M8a",
        "colab_type": "text"
      },
      "source": [
        "No Dropout Data Augmentation"
      ]
    },
    {
      "cell_type": "code",
      "metadata": {
        "id": "GfaykRX85Ezz",
        "colab_type": "code",
        "colab": {
          "base_uri": "https://localhost:8080/",
          "height": 748
        },
        "outputId": "f9f82853-42d1-4129-87a9-6cd3d5acabcc"
      },
      "source": [
        "model = Sequential()\n",
        "model.add(Conv2D(32, (3, 3), padding='same',input_shape=x_train.shape[1:]))\n",
        "model.add(Activation('relu'))\n",
        "model.add(Conv2D(32, (3, 3), padding='same'))\n",
        "model.add(Activation('relu'))\n",
        "model.add(MaxPooling2D(pool_size=(2, 2)))\n",
        "\n",
        "model.add(Conv2D(64, (3, 3), padding='same'))\n",
        "model.add(Activation('relu'))\n",
        "model.add(Conv2D(64, (3, 3), padding='same'))\n",
        "model.add(Activation('relu'))\n",
        "model.add(MaxPooling2D(pool_size=(2, 2)))\n",
        "\n",
        "model.add(Flatten())\n",
        "model.add(Dense(512))\n",
        "model.add(Activation('relu'))\n",
        "model.add(Dense(num_classes))\n",
        "model.add(Activation('softmax'))\n",
        "\n",
        "# Let's train the model using RMSprop\n",
        "model.compile(loss='categorical_crossentropy',\n",
        "              optimizer=opt,\n",
        "              metrics=['accuracy'])\n",
        "  \n",
        "  \n",
        "datagen = ImageDataGenerator(\n",
        "    featurewise_center=False,  # set input mean to 0 over the dataset\n",
        "    samplewise_center=False,  # set each sample mean to 0\n",
        "    featurewise_std_normalization=False,  # divide inputs by std of the dataset\n",
        "    samplewise_std_normalization=False,  # divide each input by its std\n",
        "    zca_whitening=False,  # apply ZCA whitening\n",
        "    zca_epsilon=1e-06,  # epsilon for ZCA whitening\n",
        "    rotation_range=0,  # randomly rotate images in the range (degrees, 0 to 180)\n",
        "    # randomly shift images horizontally (fraction of total width)\n",
        "    width_shift_range=0.1,\n",
        "    # randomly shift images vertically (fraction of total height)\n",
        "    height_shift_range=0.1,\n",
        "    shear_range=0.,  # set range for random shear\n",
        "    zoom_range=0.,  # set range for random zoom\n",
        "    channel_shift_range=0.,  # set range for random channel shifts\n",
        "    # set mode for filling points outside the input boundaries\n",
        "    fill_mode='nearest',\n",
        "    cval=0.,  # value used for fill_mode = \"constant\"\n",
        "    horizontal_flip=True,  # randomly flip images\n",
        "    vertical_flip=False,  # randomly flip images\n",
        "    # set rescaling factor (applied before any other transformation)\n",
        "    rescale=None,\n",
        "    # set function that will be applied on each input\n",
        "    preprocessing_function=None,\n",
        "    # image data format, either \"channels_first\" or \"channels_last\"\n",
        "    data_format=None,\n",
        "    # fraction of images reserved for validation (strictly between 0 and 1)\n",
        "    validation_split=0.0)\n",
        "\n",
        "# Compute quantities required for feature-wise normalization\n",
        "# (std, mean, and principal components if ZCA whitening is applied).\n",
        "datagen.fit(x_train)\n",
        "\n",
        "# Fit the model on the batches generated by datagen.flow().\n",
        "no_drop_aug = model.fit_generator(datagen.flow(x_train, y_train,\n",
        "                                  batch_size=batch_size),\n",
        "                    steps_per_epoch=1563,\n",
        "                    epochs=epochs,\n",
        "                    validation_data=(x_test, y_test),\n",
        "                    workers=4)"
      ],
      "execution_count": 16,
      "outputs": [
        {
          "output_type": "stream",
          "text": [
            "WARNING:tensorflow:From <ipython-input-16-22f77910814d>:65: Model.fit_generator (from tensorflow.python.keras.engine.training) is deprecated and will be removed in a future version.\n",
            "Instructions for updating:\n",
            "Please use Model.fit, which supports generators.\n",
            "Epoch 1/20\n",
            "1563/1563 [==============================] - 32s 20ms/step - loss: 1.7062 - accuracy: 0.3862 - val_loss: 1.4794 - val_accuracy: 0.4656\n",
            "Epoch 2/20\n",
            "1563/1563 [==============================] - 32s 20ms/step - loss: 1.4169 - accuracy: 0.4928 - val_loss: 1.3166 - val_accuracy: 0.5299\n",
            "Epoch 3/20\n",
            "1563/1563 [==============================] - 32s 20ms/step - loss: 1.2788 - accuracy: 0.5437 - val_loss: 1.1501 - val_accuracy: 0.5907\n",
            "Epoch 4/20\n",
            "1563/1563 [==============================] - 32s 20ms/step - loss: 1.1870 - accuracy: 0.5784 - val_loss: 1.0739 - val_accuracy: 0.6246\n",
            "Epoch 5/20\n",
            "1563/1563 [==============================] - 32s 21ms/step - loss: 1.1093 - accuracy: 0.6100 - val_loss: 1.0559 - val_accuracy: 0.6277\n",
            "Epoch 6/20\n",
            "1563/1563 [==============================] - 32s 21ms/step - loss: 1.0447 - accuracy: 0.6321 - val_loss: 0.9881 - val_accuracy: 0.6581\n",
            "Epoch 7/20\n",
            "1563/1563 [==============================] - 32s 20ms/step - loss: 0.9935 - accuracy: 0.6511 - val_loss: 0.9386 - val_accuracy: 0.6714\n",
            "Epoch 8/20\n",
            "1563/1563 [==============================] - 32s 20ms/step - loss: 0.9567 - accuracy: 0.6661 - val_loss: 0.8645 - val_accuracy: 0.6961\n",
            "Epoch 9/20\n",
            "1563/1563 [==============================] - 32s 20ms/step - loss: 0.9190 - accuracy: 0.6808 - val_loss: 0.8728 - val_accuracy: 0.6995\n",
            "Epoch 10/20\n",
            "1563/1563 [==============================] - 32s 20ms/step - loss: 0.8845 - accuracy: 0.6908 - val_loss: 0.8724 - val_accuracy: 0.7007\n",
            "Epoch 11/20\n",
            "1563/1563 [==============================] - 32s 20ms/step - loss: 0.8545 - accuracy: 0.7006 - val_loss: 0.8285 - val_accuracy: 0.7149\n",
            "Epoch 12/20\n",
            "1563/1563 [==============================] - 32s 20ms/step - loss: 0.8283 - accuracy: 0.7118 - val_loss: 0.8654 - val_accuracy: 0.7009\n",
            "Epoch 13/20\n",
            "1563/1563 [==============================] - 32s 20ms/step - loss: 0.8026 - accuracy: 0.7214 - val_loss: 0.8385 - val_accuracy: 0.7082\n",
            "Epoch 14/20\n",
            "1563/1563 [==============================] - 31s 20ms/step - loss: 0.7769 - accuracy: 0.7278 - val_loss: 0.7554 - val_accuracy: 0.7401\n",
            "Epoch 15/20\n",
            "1563/1563 [==============================] - 32s 20ms/step - loss: 0.7558 - accuracy: 0.7362 - val_loss: 0.7724 - val_accuracy: 0.7357\n",
            "Epoch 16/20\n",
            "1563/1563 [==============================] - 31s 20ms/step - loss: 0.7347 - accuracy: 0.7450 - val_loss: 0.7297 - val_accuracy: 0.7507\n",
            "Epoch 17/20\n",
            "1563/1563 [==============================] - 32s 20ms/step - loss: 0.7132 - accuracy: 0.7526 - val_loss: 0.7198 - val_accuracy: 0.7544\n",
            "Epoch 18/20\n",
            "1563/1563 [==============================] - 31s 20ms/step - loss: 0.6929 - accuracy: 0.7607 - val_loss: 0.7212 - val_accuracy: 0.7579\n",
            "Epoch 19/20\n",
            "1563/1563 [==============================] - 31s 20ms/step - loss: 0.6780 - accuracy: 0.7648 - val_loss: 0.8036 - val_accuracy: 0.7335\n",
            "Epoch 20/20\n",
            "1563/1563 [==============================] - 31s 20ms/step - loss: 0.6627 - accuracy: 0.7720 - val_loss: 0.7312 - val_accuracy: 0.7537\n"
          ],
          "name": "stdout"
        }
      ]
    },
    {
      "cell_type": "markdown",
      "metadata": {
        "id": "L5hrgReK5xwT",
        "colab_type": "text"
      },
      "source": [
        "Dropout & Data Aug"
      ]
    },
    {
      "cell_type": "code",
      "metadata": {
        "id": "ywP_ZWHERjX_",
        "colab_type": "code",
        "colab": {
          "base_uri": "https://localhost:8080/",
          "height": 697
        },
        "outputId": "8218853b-a599-47a7-a8ae-0b3370f4f73c"
      },
      "source": [
        "model = Sequential()\n",
        "model.add(Conv2D(32, (3, 3), padding='same',input_shape=x_train.shape[1:]))\n",
        "model.add(Activation('relu'))\n",
        "model.add(Conv2D(32, (3, 3), padding='same'))\n",
        "model.add(Activation('relu'))\n",
        "model.add(MaxPooling2D(pool_size=(2, 2)))\n",
        "model.add(Dropout(0.25))\n",
        "\n",
        "model.add(Conv2D(64, (3, 3), padding='same'))\n",
        "model.add(Activation('relu'))\n",
        "model.add(Conv2D(64, (3, 3), padding='same'))\n",
        "model.add(Activation('relu'))\n",
        "model.add(MaxPooling2D(pool_size=(2, 2)))\n",
        "model.add(Dropout(0.25))\n",
        "\n",
        "model.add(Flatten())\n",
        "model.add(Dense(512))\n",
        "model.add(Activation('relu'))\n",
        "model.add(Dropout(0.5))\n",
        "model.add(Dense(num_classes))\n",
        "model.add(Activation('softmax'))\n",
        "\n",
        "# Let's train the model using RMSprop\n",
        "model.compile(loss='categorical_crossentropy',\n",
        "              optimizer=opt,\n",
        "              metrics=['accuracy'])\n",
        "\n",
        "datagen = ImageDataGenerator(\n",
        "    featurewise_center=False,  # set input mean to 0 over the dataset\n",
        "    samplewise_center=False,  # set each sample mean to 0\n",
        "    featurewise_std_normalization=False,  # divide inputs by std of the dataset\n",
        "    samplewise_std_normalization=False,  # divide each input by its std\n",
        "    zca_whitening=False,  # apply ZCA whitening\n",
        "    zca_epsilon=1e-06,  # epsilon for ZCA whitening\n",
        "    rotation_range=0,  # randomly rotate images in the range (degrees, 0 to 180)\n",
        "    # randomly shift images horizontally (fraction of total width)\n",
        "    width_shift_range=0.1,\n",
        "    # randomly shift images vertically (fraction of total height)\n",
        "    height_shift_range=0.1,\n",
        "    shear_range=0.,  # set range for random shear\n",
        "    zoom_range=0.,  # set range for random zoom\n",
        "    channel_shift_range=0.,  # set range for random channel shifts\n",
        "    # set mode for filling points outside the input boundaries\n",
        "    fill_mode='nearest',\n",
        "    cval=0.,  # value used for fill_mode = \"constant\"\n",
        "    horizontal_flip=True,  # randomly flip images\n",
        "    vertical_flip=False,  # randomly flip images\n",
        "    # set rescaling factor (applied before any other transformation)\n",
        "    rescale=None,\n",
        "    # set function that will be applied on each input\n",
        "    preprocessing_function=None,\n",
        "    # image data format, either \"channels_first\" or \"channels_last\"\n",
        "    data_format=None,\n",
        "    # fraction of images reserved for validation (strictly between 0 and 1)\n",
        "    validation_split=0.0)\n",
        "\n",
        "# Compute quantities required for feature-wise normalization\n",
        "# (std, mean, and principal components if ZCA whitening is applied).\n",
        "datagen.fit(x_train)\n",
        "\n",
        "# Fit the model on the batches generated by datagen.flow().\n",
        "drop_aug = model.fit_generator(datagen.flow(x_train, y_train,\n",
        "                                  batch_size=batch_size),\n",
        "                    steps_per_epoch=1563,\n",
        "                    epochs=epochs,\n",
        "                    validation_data=(x_test, y_test),\n",
        "                    workers=4)"
      ],
      "execution_count": 17,
      "outputs": [
        {
          "output_type": "stream",
          "text": [
            "Epoch 1/20\n",
            "1563/1563 [==============================] - 32s 21ms/step - loss: 1.8549 - accuracy: 0.3201 - val_loss: 1.5566 - val_accuracy: 0.4405\n",
            "Epoch 2/20\n",
            "1563/1563 [==============================] - 32s 21ms/step - loss: 1.5681 - accuracy: 0.4307 - val_loss: 1.3809 - val_accuracy: 0.5032\n",
            "Epoch 3/20\n",
            "1563/1563 [==============================] - 33s 21ms/step - loss: 1.4368 - accuracy: 0.4820 - val_loss: 1.3386 - val_accuracy: 0.5161\n",
            "Epoch 4/20\n",
            "1563/1563 [==============================] - 32s 21ms/step - loss: 1.3450 - accuracy: 0.5166 - val_loss: 1.1717 - val_accuracy: 0.5856\n",
            "Epoch 5/20\n",
            "1563/1563 [==============================] - 32s 21ms/step - loss: 1.2719 - accuracy: 0.5461 - val_loss: 1.1589 - val_accuracy: 0.5934\n",
            "Epoch 6/20\n",
            "1563/1563 [==============================] - 32s 21ms/step - loss: 1.2055 - accuracy: 0.5712 - val_loss: 1.0740 - val_accuracy: 0.6183\n",
            "Epoch 7/20\n",
            "1563/1563 [==============================] - 31s 20ms/step - loss: 1.1573 - accuracy: 0.5882 - val_loss: 1.0845 - val_accuracy: 0.6194\n",
            "Epoch 8/20\n",
            "1563/1563 [==============================] - 31s 20ms/step - loss: 1.1216 - accuracy: 0.6027 - val_loss: 1.0147 - val_accuracy: 0.6380\n",
            "Epoch 9/20\n",
            "1563/1563 [==============================] - 32s 20ms/step - loss: 1.0878 - accuracy: 0.6175 - val_loss: 0.9726 - val_accuracy: 0.6569\n",
            "Epoch 10/20\n",
            "1563/1563 [==============================] - 31s 20ms/step - loss: 1.0620 - accuracy: 0.6251 - val_loss: 0.9409 - val_accuracy: 0.6715\n",
            "Epoch 11/20\n",
            "1563/1563 [==============================] - 32s 20ms/step - loss: 1.0386 - accuracy: 0.6359 - val_loss: 0.9401 - val_accuracy: 0.6705\n",
            "Epoch 12/20\n",
            "1563/1563 [==============================] - 32s 20ms/step - loss: 1.0118 - accuracy: 0.6468 - val_loss: 0.9414 - val_accuracy: 0.6758\n",
            "Epoch 13/20\n",
            "1563/1563 [==============================] - 32s 21ms/step - loss: 0.9874 - accuracy: 0.6546 - val_loss: 0.9461 - val_accuracy: 0.6713\n",
            "Epoch 14/20\n",
            "1563/1563 [==============================] - 32s 20ms/step - loss: 0.9767 - accuracy: 0.6586 - val_loss: 0.8657 - val_accuracy: 0.7004\n",
            "Epoch 15/20\n",
            "1563/1563 [==============================] - 32s 20ms/step - loss: 0.9600 - accuracy: 0.6657 - val_loss: 0.8230 - val_accuracy: 0.7127\n",
            "Epoch 16/20\n",
            "1563/1563 [==============================] - 33s 21ms/step - loss: 0.9514 - accuracy: 0.6676 - val_loss: 0.8211 - val_accuracy: 0.7147\n",
            "Epoch 17/20\n",
            "1563/1563 [==============================] - 34s 21ms/step - loss: 0.9406 - accuracy: 0.6739 - val_loss: 0.8467 - val_accuracy: 0.7079\n",
            "Epoch 18/20\n",
            "1563/1563 [==============================] - 32s 21ms/step - loss: 0.9255 - accuracy: 0.6818 - val_loss: 0.8530 - val_accuracy: 0.7141\n",
            "Epoch 19/20\n",
            "1563/1563 [==============================] - 32s 21ms/step - loss: 0.9159 - accuracy: 0.6837 - val_loss: 0.7821 - val_accuracy: 0.7290\n",
            "Epoch 20/20\n",
            "1563/1563 [==============================] - 32s 21ms/step - loss: 0.9058 - accuracy: 0.6844 - val_loss: 0.8602 - val_accuracy: 0.7043\n"
          ],
          "name": "stdout"
        }
      ]
    },
    {
      "cell_type": "code",
      "metadata": {
        "id": "2m2Y6d19EWpq",
        "colab_type": "code",
        "colab": {
          "base_uri": "https://localhost:8080/",
          "height": 295
        },
        "outputId": "89efc5f2-caf3-4af3-fada-a7b274a466f3"
      },
      "source": [
        "plt.plot(reference.history['accuracy'])\n",
        "plt.plot(no_dropout.history['accuracy'])\n",
        "plt.plot(no_drop_aug.history['accuracy'])\n",
        "plt.plot(drop_aug.history['accuracy'])\n",
        "\n",
        "plt.title('training accuracy')\n",
        "plt.ylabel('training accuracy')\n",
        "plt.xlabel('epoch')\n",
        "plt.legend(['dropout, no data aug', 'no dropout, no data aug', 'dropout, data aug', 'no drop out, no data aug'], loc='upper left')\n",
        "plt.grid(True)\n",
        "plt.gca().set_ylim(0,1)\n",
        "plt.show()"
      ],
      "execution_count": 19,
      "outputs": [
        {
          "output_type": "display_data",
          "data": {
            "image/png": "[encoded data removed]",
            "text/plain": [
              "<Figure size 432x288 with 1 Axes>"
            ]
          },
          "metadata": {
            "tags": [],
            "needs_background": "light"
          }
        }
      ]
    },
    {
      "cell_type": "code",
      "metadata": {
        "id": "j9-ygM8dEZco",
        "colab_type": "code",
        "colab": {
          "base_uri": "https://localhost:8080/",
          "height": 295
        },
        "outputId": "dc647a95-c0cd-44f8-ca58-030501ea6997"
      },
      "source": [
        "plt.plot(reference.history['val_accuracy'])\n",
        "plt.plot(no_dropout.history['val_accuracy'])\n",
        "plt.plot(no_drop_aug.history['val_accuracy'])\n",
        "plt.plot(drop_aug.history['val_accuracy'])\n",
        "\n",
        "plt.title('validation accuracy')\n",
        "plt.ylabel('validation accuracy')\n",
        "plt.xlabel('epoch')\n",
        "plt.legend(['dropout, no data aug', 'no dropout, no data aug', 'dropout, data aug', 'no drop out, no data aug'], loc='upper left')\n",
        "plt.grid(True)\n",
        "plt.gca().set_ylim(0,1)\n",
        "plt.show()"
      ],
      "execution_count": 20,
      "outputs": [
        {
          "output_type": "display_data",
          "data": {
            "image/png": "[encoded data removed]",
            "text/plain": [
              "<Figure size 432x288 with 1 Axes>"
            ]
          },
          "metadata": {
            "tags": [],
            "needs_background": "light"
          }
        }
      ]
    },
    {
      "cell_type": "markdown",
      "metadata": {
        "id": "F9Yi8EK6Rj6g",
        "colab_type": "text"
      },
      "source": [
        "The regime without dropout and without data augmentation learns the fastest, However, it also overfits the most as we increase the number of iterations. Data augmentation helps tremendously to imrpvoe generalization. Grouput helps to improve generalization when there is no data augmentation, but worsens the results when there is data augmentation. "
      ]
    },
    {
      "cell_type": "markdown",
      "metadata": {
        "id": "x5QfDvR4LxQv",
        "colab_type": "text"
      },
      "source": [
        "d) Compare the accuracy achieved when training the convolutional neural network in cifar10 cnn cs480.py\n",
        "with three different optimizers: RMSprop, Adagrad and Adam. Modify the code in cifar10 cnn cs480.py\n",
        "to use the Adagrad and Adam optimizers (with default parameters). Produce two graphs (one for training accuracy and the other one for test accuracy) that each contain 3 curves (for RMSprop, Adagrad and\n",
        "Adam). The y-axis is the accuracy and the x-axis is the number of epochs. Produce curves for as many\n",
        "epochs as you can up to 100 epochs. Explain the results (i.e., why did some optimizers perform better\n",
        "or worse than other optimizers). No marks will be deducted for doing less than 100 epochs. No need to\n",
        "submit your code since the modifications are simple"
      ]
    },
    {
      "cell_type": "markdown",
      "metadata": {
        "id": "rtk8wTolLpT9",
        "colab_type": "text"
      },
      "source": [
        "CNN Model Architecture"
      ]
    },
    {
      "cell_type": "code",
      "metadata": {
        "id": "XK7asad3LnAO",
        "colab_type": "code",
        "colab": {}
      },
      "source": [
        "model = Sequential()\n",
        "model.add(Conv2D(32, (3, 3), padding='same',input_shape=x_train.shape[1:]))\n",
        "model.add(Activation('relu'))\n",
        "model.add(Conv2D(32, (3, 3), padding='same'))\n",
        "model.add(Activation('relu'))\n",
        "model.add(MaxPooling2D(pool_size=(2, 2)))\n",
        "model.add(Dropout(0.25))\n",
        "\n",
        "model.add(Conv2D(64, (3, 3), padding='same'))\n",
        "model.add(Activation('relu'))\n",
        "model.add(Conv2D(64, (3, 3), padding='same'))\n",
        "model.add(Activation('relu'))\n",
        "model.add(MaxPooling2D(pool_size=(2, 2)))\n",
        "model.add(Dropout(0.25))\n",
        "\n",
        "model.add(Flatten())\n",
        "model.add(Dense(512))\n",
        "model.add(Activation('relu'))\n",
        "model.add(Dropout(0.5))\n",
        "model.add(Dense(num_classes))\n",
        "model.add(Activation('softmax'))"
      ],
      "execution_count": 21,
      "outputs": []
    },
    {
      "cell_type": "code",
      "metadata": {
        "id": "7U7qP2x_L5eq",
        "colab_type": "code",
        "colab": {
          "base_uri": "https://localhost:8080/",
          "height": 697
        },
        "outputId": "d1e39550-204a-4d29-9757-3881901e28ff"
      },
      "source": [
        "opt = keras.optimizers.Adam(lr=0.0001, decay=1e-6)\n",
        "\n",
        "model.compile(loss='categorical_crossentropy',\n",
        "              optimizer=opt,\n",
        "              metrics=['accuracy'])\n",
        "\n",
        "adam = model.fit(x_train, y_train,\n",
        "                batch_size=batch_size,\n",
        "                epochs=epochs,\n",
        "                validation_data=(x_test, y_test),\n",
        "                shuffle=True)"
      ],
      "execution_count": 22,
      "outputs": [
        {
          "output_type": "stream",
          "text": [
            "Epoch 1/20\n",
            "1563/1563 [==============================] - 8s 5ms/step - loss: 1.7262 - accuracy: 0.3687 - val_loss: 1.4074 - val_accuracy: 0.4934\n",
            "Epoch 2/20\n",
            "1563/1563 [==============================] - 8s 5ms/step - loss: 1.3924 - accuracy: 0.4996 - val_loss: 1.2239 - val_accuracy: 0.5681\n",
            "Epoch 3/20\n",
            "1563/1563 [==============================] - 8s 5ms/step - loss: 1.2388 - accuracy: 0.5593 - val_loss: 1.0980 - val_accuracy: 0.6130\n",
            "Epoch 4/20\n",
            "1563/1563 [==============================] - 8s 5ms/step - loss: 1.1323 - accuracy: 0.6006 - val_loss: 1.0461 - val_accuracy: 0.6262\n",
            "Epoch 5/20\n",
            "1563/1563 [==============================] - 8s 5ms/step - loss: 1.0533 - accuracy: 0.6272 - val_loss: 0.9657 - val_accuracy: 0.6646\n",
            "Epoch 6/20\n",
            "1563/1563 [==============================] - 8s 5ms/step - loss: 0.9842 - accuracy: 0.6529 - val_loss: 0.9512 - val_accuracy: 0.6677\n",
            "Epoch 7/20\n",
            "1563/1563 [==============================] - 8s 5ms/step - loss: 0.9356 - accuracy: 0.6705 - val_loss: 0.8786 - val_accuracy: 0.6927\n",
            "Epoch 8/20\n",
            "1563/1563 [==============================] - 8s 5ms/step - loss: 0.8835 - accuracy: 0.6922 - val_loss: 0.8736 - val_accuracy: 0.6932\n",
            "Epoch 9/20\n",
            "1563/1563 [==============================] - 8s 5ms/step - loss: 0.8482 - accuracy: 0.7036 - val_loss: 0.8222 - val_accuracy: 0.7143\n",
            "Epoch 10/20\n",
            "1563/1563 [==============================] - 8s 5ms/step - loss: 0.7993 - accuracy: 0.7221 - val_loss: 0.7964 - val_accuracy: 0.7215\n",
            "Epoch 11/20\n",
            "1563/1563 [==============================] - 8s 5ms/step - loss: 0.7660 - accuracy: 0.7323 - val_loss: 0.7676 - val_accuracy: 0.7361\n",
            "Epoch 12/20\n",
            "1563/1563 [==============================] - 8s 5ms/step - loss: 0.7275 - accuracy: 0.7443 - val_loss: 0.7554 - val_accuracy: 0.7422\n",
            "Epoch 13/20\n",
            "1563/1563 [==============================] - 8s 5ms/step - loss: 0.6996 - accuracy: 0.7559 - val_loss: 0.7355 - val_accuracy: 0.7424\n",
            "Epoch 14/20\n",
            "1563/1563 [==============================] - 8s 5ms/step - loss: 0.6683 - accuracy: 0.7654 - val_loss: 0.7291 - val_accuracy: 0.7506\n",
            "Epoch 15/20\n",
            "1563/1563 [==============================] - 8s 5ms/step - loss: 0.6398 - accuracy: 0.7760 - val_loss: 0.7235 - val_accuracy: 0.7504\n",
            "Epoch 16/20\n",
            "1563/1563 [==============================] - 8s 5ms/step - loss: 0.6114 - accuracy: 0.7845 - val_loss: 0.7015 - val_accuracy: 0.7583\n",
            "Epoch 17/20\n",
            "1563/1563 [==============================] - 8s 5ms/step - loss: 0.5856 - accuracy: 0.7947 - val_loss: 0.7210 - val_accuracy: 0.7535\n",
            "Epoch 18/20\n",
            "1563/1563 [==============================] - 8s 5ms/step - loss: 0.5636 - accuracy: 0.7999 - val_loss: 0.6827 - val_accuracy: 0.7621\n",
            "Epoch 19/20\n",
            "1563/1563 [==============================] - 8s 5ms/step - loss: 0.5386 - accuracy: 0.8107 - val_loss: 0.6756 - val_accuracy: 0.7649\n",
            "Epoch 20/20\n",
            "1563/1563 [==============================] - 8s 5ms/step - loss: 0.5144 - accuracy: 0.8179 - val_loss: 0.6676 - val_accuracy: 0.7716\n"
          ],
          "name": "stdout"
        }
      ]
    },
    {
      "cell_type": "code",
      "metadata": {
        "id": "OU1PC7qIL6b3",
        "colab_type": "code",
        "colab": {
          "base_uri": "https://localhost:8080/",
          "height": 697
        },
        "outputId": "470890a2-3ca7-40e7-e833-94b893f8f7b0"
      },
      "source": [
        "opt = keras.optimizers.Adagrad(lr=0.0001, decay=1e-6)\n",
        "\n",
        "model.compile(loss='categorical_crossentropy',\n",
        "              optimizer=opt,\n",
        "              metrics=['accuracy'])\n",
        "\n",
        "adagrad = model.fit(x_train, y_train,\n",
        "                batch_size=batch_size,\n",
        "                epochs=epochs,\n",
        "                validation_data=(x_test, y_test),\n",
        "                shuffle=True)"
      ],
      "execution_count": 23,
      "outputs": [
        {
          "output_type": "stream",
          "text": [
            "Epoch 1/20\n",
            "1563/1563 [==============================] - 8s 5ms/step - loss: 0.4682 - accuracy: 0.8371 - val_loss: 0.6553 - val_accuracy: 0.7776\n",
            "Epoch 2/20\n",
            "1563/1563 [==============================] - 8s 5ms/step - loss: 0.4615 - accuracy: 0.8398 - val_loss: 0.6557 - val_accuracy: 0.7774\n",
            "Epoch 3/20\n",
            "1563/1563 [==============================] - 8s 5ms/step - loss: 0.4609 - accuracy: 0.8398 - val_loss: 0.6555 - val_accuracy: 0.7780\n",
            "Epoch 4/20\n",
            "1563/1563 [==============================] - 8s 5ms/step - loss: 0.4575 - accuracy: 0.8389 - val_loss: 0.6562 - val_accuracy: 0.7776\n",
            "Epoch 5/20\n",
            "1563/1563 [==============================] - 8s 5ms/step - loss: 0.4524 - accuracy: 0.8411 - val_loss: 0.6560 - val_accuracy: 0.7784\n",
            "Epoch 6/20\n",
            "1563/1563 [==============================] - 8s 5ms/step - loss: 0.4526 - accuracy: 0.8399 - val_loss: 0.6560 - val_accuracy: 0.7781\n",
            "Epoch 7/20\n",
            "1563/1563 [==============================] - 8s 5ms/step - loss: 0.4489 - accuracy: 0.8433 - val_loss: 0.6560 - val_accuracy: 0.7782\n",
            "Epoch 8/20\n",
            "1563/1563 [==============================] - 8s 5ms/step - loss: 0.4509 - accuracy: 0.8435 - val_loss: 0.6555 - val_accuracy: 0.7786\n",
            "Epoch 9/20\n",
            "1563/1563 [==============================] - 8s 5ms/step - loss: 0.4524 - accuracy: 0.8396 - val_loss: 0.6552 - val_accuracy: 0.7777\n",
            "Epoch 10/20\n",
            "1563/1563 [==============================] - 8s 5ms/step - loss: 0.4461 - accuracy: 0.8449 - val_loss: 0.6561 - val_accuracy: 0.7781\n",
            "Epoch 11/20\n",
            "1563/1563 [==============================] - 8s 5ms/step - loss: 0.4451 - accuracy: 0.8442 - val_loss: 0.6564 - val_accuracy: 0.7780\n",
            "Epoch 12/20\n",
            "1563/1563 [==============================] - 8s 5ms/step - loss: 0.4458 - accuracy: 0.8434 - val_loss: 0.6555 - val_accuracy: 0.7780\n",
            "Epoch 13/20\n",
            "1563/1563 [==============================] - 8s 5ms/step - loss: 0.4460 - accuracy: 0.8460 - val_loss: 0.6556 - val_accuracy: 0.7785\n",
            "Epoch 14/20\n",
            "1563/1563 [==============================] - 8s 5ms/step - loss: 0.4470 - accuracy: 0.8443 - val_loss: 0.6559 - val_accuracy: 0.7782\n",
            "Epoch 15/20\n",
            "1563/1563 [==============================] - 8s 5ms/step - loss: 0.4442 - accuracy: 0.8456 - val_loss: 0.6556 - val_accuracy: 0.7786\n",
            "Epoch 16/20\n",
            "1563/1563 [==============================] - 8s 5ms/step - loss: 0.4428 - accuracy: 0.8444 - val_loss: 0.6554 - val_accuracy: 0.7784\n",
            "Epoch 17/20\n",
            "1563/1563 [==============================] - 8s 5ms/step - loss: 0.4408 - accuracy: 0.8459 - val_loss: 0.6561 - val_accuracy: 0.7788\n",
            "Epoch 18/20\n",
            "1563/1563 [==============================] - 8s 5ms/step - loss: 0.4440 - accuracy: 0.8435 - val_loss: 0.6559 - val_accuracy: 0.7788\n",
            "Epoch 19/20\n",
            "1563/1563 [==============================] - 8s 5ms/step - loss: 0.4418 - accuracy: 0.8456 - val_loss: 0.6556 - val_accuracy: 0.7787\n",
            "Epoch 20/20\n",
            "1563/1563 [==============================] - 8s 5ms/step - loss: 0.4441 - accuracy: 0.8442 - val_loss: 0.6558 - val_accuracy: 0.7790\n"
          ],
          "name": "stdout"
        }
      ]
    },
    {
      "cell_type": "code",
      "metadata": {
        "id": "wAy8-1B3NFpa",
        "colab_type": "code",
        "colab": {
          "base_uri": "https://localhost:8080/",
          "height": 295
        },
        "outputId": "e5b5feb9-ea3e-4d42-ff24-e0f0016eb6df"
      },
      "source": [
        "plt.plot(reference.history['accuracy'])\n",
        "plt.plot(adam.history['accuracy'])\n",
        "plt.plot(adagrad.history['accuracy'])\n",
        "\n",
        "plt.title('training accuracy')\n",
        "plt.ylabel('training accuracy')\n",
        "plt.xlabel('epoch')\n",
        "plt.legend(['RMSprop', 'Adam', 'Adagrad'], loc='upper left')\n",
        "plt.grid(True)\n",
        "plt.gca().set_ylim(0,1)\n",
        "plt.show()"
      ],
      "execution_count": 24,
      "outputs": [
        {
          "output_type": "display_data",
          "data": {
            "image/png": "[encoded data removed]",
            "text/plain": [
              "<Figure size 432x288 with 1 Axes>"
            ]
          },
          "metadata": {
            "tags": [],
            "needs_background": "light"
          }
        }
      ]
    },
    {
      "cell_type": "code",
      "metadata": {
        "id": "mKdTvZ6wNIyw",
        "colab_type": "code",
        "colab": {
          "base_uri": "https://localhost:8080/",
          "height": 295
        },
        "outputId": "309072b9-4ff6-413b-f583-4a9a2773147b"
      },
      "source": [
        "plt.plot(reference.history['val_accuracy'])\n",
        "plt.plot(adam.history['val_accuracy'])\n",
        "plt.plot(adagrad.history['val_accuracy'])\n",
        "\n",
        "plt.title('validation accuracy')\n",
        "plt.ylabel('validation accuracy')\n",
        "plt.xlabel('epoch')\n",
        "plt.legend(['RMSprop', 'Adam', 'Adagrad'], loc='upper left')\n",
        "plt.grid(True)\n",
        "plt.gca().set_ylim(0,1)\n",
        "plt.show()"
      ],
      "execution_count": 25,
      "outputs": [
        {
          "output_type": "display_data",
          "data": {
            "image/png": "[encoded data removed]",
            "text/plain": [
              "<Figure size 432x288 with 1 Axes>"
            ]
          },
          "metadata": {
            "tags": [],
            "needs_background": "light"
          }
        }
      ]
    },
    {
      "cell_type": "markdown",
      "metadata": {
        "id": "aBc0MiEaRUHc",
        "colab_type": "text"
      },
      "source": [
        "The adagrad optimizer performed the best followed by Adam and RMSprop. Adagrad quickly decays the learning rate by dividing the square root of the sume of square of partial derivatives. This was benegicial in this problme and as a result of quickly decaying learning rates, the accuracy curve was fairly smooth. "
      ]
    },
    {
      "cell_type": "markdown",
      "metadata": {
        "id": "M9NgDBbYPo_N",
        "colab_type": "text"
      },
      "source": [
        "e) Compare the accuracy of the convolutional neural network in the file cifar10 cnn cs480.py with\n",
        "a modified version that replaces each stack of (CONV2D, Activation, CONV2D, Activation) layers with\n",
        "3x3 filters by a smaller stack of (CONV2D, Activation) layers with 5x5 filters. Produce two graphs (one\n",
        "for training accuracy and the other one for test accuracy) that each contain 2 curves (for 3x3 filters and\n",
        "5x5 filters). The y-axis is the accuracy and the x-axis is the number of epochs. Produce curves for as\n",
        "many epochs as you can up to 100 epochs. Submit your code and explain the results (i.e., why did one\n",
        "architecture perform better or worse than the other architecture). No marks will be deducted for doing less\n",
        "than 100 epochs."
      ]
    },
    {
      "cell_type": "code",
      "metadata": {
        "id": "yur7i21-OAqa",
        "colab_type": "code",
        "colab": {
          "base_uri": "https://localhost:8080/",
          "height": 697
        },
        "outputId": "63088b10-ca17-4ceb-f0a0-7aac33f7d05a"
      },
      "source": [
        "model = Sequential()\n",
        "model.add(Conv2D(32, (5, 5), padding='same',input_shape=x_train.shape[1:]))\n",
        "model.add(Activation('relu'))\n",
        "model.add(MaxPooling2D(pool_size=(2, 2)))\n",
        "model.add(Dropout(0.25))\n",
        "\n",
        "model.add(Conv2D(64, (5, 5), padding='same'))\n",
        "model.add(Activation('relu'))\n",
        "model.add(MaxPooling2D(pool_size=(2, 2)))\n",
        "model.add(Dropout(0.25))\n",
        "\n",
        "model.add(Flatten())\n",
        "model.add(Dense(512))\n",
        "model.add(Activation('relu'))\n",
        "model.add(Dropout(0.5))\n",
        "model.add(Dense(num_classes))\n",
        "model.add(Activation('softmax'))\n",
        "\n",
        "opt = keras.optimizers.RMSprop(lr=0.0001, decay=1e-6)\n",
        "\n",
        "model.compile(loss='categorical_crossentropy',\n",
        "              optimizer=opt,\n",
        "              metrics=['accuracy'])\n",
        "\n",
        "fivebyfive = model.fit(x_train, y_train,\n",
        "                batch_size=batch_size,\n",
        "                epochs=epochs,\n",
        "                validation_data=(x_test, y_test),\n",
        "                shuffle=True)"
      ],
      "execution_count": 27,
      "outputs": [
        {
          "output_type": "stream",
          "text": [
            "Epoch 1/20\n",
            "1563/1563 [==============================] - 8s 5ms/step - loss: 1.7780 - accuracy: 0.3555 - val_loss: 1.5897 - val_accuracy: 0.4413\n",
            "Epoch 2/20\n",
            "1563/1563 [==============================] - 8s 5ms/step - loss: 1.4448 - accuracy: 0.4812 - val_loss: 1.3021 - val_accuracy: 0.5428\n",
            "Epoch 3/20\n",
            "1563/1563 [==============================] - 8s 5ms/step - loss: 1.3159 - accuracy: 0.5294 - val_loss: 1.2032 - val_accuracy: 0.5779\n",
            "Epoch 4/20\n",
            "1563/1563 [==============================] - 8s 5ms/step - loss: 1.2198 - accuracy: 0.5665 - val_loss: 1.1570 - val_accuracy: 0.6006\n",
            "Epoch 5/20\n",
            "1563/1563 [==============================] - 8s 5ms/step - loss: 1.1474 - accuracy: 0.5949 - val_loss: 1.0744 - val_accuracy: 0.6303\n",
            "Epoch 6/20\n",
            "1563/1563 [==============================] - 8s 5ms/step - loss: 1.0864 - accuracy: 0.6176 - val_loss: 1.0487 - val_accuracy: 0.6297\n",
            "Epoch 7/20\n",
            "1563/1563 [==============================] - 8s 5ms/step - loss: 1.0424 - accuracy: 0.6373 - val_loss: 0.9857 - val_accuracy: 0.6644\n",
            "Epoch 8/20\n",
            "1563/1563 [==============================] - 8s 5ms/step - loss: 1.0029 - accuracy: 0.6496 - val_loss: 0.9520 - val_accuracy: 0.6717\n",
            "Epoch 9/20\n",
            "1563/1563 [==============================] - 8s 5ms/step - loss: 0.9684 - accuracy: 0.6636 - val_loss: 0.9444 - val_accuracy: 0.6759\n",
            "Epoch 10/20\n",
            "1563/1563 [==============================] - 8s 5ms/step - loss: 0.9411 - accuracy: 0.6763 - val_loss: 0.9398 - val_accuracy: 0.6774\n",
            "Epoch 11/20\n",
            "1563/1563 [==============================] - 8s 5ms/step - loss: 0.9120 - accuracy: 0.6830 - val_loss: 0.9199 - val_accuracy: 0.6833\n",
            "Epoch 12/20\n",
            "1563/1563 [==============================] - 8s 5ms/step - loss: 0.8939 - accuracy: 0.6919 - val_loss: 0.8711 - val_accuracy: 0.7021\n",
            "Epoch 13/20\n",
            "1563/1563 [==============================] - 8s 5ms/step - loss: 0.8755 - accuracy: 0.6977 - val_loss: 0.8832 - val_accuracy: 0.7002\n",
            "Epoch 14/20\n",
            "1563/1563 [==============================] - 8s 5ms/step - loss: 0.8612 - accuracy: 0.7033 - val_loss: 0.8963 - val_accuracy: 0.6981\n",
            "Epoch 15/20\n",
            "1563/1563 [==============================] - 8s 5ms/step - loss: 0.8436 - accuracy: 0.7111 - val_loss: 0.8551 - val_accuracy: 0.7103\n",
            "Epoch 16/20\n",
            "1563/1563 [==============================] - 8s 5ms/step - loss: 0.8324 - accuracy: 0.7139 - val_loss: 0.8879 - val_accuracy: 0.6927\n",
            "Epoch 17/20\n",
            "1563/1563 [==============================] - 8s 5ms/step - loss: 0.8198 - accuracy: 0.7195 - val_loss: 0.8612 - val_accuracy: 0.7183\n",
            "Epoch 18/20\n",
            "1563/1563 [==============================] - 8s 5ms/step - loss: 0.8083 - accuracy: 0.7245 - val_loss: 0.8832 - val_accuracy: 0.7165\n",
            "Epoch 19/20\n",
            "1563/1563 [==============================] - 8s 5ms/step - loss: 0.8034 - accuracy: 0.7252 - val_loss: 0.8439 - val_accuracy: 0.7195\n",
            "Epoch 20/20\n",
            "1563/1563 [==============================] - 8s 5ms/step - loss: 0.7956 - accuracy: 0.7308 - val_loss: 0.8054 - val_accuracy: 0.7318\n"
          ],
          "name": "stdout"
        }
      ]
    },
    {
      "cell_type": "code",
      "metadata": {
        "id": "-xa_5WtVPlYb",
        "colab_type": "code",
        "colab": {
          "base_uri": "https://localhost:8080/",
          "height": 295
        },
        "outputId": "a0531afb-d493-4a0b-8cb1-d305e35690e3"
      },
      "source": [
        "plt.plot(reference.history['accuracy'])\n",
        "plt.plot(fivebyfive.history['accuracy'])\n",
        "\n",
        "plt.title('training accuracy')\n",
        "plt.ylabel('training accuracy')\n",
        "plt.xlabel('epoch')\n",
        "plt.legend(['Two 3x3 filters', 'One 5x5 filter'], loc='upper left')\n",
        "plt.grid(True)\n",
        "plt.gca().set_ylim(0,1)\n",
        "plt.show()"
      ],
      "execution_count": 28,
      "outputs": [
        {
          "output_type": "display_data",
          "data": {
            "image/png": "[encoded data removed]",
            "text/plain": [
              "<Figure size 432x288 with 1 Axes>"
            ]
          },
          "metadata": {
            "tags": [],
            "needs_background": "light"
          }
        }
      ]
    },
    {
      "cell_type": "code",
      "metadata": {
        "id": "r6toPmIdP08Q",
        "colab_type": "code",
        "colab": {
          "base_uri": "https://localhost:8080/",
          "height": 295
        },
        "outputId": "815478ad-91ed-4e08-896f-e5680587a0e6"
      },
      "source": [
        "plt.plot(reference.history['val_accuracy'])\n",
        "plt.plot(fivebyfive.history['val_accuracy'])\n",
        "\n",
        "plt.title('validation accuracy')\n",
        "plt.ylabel('validation accuracy')\n",
        "plt.xlabel('epoch')\n",
        "plt.legend(['Two 3x3 filters', 'One 5x5 filter'], loc='upper left')\n",
        "plt.grid(True)\n",
        "plt.gca().set_ylim(0,1)\n",
        "plt.show()"
      ],
      "execution_count": 29,
      "outputs": [
        {
          "output_type": "display_data",
          "data": {
            "image/png": "[encoded data removed]",
            "text/plain": [
              "<Figure size 432x288 with 1 Axes>"
            ]
          },
          "metadata": {
            "tags": [],
            "needs_background": "light"
          }
        }
      ]
    },
    {
      "cell_type": "markdown",
      "metadata": {
        "id": "FgNiCKWKQ-hT",
        "colab_type": "text"
      },
      "source": [
        "The network with 2 stacked 3x3 filters performed better than a single 5x5 filter. This is consistent with theory since stacking paris of 3x3 filters, we obtain deeper networks with fewer parameters while ensuring that a 4x4 receptive field is still used in the computation of each feature map."
      ]
    },
    {
      "cell_type": "markdown",
      "metadata": {
        "id": "vL_JOnprP9wq",
        "colab_type": "text"
      },
      "source": [
        "# Question 2\n",
        "\n",
        "In object recognition, translating an image by a few pixels in some direction should not affect the\n",
        "category recognized. Suppose that we consider images with an object in the foreground on top of a uniform\n",
        "background. Suppose also that the objects of interest are always at least 10 pixels away from the borders of the\n",
        "image. Are the following neural networks invariant to translations of at most 10 pixels in some direction? Here\n",
        "the translation is applied only to the foreground object while keeping the background fixed. If your answer is\n",
        "yes, show that the neural network will necessarily produce the same output for two images where the foreground\n",
        "object is translated by at most 10 pixels. If your answer is no, provide a counter example by describing a situation\n",
        "where the output of the neural network is different for two images where the foreground object is translated by\n",
        "at most 10 pixels.\n",
        "\n",
        "a) Neural network with one hidden layer consisting of convolutions (5x5 patches with a stride of 1\n",
        "in each direction) and a softmax output layer.\n",
        "\n",
        "No, it is not translation invariant. Consider an image $I$ and its translation $I'$. The hidden units activated by the image $i$ are different than those activated by $I'$. Since the weights in the softmax layer can be arbitrary, the ouput of the network depends on which hidden units are activated and therefore $I$ and $I'$ generally yield different outputs.\n",
        "\n",
        "\n",
        "b) Neural network with two hidden layers consisting of convolutions (5x5 patches with a stride of 1\n",
        "in each direction) followed by max pooling (4x4 patches with a stride of 4 in each direction) and a softmax\n",
        "output layer.\n",
        "\n",
        "No, max pooling only leads to local invariance and not global invariance. Consider an image $I$ and its translation $I'$. Max pooling over patches of 4x4 only ensure that local translation within each patch do not affect the output. Since the image is shifted globally then different units will be activated by $I$ and $I'$ in both the convolution and max ooling layers."
      ]
    }
  ]
}