{
  "nbformat": 4,
  "nbformat_minor": 0,
  "metadata": {
    "colab": {
      "name": "CS480A1.ipynb",
      "provenance": [],
      "collapsed_sections": [],
      "authorship_tag": "ABX9TyNMXaWxd2+xYLECTQlBr0NB"
    },
    "kernelspec": {
      "name": "python3",
      "display_name": "Python 3"
    }
  },
  "cells": [
    {
      "cell_type": "markdown",
      "metadata": {
        "id": "IF5us4WPcsZd",
        "colab_type": "text"
      },
      "source": [
        "# Question 1\n",
        "\n",
        "Implementation of k-nearest neighbours and cross validation from scratch to better understand the algorithms. Each input x is classified according to the most frequent class amongst its k nearest neighbours as measured by the Euclidean distance (L2-norm)."
      ]
    },
    {
      "cell_type": "code",
      "metadata": {
        "id": "IlTSWap0cqbw",
        "colab_type": "code",
        "colab": {}
      },
      "source": [
        "import numpy as np\n",
        "from scipy import stats\n",
        "\n",
        "class NearestNeighbors:\n",
        "  \n",
        "  def __init__(self, n_neighbors=5):\n",
        "    self.n_neighbors = n_neighbors\n",
        "    self.X = []\n",
        "    self.y = []\n",
        "\n",
        "  def fit(self, X, y):\n",
        "    self.X = X\n",
        "    self.y = y\n",
        "\n",
        "  def kneighbors(self, X):\n",
        "    np_X = np.array(X)\n",
        "    np_space = np.array(self.X)\n",
        "    ret = []\n",
        "    for i in range(np_X.shape[0]):\n",
        "      dist = np.linalg.norm(np_space - np_X[i], axis=1)\n",
        "      idx = np.argpartition(dist, self.n_neighbors)\n",
        "      ret.append(list(idx[:self.n_neighbors]))\n",
        "    return ret\n",
        "  \n",
        "  def predict(self, X):\n",
        "    classifications = []\n",
        "    set_neighbors = self.kneighbors(X)\n",
        "    for i in range(len(set_neighbors)):\n",
        "      neighbor_labels = []\n",
        "      for index in set_neighbors[i]:\n",
        "        neighbor_labels.append(self.y[index])\n",
        "      # find most common classification of neighbor indeces\n",
        "      classification = stats.mode(neighbor_labels)\n",
        "      classifications.append(classification[0][0])\n",
        "    return classifications\n",
        "  \n",
        "  def model_accuracy(self, X, y):\n",
        "      classifications = self.predict(X)\n",
        "      correct = 0\n",
        "      for i in range(len(classifications)):\n",
        "        if classifications[i] == y[i]:\n",
        "          correct += 1\n",
        "      model_accuracy = correct / len(y)\n",
        "      return model_accuracy"
      ],
      "execution_count": 0,
      "outputs": []
    },
    {
      "cell_type": "markdown",
      "metadata": {
        "id": "J0rxGl0suHsU",
        "colab_type": "text"
      },
      "source": [
        "The dataset being used is a modified version of the Optical Recognition of Handwritten Digits Dataset from the UCI repository. It contains pre-processed black and white images of the digits 5 and 6. Each attribute indicates how many pixels are black in a patch of 4 x 4 pixels.\n",
        "\n",
        "Format: there is one row per image and one column per attribute. The class labels are 5 and 6. The training set is already divided into 10 subsets for 10-fold cross validation."
      ]
    },
    {
      "cell_type": "code",
      "metadata": {
        "id": "cDlVIy0uKu3q",
        "colab_type": "code",
        "colab": {}
      },
      "source": [
        "import pandas as pd\n",
        "import itertools\n",
        "\n",
        "github_url = 'https://raw.githubusercontent.com/RohanK99/machine-learning/master/knn-dataset/'\n",
        "\n",
        "# read test data\n",
        "def read_test_data():  \n",
        "  data_url = github_url + 'testData.csv'\n",
        "  label_url = github_url + 'testLabels.csv'\n",
        "  data = pd.read_csv(data_url, header=None)\n",
        "  test_data = data.values.tolist()\n",
        "  labels = pd.read_csv(label_url, header=None)\n",
        "  test_labels = labels.values.tolist()\n",
        "  return test_data, list(itertools.chain.from_iterable(test_labels))\n",
        "\n",
        "# read training data\n",
        "def read_training_data():\n",
        "  training_data = []\n",
        "  training_labels = []\n",
        "  for i in range(10):\n",
        "    url = github_url + 'trainData{}.csv'.format(i+1)\n",
        "    data = pd.read_csv(url, header=None)\n",
        "    training_data.append(data.values.tolist())\n",
        "    url = github_url + 'trainLabels{}.csv'.format(i+1)\n",
        "    data = pd.read_csv(url, header=None)\n",
        "    training_labels.append(data.values.tolist())\n",
        "  return training_data, training_labels\n",
        "\n",
        "# X must be already be split into cv parts\n",
        "def knn_cross_validation(X, y, cv=10):\n",
        "  accuracy = [0]*int((len(list(itertools.chain.from_iterable(X)))*((cv-1)/cv)))\n",
        "  for i in range(0, len(X)):\n",
        "    validation_set = X[i]\n",
        "    validation_labels = list(itertools.chain.from_iterable(y[i]))\n",
        "    training_set = list(itertools.chain.from_iterable(X[:i] + X[i+1:]))\n",
        "    training_labels = list(itertools.chain.from_iterable( \\\n",
        "                        list(itertools.chain.from_iterable(y[:i] + y[i+1:]))))\n",
        "    for k in range(1, len(training_set)): # try all K up till training_set size\n",
        "      correct = 0 # number of correct classifications\n",
        "      n = NearestNeighbors(n_neighbors=k) # k nearest neighbors \n",
        "      n.fit(training_set, training_labels) # train KNN with training set\n",
        "      classifications = n.predict(validation_set) # predict validaton set\n",
        "      for index in range(len(classifications)):\n",
        "        # if validation set was predicted correctly increment counter\n",
        "        if classifications[index] == validation_labels[index]:\n",
        "          correct += 1\n",
        "      # calculate average accuracy for all k-fold trials\n",
        "      accuracy[k] = (accuracy[k] * i + (correct / len(validation_labels)))/(i+1)\n",
        "  return range(len(training_set)), accuracy"
      ],
      "execution_count": 0,
      "outputs": []
    },
    {
      "cell_type": "markdown",
      "metadata": {
        "id": "--JwDDGHvIhy",
        "colab_type": "text"
      },
      "source": [
        "The driver script runs 10 cross validation finding an optimal k. This parameter k is used for KNN prediction and finds the model accuracy relative to a test set. The k value might be skewed because for classification ties it is classified as the smaller of the 2 numbers. For a more optimal solution a weighted KNN should be used."
      ]
    },
    {
      "cell_type": "code",
      "metadata": {
        "id": "sFSEFwV1h-xq",
        "colab_type": "code",
        "outputId": "7c8675ee-0f2c-4b11-cd9f-9c5b37b8ee70",
        "colab": {
          "base_uri": "https://localhost:8080/",
          "height": 329
        }
      },
      "source": [
        "import matplotlib.pyplot as plt\n",
        "\n",
        "training_data, training_labels = read_training_data()\n",
        "x, y = knn_cross_validation(training_data, training_labels)\n",
        "plt.plot(x[1:31], y[1:31], '-o') # peak can be found in first 30 values\n",
        "plt.title('k-fold accuracy vs knn k-value')\n",
        "plt.ylabel('k-fold accuracy')\n",
        "plt.xlabel('knn k-value')\n",
        "plt.show()\n",
        "\n",
        "# format training_data for model_accuracy\n",
        "training_data = list(itertools.chain.from_iterable(training_data))\n",
        "training_labels = list(itertools.chain.from_iterable( \\\n",
        "                    list(itertools.chain.from_iterable(training_labels))))\n",
        "test_data, test_labels = read_test_data()\n",
        "\n",
        "k = y.index(max(y)) # optimal k\n",
        "print(\"Optimal k: \" + str(k))\n",
        "n = NearestNeighbors(n_neighbors=k)\n",
        "n.fit(training_data, training_labels)\n",
        "print(\"Model Accuracy: \" + str(n.model_accuracy(test_data, test_labels)))"
      ],
      "execution_count": 19,
      "outputs": [
        {
          "output_type": "display_data",
          "data": {
            "image/png": "[encoded data removed]",
            "text/plain": [
              "<Figure size 432x288 with 1 Axes>"
            ]
          },
          "metadata": {
            "tags": [],
            "needs_background": "light"
          }
        },
        {
          "output_type": "stream",
          "text": [
            "Optimal k: 19\n",
            "Model Accuracy: 0.7272727272727273\n"
          ],
          "name": "stdout"
        }
      ]
    },
    {
      "cell_type": "markdown",
      "metadata": {
        "id": "84_5hhIe2OFQ",
        "colab_type": "text"
      },
      "source": [
        "# Question 2\n",
        "\n",
        "Implementation of n-dimensional regularized linear least square regression with the\n",
        "penalty term 0.5λw<sup>T</sup>w"
      ]
    },
    {
      "cell_type": "code",
      "metadata": {
        "id": "n-5ot0Z6rhkg",
        "colab_type": "code",
        "colab": {}
      },
      "source": [
        "import matplotlib.pyplot as plt\n",
        "import numpy as np\n",
        "import pandas as pd\n",
        "import itertools\n",
        "\n",
        "github_url = 'https://raw.githubusercontent.com/RohanK99/machine-learning/master/regression-dataset/'\n",
        "\n",
        "# read test data\n",
        "def read_test_data():\n",
        "  data_url = github_url + 'testInput.csv'\n",
        "  label_url = github_url + 'testTarget.csv'\n",
        "  data = pd.read_csv(data_url, header=None)\n",
        "  test_data = data.values.tolist()\n",
        "  labels = pd.read_csv(label_url, header=None)\n",
        "  test_labels = labels.values.tolist()\n",
        "  return test_data, test_labels\n",
        "\n",
        "# read training data\n",
        "def read_training_data():\n",
        "  training_data = []\n",
        "  training_labels = []\n",
        "  for i in range(10):\n",
        "    url = github_url + 'trainInput{}.csv'.format(i+1)\n",
        "    data = pd.read_csv(url, header=None)\n",
        "    training_data.append(data.values.tolist())\n",
        "    url = github_url + 'trainTarget{}.csv'.format(i+1)\n",
        "    data = pd.read_csv(url, header=None)\n",
        "    training_labels.append(data.values.tolist())\n",
        "  return training_data, training_labels\n",
        "\n",
        "# cross validation to find optimal hyperparameter lambda for regula\n",
        "def linear_regression_cross_validation(X, y):\n",
        "  accuracy = [0] * 40\n",
        "  for i in range(len(X)):\n",
        "    # shape data and fill first X column with ones for the constant linear variable\n",
        "    validation_target = np.array(y[i])\n",
        "    validation_set = np.array(X[i])\n",
        "    validation_set = np.c_[np.ones(validation_target.size), validation_set]\n",
        "    training_target = np.array(list(itertools.chain.from_iterable(y[:i] + y[i+1:])))\n",
        "    training_set = np.array(list(itertools.chain.from_iterable(X[:i] + X[i+1:])))\n",
        "    training_set = np.c_[np.ones(training_target.size), training_set]\n",
        "\n",
        "    hyper_lambda = 0\n",
        "    index = 0\n",
        "    while(hyper_lambda < 4): # try lambda between 0 and 4 at intervals of 0.1\n",
        "      theta = linear_regression(training_set, training_target, hyper_lambda)\n",
        "      predicted = validation_set@theta\n",
        "      squared_error = np.square(predicted - validation_target)\n",
        "      accuracy[index] = (accuracy[index] * i + (np.mean(squared_error)))/(i+1)\n",
        "      hyper_lambda += 0.1\n",
        "      index += 1\n",
        "  return accuracy\n",
        "    \n",
        "def linear_regression(X, y, hyper_lambda):\n",
        "  # using regularized closed form solution to return theta (weights)\n",
        "  # theta = inverse(Lambda*IdentityMatrix+X'*X)*X'*y\n",
        "  A = np.transpose(X)@X\n",
        "  b = np.transpose(X)@y\n",
        "  theta = np.linalg.pinv(hyper_lambda * np.eye(A.shape[0]) + A)@b\n",
        "  return theta"
      ],
      "execution_count": 0,
      "outputs": []
    },
    {
      "cell_type": "code",
      "metadata": {
        "id": "zDip48L19E2U",
        "colab_type": "code",
        "colab": {
          "base_uri": "https://localhost:8080/",
          "height": 346
        },
        "outputId": "0e26a0d8-4d8f-440d-9877-0f7640c4aa58"
      },
      "source": [
        "# find best value for lambda\n",
        "training_input, training_target = read_training_data()\n",
        "accuracy = linear_regression_cross_validation(training_input, training_target)\n",
        "\n",
        "# plot Mean Square error in relation to Lambda\n",
        "x = np.arange(0, 4, 0.1).tolist()\n",
        "plt.plot(x, accuracy, '-o')\n",
        "plt.title('Linear Regression with Lambda Hyperparameter')\n",
        "plt.ylabel('Mean Square Error')\n",
        "plt.xlabel('Lambda')\n",
        "plt.show()\n",
        "\n",
        "# shape data to predict against full training set\n",
        "optimal_lambda = accuracy.index(min(accuracy))*0.1\n",
        "print(\"Optimal Lambda Hyperparamater is: \" + str(optimal_lambda))\n",
        "print(\"Cross Validation Error is: \" + str(min(accuracy)))\n",
        "training_target = np.array(list(itertools.chain.from_iterable(training_target)))\n",
        "training_input = np.array(list(itertools.chain.from_iterable(training_input)))\n",
        "training_input = np.c_[np.ones(training_target.size), training_input]\n",
        "theta = linear_regression(training_input, training_target, optimal_lambda)\n",
        "\n",
        "# predict test input and find squared error\n",
        "test_input, test_target = read_test_data()\n",
        "test_target = np.array(test_target)\n",
        "test_input = np.array(test_input)\n",
        "test_input = np.c_[np.ones(test_target.size), test_input]\n",
        "predicted = test_input@theta\n",
        "squared_error = np.square(predicted - test_target)\n",
        "print(\"Mean Squared Error: \" + str(np.mean(squared_error)))\n",
        "\n",
        "    "
      ],
      "execution_count": 154,
      "outputs": [
        {
          "output_type": "display_data",
          "data": {
            "image/png": "[encoded data removed]",
            "text/plain": [
              "<Figure size 432x288 with 1 Axes>"
            ]
          },
          "metadata": {
            "tags": [],
            "needs_background": "light"
          }
        },
        {
          "output_type": "stream",
          "text": [
            "Optimal Lambda Hyperparamater is: 1.3\n",
            "Cross Validation Error is: 1.3460667080501711\n",
            "Mean Squared Error: 1.4361103474411636\n"
          ],
          "name": "stdout"
        }
      ]
    },
    {
      "cell_type": "markdown",
      "metadata": {
        "id": "rMpBr9E8wSeM",
        "colab_type": "text"
      },
      "source": [
        "# Question 3\n",
        "\n",
        "Part a)\n",
        "$$\n",
        "\\begin{align*}\n",
        "L(w,b) &= \\sum _{n=1}^{m}{r_n\\left(y_n - wx_n + b\\right)^2}\\\\\n",
        "&= (y - v^T\\overline{X})R(y - v^T\\overline{X})^T \\\\\n",
        "&= yRy^T - 2yR\\overline{X}^Tv + v^T\\overline{X}R\\overline{X}^Tv \\\\\n",
        "\\textrm{where} \\\\\n",
        "v &= \\begin{bmatrix}\n",
        "-b \\\\\n",
        "w\n",
        "\\end{bmatrix} \\\\\n",
        "y &= \\begin{bmatrix}\n",
        "y_1, y_2, ..., y_N\n",
        "\\end{bmatrix} \\\\\n",
        "\\overline{X} &= \\begin{bmatrix}\n",
        "1, 1, ..., 1 \\\\\n",
        "x_1, x_2, ...,x_N \n",
        "\\end{bmatrix} \\\\\n",
        "\\end{align*}\n",
        "$$\n",
        "\n",
        "Now assuming that the weights of $r_n$ are positive then the objective is a convex quadratic function of $w$ and $b$. The minimum then occurs at the point of zero gradient. \n",
        "\n",
        "$$\n",
        "\\begin{align*}\n",
        "0 &= \\nabla L(v) = -2\\overline{X}Ry^T + 2\\overline{X}R\\overline{X}^Tv \\\\\n",
        "\\textrm{Solving for } v \\\\\n",
        "v &= (\\overline{X}R\\overline{X}^T)^{-1} \\overline{X}Ry^T \\\\\n",
        "\\end{align*}\n",
        "$$\n",
        "\n",
        "Part b)\n",
        "\n",
        "\n",
        "Suppose $y_n = w^Tx_n - b + \\epsilon _n$ where $\\epsilon _n$ is a zero-mean Gaussian random variable with variance $\\sigma _n^2$. Thus, the conditional density of $y_n$ given $x_n$ is a Gaussian with mean $w^Tx_n - b$ and variance $\\sigma _i^2$. The negative log-likelihood is\n",
        "\n",
        "$$\n",
        "\\begin{align*}\n",
        "-l(w,b) &= -log Pr(y_1,...,y_N|x_1, ...,x_N) \\\\\n",
        "&= -log \\prod_{n=1}^{N}{Pr(y_n|x_n)} \\\\\n",
        "&= - \\sum _{n=1}^{N}{logPr(y_n|x_n)} \\\\\n",
        "&= \\sum _{n=1}^{N}{log\\left(\\sqrt{2\\pi \\sigma _n^2}\\right)} + \\sum _{n=1}^{N}{\\frac{\\left(y_n-w^Tx_n + b\\right)^2}{2\\sigma _n^2}} \\\\\n",
        "\\end{align*}\n",
        "$$\n",
        "\n",
        "First term is constant with respect to $w$ and $b$. So minimizing the negative log-likelihood is equivalent to minimizing only the second term, which is the same as our objective function with $r_n = \\frac{1}{2\\sigma _n^2}$. The variance of measurement $n$ in this model is thus inversely proportional to the weight $r_n : \\sigma _n^2 \\propto \\frac{1}{r_n}$ "
      ]
    }
  ]
}