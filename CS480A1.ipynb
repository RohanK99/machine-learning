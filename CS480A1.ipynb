{
  "nbformat": 4,
  "nbformat_minor": 0,
  "metadata": {
    "colab": {
      "name": "CS480A1.ipynb",
      "provenance": [],
      "collapsed_sections": [],
      "toc_visible": true,
      "authorship_tag": "ABX9TyNTYR5iUAGviSAesS/oA2jA"
    },
    "kernelspec": {
      "name": "python3",
      "display_name": "Python 3"
    }
  },
  "cells": [
    {
      "cell_type": "markdown",
      "metadata": {
        "id": "IF5us4WPcsZd",
        "colab_type": "text"
      },
      "source": [
        "# Question 1\n",
        "\n",
        "Implementation of k-nearest neighbours and cross validation from scratch to better understand the algorithms. Each input x is classified according to the most frequent class amongst its k nearest neighbours as measured by the Euclidean distance (L2-norm)."
      ]
    },
    {
      "cell_type": "code",
      "metadata": {
        "id": "IlTSWap0cqbw",
        "colab_type": "code",
        "colab": {}
      },
      "source": [
        "import numpy as np\n",
        "from scipy import stats\n",
        "\n",
        "class NearestNeighbors:\n",
        "  \n",
        "  def __init__(self, n_neighbors=5):\n",
        "    self.n_neighbors = n_neighbors\n",
        "    self.X = []\n",
        "    self.y = []\n",
        "\n",
        "  def fit(self, X, y):\n",
        "    self.X = X\n",
        "    self.y = y\n",
        "\n",
        "  def kneighbors(self, X):\n",
        "    np_X = np.array(X)\n",
        "    np_space = np.array(self.X)\n",
        "    ret = []\n",
        "    for i in range(np_X.shape[0]):\n",
        "      dist = np.linalg.norm(np_space - np_X[i], axis=1)\n",
        "      idx = np.argpartition(dist, self.n_neighbors)\n",
        "      ret.append(list(idx[:self.n_neighbors]))\n",
        "    return ret\n",
        "  \n",
        "  def predict(self, X):\n",
        "    classifications = []\n",
        "    set_neighbors = self.kneighbors(X)\n",
        "    for i in range(len(set_neighbors)):\n",
        "      neighbor_labels = []\n",
        "      for index in set_neighbors[i]:\n",
        "        neighbor_labels.append(self.y[index])\n",
        "      # find most common classification of neighbor indeces\n",
        "      classification = stats.mode(neighbor_labels)\n",
        "      classifications.append(classification[0][0])\n",
        "    return classifications\n",
        "  \n",
        "  def model_accuracy(self, X, y):\n",
        "      classifications = self.predict(X)\n",
        "      correct = 0\n",
        "      for i in classifications:\n",
        "        if classifications[i] == y[i]:\n",
        "          correct += 1\n",
        "      model_accuracy = correct / len(y)\n",
        "      return model_accuracy"
      ],
      "execution_count": 0,
      "outputs": []
    },
    {
      "cell_type": "markdown",
      "metadata": {
        "id": "J0rxGl0suHsU",
        "colab_type": "text"
      },
      "source": [
        "The dataset being used is a modified version of the Optical Recognition of Handwritten Digits Dataset from the UCI repository. It contains pre-processed black and white images of the digits 5 and 6. Each attribute indicates how many pixels are black in a patch of 4 x 4 pixels.\n",
        "\n",
        "Format: there is one row per image and one column per attribute. The class labels are 5 and 6. The training set is already divided into 10 subsets for 10-fold cross validation."
      ]
    },
    {
      "cell_type": "code",
      "metadata": {
        "id": "cDlVIy0uKu3q",
        "colab_type": "code",
        "colab": {}
      },
      "source": [
        "import pandas as pd\n",
        "import itertools\n",
        "\n",
        "github_url = 'https://raw.githubusercontent.com/RohanK99/machine-learning/master/knn-dataset/'\n",
        "\n",
        "# read test data\n",
        "def read_test_data():  \n",
        "  data_url = github_url + 'testData.csv'\n",
        "  label_url = github_url + 'testLabels.csv'\n",
        "  data = pd.read_csv(data_url, header=None)\n",
        "  test_data = data.values.tolist()\n",
        "  labels = pd.read_csv(label_url)\n",
        "  test_labels = labels.values.tolist()\n",
        "  return test_data, list(itertools.chain.from_iterable(test_labels))\n",
        "\n",
        "# read training data\n",
        "def read_training_data():\n",
        "  training_data = []\n",
        "  training_labels = []\n",
        "  for i in range(10):\n",
        "    url = github_url + 'trainData{}.csv'.format(i+1)\n",
        "    data = pd.read_csv(url, header=None)\n",
        "    training_data.append(data.values.tolist())\n",
        "    url = github_url + 'trainLabels{}.csv'.format(i+1)\n",
        "    data = pd.read_csv(url, header=None)\n",
        "    training_labels.append(data.values.tolist())\n",
        "  return training_data, training_labels\n",
        "\n",
        "# X must be already be split into cv parts\n",
        "def cross_validation(X, y, cv=10):\n",
        "  accuracy = [0]*int((len(list(itertools.chain.from_iterable(X)))*((cv-1)/cv)))\n",
        "  for i in range(0, len(X)):\n",
        "    validation_set = X[i]\n",
        "    validation_labels = list(itertools.chain.from_iterable(y[i]))\n",
        "    training_set = list(itertools.chain.from_iterable(X[:i] + X[i+1:]))\n",
        "    training_labels = list(itertools.chain.from_iterable( \\\n",
        "                        list(itertools.chain.from_iterable(y[:i] + y[i+1:]))))\n",
        "    for k in range(1, len(training_set)): # try all K up till training_set size\n",
        "      correct = 0 # number of correct classifications\n",
        "      n = NearestNeighbors(n_neighbors=k) # k nearest neighbors \n",
        "      n.fit(training_set, training_labels) # train KNN with training set\n",
        "      classifications = n.predict(validation_set) # predict validaton set\n",
        "      for index in range(len(classifications)):\n",
        "        # if validation set was predicted correctly increment counter\n",
        "        if classifications[index] == validation_labels[index]:\n",
        "          correct += 1\n",
        "      # calculate average accuracy for all k-fold trials\n",
        "      accuracy[k] = (accuracy[k] * i + (correct / len(validation_labels)))/(i+1)\n",
        "  return range(len(training_set)), accuracy"
      ],
      "execution_count": 0,
      "outputs": []
    },
    {
      "cell_type": "markdown",
      "metadata": {
        "id": "--JwDDGHvIhy",
        "colab_type": "text"
      },
      "source": [
        "The driver script runs 10 cross validation finding an optimal k. This parameter k is used for KNN prediction and finds the model accuracy relative to a test set. The k value might be skewed because for classification ties it is classified as the smaller of the 2 numbers. For a more optimal solution a weighted KNN should be used."
      ]
    },
    {
      "cell_type": "code",
      "metadata": {
        "id": "sFSEFwV1h-xq",
        "colab_type": "code",
        "colab": {
          "base_uri": "https://localhost:8080/",
          "height": 329
        },
        "outputId": "5d70e3c0-f0d3-4d14-974c-5ec4a514d222"
      },
      "source": [
        "import matplotlib.pyplot as plt\n",
        "\n",
        "training_data, training_labels = read_training_data()\n",
        "x, y = cross_validation(training_data, training_labels)\n",
        "plt.plot(x[1:31], y[1:31], '-o') # peak can be found in first 30 values\n",
        "plt.title('k-fold accuracy vs knn k-value')\n",
        "plt.ylabel('k-fold accuracy')\n",
        "plt.xlabel('knn k-value')\n",
        "plt.show()\n",
        "\n",
        "# format training_data for model_accuracy\n",
        "training_data = list(itertools.chain.from_iterable(training_data))\n",
        "training_labels = list(itertools.chain.from_iterable( \\\n",
        "                  list(itertools.chain.from_iterable(training_labels))))\n",
        "test_data, test_labels = read_test_data()\n",
        "\n",
        "k = y.index(max(y)) # optimal k\n",
        "print(\"Optimal k: \" + str(k))\n",
        "n = NearestNeighbors(n_neighbors=k)\n",
        "n.fit(training_data, training_labels)\n",
        "print(\"Model Accuracy: \" + str(n.model_accuracy(test_data, test_labels)))"
      ],
      "execution_count": 20,
      "outputs": [
        {
          "output_type": "display_data",
          "data": {
            "image/png": "[encoded data removed]",
            "text/plain": [
              "<Figure size 432x288 with 1 Axes>"
            ]
          },
          "metadata": {
            "tags": [],
            "needs_background": "light"
          }
        },
        {
          "output_type": "stream",
          "text": [
            "Optimal k: 19\n",
            "Model Accuracy: 0.6697247706422018\n"
          ],
          "name": "stdout"
        }
      ]
    }
  ]
}